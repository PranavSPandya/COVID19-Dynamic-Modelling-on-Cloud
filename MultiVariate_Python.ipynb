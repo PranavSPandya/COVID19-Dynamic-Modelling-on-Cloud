{
  "nbformat": 4,
  "nbformat_minor": 0,
  "metadata": {
    "kernelspec": {
      "display_name": "Python 2",
      "language": "python",
      "name": "python2"
    },
    "language_info": {
      "codemirror_mode": {
        "name": "ipython",
        "version": 2
      },
      "file_extension": ".py",
      "mimetype": "text/x-python",
      "name": "python",
      "nbconvert_exporter": "python",
      "pygments_lexer": "ipython2",
      "version": "2.7.11"
    },
    "colab": {
      "name": "MultiVariate Python",
      "provenance": [],
      "include_colab_link": true
    }
  },
  "cells": [
    {
      "cell_type": "markdown",
      "metadata": {
        "id": "view-in-github",
        "colab_type": "text"
      },
      "source": [
        "<a href=\"https://colab.research.google.com/github/PranavSPandya/COVID19-Dynamic-Modelling-on-Cloud/blob/master/MultiVariate_Python.ipynb\" target=\"_parent\"><img src=\"https://colab.research.google.com/assets/colab-badge.svg\" alt=\"Open In Colab\"/></a>"
      ]
    },
    {
      "cell_type": "markdown",
      "metadata": {
        "id": "wD_MhWB9lYyo",
        "colab_type": "text"
      },
      "source": [
        "# A Little Book of Python for Multivariate Analysis"
      ]
    },
    {
      "cell_type": "markdown",
      "metadata": {
        "id": "ii33kbrWlYyp",
        "colab_type": "text"
      },
      "source": [
        "This booklet tells you how to use the Python ecosystem to carry out some simple multivariate analyses, with a focus on principal components analysis (PCA) and linear discriminant analysis (LDA).\n",
        "\n",
        "This booklet assumes that the reader has some basic knowledge of multivariate analyses, and the principal focus of the booklet is not to explain multivariate analyses, but rather to explain how to carry out these analyses using Python.\n",
        "\n",
        "If you are new to multivariate analysis, and want to learn more about any of the concepts presented here, there are a number of good resources, such as for example Multivariate Data Analysis by Hair et. al. or Applied Multivariate Data Analysis by Everitt and Dunn.\n",
        "\n",
        "In the examples in this booklet, I will be using data sets from the [UCI Machine Learning Repository](http://archive.ics.uci.edu/ml)."
      ]
    },
    {
      "cell_type": "markdown",
      "metadata": {
        "id": "wY6lkkTvlYyq",
        "colab_type": "text"
      },
      "source": [
        "## Setting up the python environment"
      ]
    },
    {
      "cell_type": "markdown",
      "metadata": {
        "id": "xYUAUjnWlYyr",
        "colab_type": "text"
      },
      "source": [
        "### Install Python\n",
        "\n",
        "Although there are a number of ways of getting Python to your system, for a hassle free install and quick start using, I highly recommend downloading and installing [Anaconda](https://www.continuum.io/downloads) by [Continuum](https://www.continuum.io), which is a Python distribution that contains the core packages plus a large number of packages for scientific computing and tools to easily update them, install new ones, create virtual environments, and provide IDEs such as this one, the [Jupyter notebook](https://jupyter.org) (formerly known as ipython notebook).\n",
        "\n",
        "This notebook was created with python 2.7 version. For exact details, including versions of the other libraries, see the `%watermark` directive below.\n",
        "\n",
        "\n",
        "### Libraries\n",
        "\n",
        "[Python](https://en.wikipedia.org/wiki/Python_%28programming_language%29) can typically do less out of the box than other languages, and this is due to being a genaral programming language taking a more modular approach, relying on other packages for specialized tasks.\n",
        "\n",
        "The following libraries are used here:\n",
        "\n",
        "* [pandas](http://pandas.pydata.org): The Python Data Analysis Library is used for storing the data in dataframes and manipulation.\n",
        "* [numpy](http://www.numpy.org): Python scientific computing library.\n",
        "* [matplotlib](http://matplotlib.org): Python plotting library.\n",
        "* [seaborn](http://stanford.edu/~mwaskom/software/seaborn/): Statistical data visualization based on matplotlib.\n",
        "* [scikit-learn](http://scikit-learn.org/stable/): Sklearn is a machine learning library for Python.\n",
        "* [scipy.stats](http://docs.scipy.org/doc/scipy/reference/stats.html): Provides a number of probability distributions and statistical functions.\n",
        "\n",
        "These should have been installed for you if you have installed the Anaconda Python distribution.\n",
        "\n",
        "The libraries versions are:"
      ]
    },
    {
      "cell_type": "code",
      "metadata": {
        "id": "TpMTPNxroYHE",
        "colab_type": "code",
        "colab": {
          "base_uri": "https://localhost:8080/",
          "height": 84
        },
        "outputId": "08ffb426-e6a6-44c9-fe71-9bc38a16a8b5"
      },
      "source": [
        "!git clone --progress https://github.com/gatsoulis/a_little_book_of_python_for_multivariate_analysis.git"
      ],
      "execution_count": null,
      "outputs": [
        {
          "output_type": "stream",
          "text": [
            "Cloning into 'a_little_book_of_python_for_multivariate_analysis'...\n",
            "remote: Enumerating objects: 25, done.\u001b[K\n",
            "remote: Total 25 (delta 0), reused 0 (delta 0), pack-reused 25\u001b[K\n",
            "Unpacking objects: 100% (25/25), done.\n"
          ],
          "name": "stdout"
        }
      ]
    },
    {
      "cell_type": "code",
      "metadata": {
        "id": "ufJg4cxOlYys",
        "colab_type": "code",
        "colab": {}
      },
      "source": [
        "from __future__ import print_function, division  # for compatibility with python 3.x\n",
        "import warnings\n",
        "warnings.filterwarnings('ignore')  # don't print out warnings\n",
        "\n",
        "# %install_ext https://raw.githubusercontent.com/rasbt/watermark/master/watermark.py\n",
        "# %load_ext watermark\n",
        "# %watermark -v -m -p python,pandas,numpy,matplotlib,seaborn,scikit-learn,scipy -g"
      ],
      "execution_count": null,
      "outputs": []
    },
    {
      "cell_type": "markdown",
      "metadata": {
        "id": "AuIHKZfilYyx",
        "colab_type": "text"
      },
      "source": [
        "### Importing the libraries"
      ]
    },
    {
      "cell_type": "code",
      "metadata": {
        "id": "uUEGohRYlYyy",
        "colab_type": "code",
        "colab": {}
      },
      "source": [
        "from pydoc import help  # can type in the python console `help(name of function)` to get the documentation\n",
        "import pandas as pd\n",
        "import numpy as np\n",
        "import matplotlib.pyplot as plt\n",
        "import seaborn as sns\n",
        "from sklearn.preprocessing import scale\n",
        "from sklearn.decomposition import PCA\n",
        "from sklearn.discriminant_analysis import LinearDiscriminantAnalysis\n",
        "from scipy import stats\n",
        "from IPython.display import display, HTML\n",
        "\n",
        "# figures inline in notebook\n",
        "%matplotlib inline\n",
        "\n",
        "np.set_printoptions(suppress=True)\n",
        "\n",
        "DISPLAY_MAX_ROWS = 20  # number of max rows to print for a DataFrame\n",
        "pd.set_option('display.max_rows', DISPLAY_MAX_ROWS)"
      ],
      "execution_count": null,
      "outputs": []
    },
    {
      "cell_type": "markdown",
      "metadata": {
        "id": "pE-8eREGlYy3",
        "colab_type": "text"
      },
      "source": [
        "### Python console"
      ]
    },
    {
      "cell_type": "markdown",
      "metadata": {
        "id": "qxBosQFJlYy4",
        "colab_type": "text"
      },
      "source": [
        "A useful tool to have aside a notebook for quick experimentation and data visualization is a python console attached. Uncomment the following line if you wish to have one."
      ]
    },
    {
      "cell_type": "code",
      "metadata": {
        "id": "h8rxXeNvlYy5",
        "colab_type": "code",
        "colab": {}
      },
      "source": [
        "# %qtconsole"
      ],
      "execution_count": null,
      "outputs": []
    },
    {
      "cell_type": "markdown",
      "metadata": {
        "id": "kObrFo3LlYy9",
        "colab_type": "text"
      },
      "source": [
        "## Reading Multivariate Analysis Data into Python\n",
        "\n",
        "The first thing that you will want to do to analyse your multivariate data will be to read it into Python, and to plot the data. For data analysis an I will be using the [Python Data Analysis Library](http://pandas.pydata.org) (pandas, imported as `pd`), which provides a number of useful functions for reading and analyzing the data, as well as a `DataFrame` storage structure, similar to that found in other popular data analytics languages, such as R.\n",
        "\n",
        "For example, the file http://archive.ics.uci.edu/ml/machine-learning-databases/wine/wine.data contains data on concentrations of 13 different chemicals in wines grown in the same region in Italy that are derived from three different cultivars. The data set looks like this:\n",
        "\n",
        "```\n",
        "1,14.23,1.71,2.43,15.6,127,2.8,3.06,.28,2.29,5.64,1.04,3.92,1065\n",
        "1,13.2,1.78,2.14,11.2,100,2.65,2.76,.26,1.28,4.38,1.05,3.4,1050\n",
        "1,13.16,2.36,2.67,18.6,101,2.8,3.24,.3,2.81,5.68,1.03,3.17,1185\n",
        "1,14.37,1.95,2.5,16.8,113,3.85,3.49,.24,2.18,7.8,.86,3.45,1480\n",
        "1,13.24,2.59,2.87,21,118,2.8,2.69,.39,1.82,4.32,1.04,2.93,735\n",
        "...\n",
        "```\n",
        "\n",
        "There is one row per wine sample. The first column contains the cultivar of a wine sample (labelled 1, 2 or 3), and the following thirteen columns contain the concentrations of the 13 different chemicals in that sample. The columns are separated by commas, i.e. it is a comma-separated (csv) file without a header row.\n",
        "\n",
        "The data can be read in a pandas dataframe using the `read_csv()` function. The argument `header=None` tells the function that there is no header in the beginning of the file.<a id='read_data'></a>"
      ]
    },
    {
      "cell_type": "code",
      "metadata": {
        "id": "x8rY5mFqlYy-",
        "colab_type": "code",
        "colab": {
          "base_uri": "https://localhost:8080/",
          "height": 698
        },
        "outputId": "80e7c182-5211-4916-e343-b3fa94fae41a"
      },
      "source": [
        "data = pd.read_csv(\"http://archive.ics.uci.edu/ml/machine-learning-databases/wine/wine.data\", header=None)\n",
        "data.columns = [\"V\"+str(i) for i in range(1, len(data.columns)+1)]  # rename column names to be similar to R naming convention\n",
        "data.V1 = data.V1.astype(str)\n",
        "X = data.loc[:, \"V2\":]  # independent variables data\n",
        "y = data.V1  # dependednt variable data\n",
        "data"
      ],
      "execution_count": null,
      "outputs": [
        {
          "output_type": "execute_result",
          "data": {
            "text/plain": [
              "    V1     V2    V3    V4    V5   V6    V7    V8    V9   V10        V11   V12  \\\n",
              "0    1  14.23  1.71  2.43  15.6  127  2.80  3.06  0.28  2.29   5.640000  1.04   \n",
              "1    1  13.20  1.78  2.14  11.2  100  2.65  2.76  0.26  1.28   4.380000  1.05   \n",
              "2    1  13.16  2.36  2.67  18.6  101  2.80  3.24  0.30  2.81   5.680000  1.03   \n",
              "3    1  14.37  1.95  2.50  16.8  113  3.85  3.49  0.24  2.18   7.800000  0.86   \n",
              "4    1  13.24  2.59  2.87  21.0  118  2.80  2.69  0.39  1.82   4.320000  1.04   \n",
              "5    1  14.20  1.76  2.45  15.2  112  3.27  3.39  0.34  1.97   6.750000  1.05   \n",
              "6    1  14.39  1.87  2.45  14.6   96  2.50  2.52  0.30  1.98   5.250000  1.02   \n",
              "7    1  14.06  2.15  2.61  17.6  121  2.60  2.51  0.31  1.25   5.050000  1.06   \n",
              "8    1  14.83  1.64  2.17  14.0   97  2.80  2.98  0.29  1.98   5.200000  1.08   \n",
              "9    1  13.86  1.35  2.27  16.0   98  2.98  3.15  0.22  1.85   7.220000  1.01   \n",
              "..  ..    ...   ...   ...   ...  ...   ...   ...   ...   ...        ...   ...   \n",
              "168  3  13.58  2.58  2.69  24.5  105  1.55  0.84  0.39  1.54   8.660000  0.74   \n",
              "169  3  13.40  4.60  2.86  25.0  112  1.98  0.96  0.27  1.11   8.500000  0.67   \n",
              "170  3  12.20  3.03  2.32  19.0   96  1.25  0.49  0.40  0.73   5.500000  0.66   \n",
              "171  3  12.77  2.39  2.28  19.5   86  1.39  0.51  0.48  0.64   9.899999  0.57   \n",
              "172  3  14.16  2.51  2.48  20.0   91  1.68  0.70  0.44  1.24   9.700000  0.62   \n",
              "173  3  13.71  5.65  2.45  20.5   95  1.68  0.61  0.52  1.06   7.700000  0.64   \n",
              "174  3  13.40  3.91  2.48  23.0  102  1.80  0.75  0.43  1.41   7.300000  0.70   \n",
              "175  3  13.27  4.28  2.26  20.0  120  1.59  0.69  0.43  1.35  10.200000  0.59   \n",
              "176  3  13.17  2.59  2.37  20.0  120  1.65  0.68  0.53  1.46   9.300000  0.60   \n",
              "177  3  14.13  4.10  2.74  24.5   96  2.05  0.76  0.56  1.35   9.200000  0.61   \n",
              "\n",
              "      V13   V14  \n",
              "0    3.92  1065  \n",
              "1    3.40  1050  \n",
              "2    3.17  1185  \n",
              "3    3.45  1480  \n",
              "4    2.93   735  \n",
              "5    2.85  1450  \n",
              "6    3.58  1290  \n",
              "7    3.58  1295  \n",
              "8    2.85  1045  \n",
              "9    3.55  1045  \n",
              "..    ...   ...  \n",
              "168  1.80   750  \n",
              "169  1.92   630  \n",
              "170  1.83   510  \n",
              "171  1.63   470  \n",
              "172  1.71   660  \n",
              "173  1.74   740  \n",
              "174  1.56   750  \n",
              "175  1.56   835  \n",
              "176  1.62   840  \n",
              "177  1.60   560  \n",
              "\n",
              "[178 rows x 14 columns]"
            ],
            "text/html": [
              "<div>\n",
              "<style scoped>\n",
              "    .dataframe tbody tr th:only-of-type {\n",
              "        vertical-align: middle;\n",
              "    }\n",
              "\n",
              "    .dataframe tbody tr th {\n",
              "        vertical-align: top;\n",
              "    }\n",
              "\n",
              "    .dataframe thead th {\n",
              "        text-align: right;\n",
              "    }\n",
              "</style>\n",
              "<table border=\"1\" class=\"dataframe\">\n",
              "  <thead>\n",
              "    <tr style=\"text-align: right;\">\n",
              "      <th></th>\n",
              "      <th>V1</th>\n",
              "      <th>V2</th>\n",
              "      <th>V3</th>\n",
              "      <th>V4</th>\n",
              "      <th>V5</th>\n",
              "      <th>V6</th>\n",
              "      <th>V7</th>\n",
              "      <th>V8</th>\n",
              "      <th>V9</th>\n",
              "      <th>V10</th>\n",
              "      <th>V11</th>\n",
              "      <th>V12</th>\n",
              "      <th>V13</th>\n",
              "      <th>V14</th>\n",
              "    </tr>\n",
              "  </thead>\n",
              "  <tbody>\n",
              "    <tr>\n",
              "      <th>0</th>\n",
              "      <td>1</td>\n",
              "      <td>14.23</td>\n",
              "      <td>1.71</td>\n",
              "      <td>2.43</td>\n",
              "      <td>15.6</td>\n",
              "      <td>127</td>\n",
              "      <td>2.80</td>\n",
              "      <td>3.06</td>\n",
              "      <td>0.28</td>\n",
              "      <td>2.29</td>\n",
              "      <td>5.640000</td>\n",
              "      <td>1.04</td>\n",
              "      <td>3.92</td>\n",
              "      <td>1065</td>\n",
              "    </tr>\n",
              "    <tr>\n",
              "      <th>1</th>\n",
              "      <td>1</td>\n",
              "      <td>13.20</td>\n",
              "      <td>1.78</td>\n",
              "      <td>2.14</td>\n",
              "      <td>11.2</td>\n",
              "      <td>100</td>\n",
              "      <td>2.65</td>\n",
              "      <td>2.76</td>\n",
              "      <td>0.26</td>\n",
              "      <td>1.28</td>\n",
              "      <td>4.380000</td>\n",
              "      <td>1.05</td>\n",
              "      <td>3.40</td>\n",
              "      <td>1050</td>\n",
              "    </tr>\n",
              "    <tr>\n",
              "      <th>2</th>\n",
              "      <td>1</td>\n",
              "      <td>13.16</td>\n",
              "      <td>2.36</td>\n",
              "      <td>2.67</td>\n",
              "      <td>18.6</td>\n",
              "      <td>101</td>\n",
              "      <td>2.80</td>\n",
              "      <td>3.24</td>\n",
              "      <td>0.30</td>\n",
              "      <td>2.81</td>\n",
              "      <td>5.680000</td>\n",
              "      <td>1.03</td>\n",
              "      <td>3.17</td>\n",
              "      <td>1185</td>\n",
              "    </tr>\n",
              "    <tr>\n",
              "      <th>3</th>\n",
              "      <td>1</td>\n",
              "      <td>14.37</td>\n",
              "      <td>1.95</td>\n",
              "      <td>2.50</td>\n",
              "      <td>16.8</td>\n",
              "      <td>113</td>\n",
              "      <td>3.85</td>\n",
              "      <td>3.49</td>\n",
              "      <td>0.24</td>\n",
              "      <td>2.18</td>\n",
              "      <td>7.800000</td>\n",
              "      <td>0.86</td>\n",
              "      <td>3.45</td>\n",
              "      <td>1480</td>\n",
              "    </tr>\n",
              "    <tr>\n",
              "      <th>4</th>\n",
              "      <td>1</td>\n",
              "      <td>13.24</td>\n",
              "      <td>2.59</td>\n",
              "      <td>2.87</td>\n",
              "      <td>21.0</td>\n",
              "      <td>118</td>\n",
              "      <td>2.80</td>\n",
              "      <td>2.69</td>\n",
              "      <td>0.39</td>\n",
              "      <td>1.82</td>\n",
              "      <td>4.320000</td>\n",
              "      <td>1.04</td>\n",
              "      <td>2.93</td>\n",
              "      <td>735</td>\n",
              "    </tr>\n",
              "    <tr>\n",
              "      <th>5</th>\n",
              "      <td>1</td>\n",
              "      <td>14.20</td>\n",
              "      <td>1.76</td>\n",
              "      <td>2.45</td>\n",
              "      <td>15.2</td>\n",
              "      <td>112</td>\n",
              "      <td>3.27</td>\n",
              "      <td>3.39</td>\n",
              "      <td>0.34</td>\n",
              "      <td>1.97</td>\n",
              "      <td>6.750000</td>\n",
              "      <td>1.05</td>\n",
              "      <td>2.85</td>\n",
              "      <td>1450</td>\n",
              "    </tr>\n",
              "    <tr>\n",
              "      <th>6</th>\n",
              "      <td>1</td>\n",
              "      <td>14.39</td>\n",
              "      <td>1.87</td>\n",
              "      <td>2.45</td>\n",
              "      <td>14.6</td>\n",
              "      <td>96</td>\n",
              "      <td>2.50</td>\n",
              "      <td>2.52</td>\n",
              "      <td>0.30</td>\n",
              "      <td>1.98</td>\n",
              "      <td>5.250000</td>\n",
              "      <td>1.02</td>\n",
              "      <td>3.58</td>\n",
              "      <td>1290</td>\n",
              "    </tr>\n",
              "    <tr>\n",
              "      <th>7</th>\n",
              "      <td>1</td>\n",
              "      <td>14.06</td>\n",
              "      <td>2.15</td>\n",
              "      <td>2.61</td>\n",
              "      <td>17.6</td>\n",
              "      <td>121</td>\n",
              "      <td>2.60</td>\n",
              "      <td>2.51</td>\n",
              "      <td>0.31</td>\n",
              "      <td>1.25</td>\n",
              "      <td>5.050000</td>\n",
              "      <td>1.06</td>\n",
              "      <td>3.58</td>\n",
              "      <td>1295</td>\n",
              "    </tr>\n",
              "    <tr>\n",
              "      <th>8</th>\n",
              "      <td>1</td>\n",
              "      <td>14.83</td>\n",
              "      <td>1.64</td>\n",
              "      <td>2.17</td>\n",
              "      <td>14.0</td>\n",
              "      <td>97</td>\n",
              "      <td>2.80</td>\n",
              "      <td>2.98</td>\n",
              "      <td>0.29</td>\n",
              "      <td>1.98</td>\n",
              "      <td>5.200000</td>\n",
              "      <td>1.08</td>\n",
              "      <td>2.85</td>\n",
              "      <td>1045</td>\n",
              "    </tr>\n",
              "    <tr>\n",
              "      <th>9</th>\n",
              "      <td>1</td>\n",
              "      <td>13.86</td>\n",
              "      <td>1.35</td>\n",
              "      <td>2.27</td>\n",
              "      <td>16.0</td>\n",
              "      <td>98</td>\n",
              "      <td>2.98</td>\n",
              "      <td>3.15</td>\n",
              "      <td>0.22</td>\n",
              "      <td>1.85</td>\n",
              "      <td>7.220000</td>\n",
              "      <td>1.01</td>\n",
              "      <td>3.55</td>\n",
              "      <td>1045</td>\n",
              "    </tr>\n",
              "    <tr>\n",
              "      <th>...</th>\n",
              "      <td>...</td>\n",
              "      <td>...</td>\n",
              "      <td>...</td>\n",
              "      <td>...</td>\n",
              "      <td>...</td>\n",
              "      <td>...</td>\n",
              "      <td>...</td>\n",
              "      <td>...</td>\n",
              "      <td>...</td>\n",
              "      <td>...</td>\n",
              "      <td>...</td>\n",
              "      <td>...</td>\n",
              "      <td>...</td>\n",
              "      <td>...</td>\n",
              "    </tr>\n",
              "    <tr>\n",
              "      <th>168</th>\n",
              "      <td>3</td>\n",
              "      <td>13.58</td>\n",
              "      <td>2.58</td>\n",
              "      <td>2.69</td>\n",
              "      <td>24.5</td>\n",
              "      <td>105</td>\n",
              "      <td>1.55</td>\n",
              "      <td>0.84</td>\n",
              "      <td>0.39</td>\n",
              "      <td>1.54</td>\n",
              "      <td>8.660000</td>\n",
              "      <td>0.74</td>\n",
              "      <td>1.80</td>\n",
              "      <td>750</td>\n",
              "    </tr>\n",
              "    <tr>\n",
              "      <th>169</th>\n",
              "      <td>3</td>\n",
              "      <td>13.40</td>\n",
              "      <td>4.60</td>\n",
              "      <td>2.86</td>\n",
              "      <td>25.0</td>\n",
              "      <td>112</td>\n",
              "      <td>1.98</td>\n",
              "      <td>0.96</td>\n",
              "      <td>0.27</td>\n",
              "      <td>1.11</td>\n",
              "      <td>8.500000</td>\n",
              "      <td>0.67</td>\n",
              "      <td>1.92</td>\n",
              "      <td>630</td>\n",
              "    </tr>\n",
              "    <tr>\n",
              "      <th>170</th>\n",
              "      <td>3</td>\n",
              "      <td>12.20</td>\n",
              "      <td>3.03</td>\n",
              "      <td>2.32</td>\n",
              "      <td>19.0</td>\n",
              "      <td>96</td>\n",
              "      <td>1.25</td>\n",
              "      <td>0.49</td>\n",
              "      <td>0.40</td>\n",
              "      <td>0.73</td>\n",
              "      <td>5.500000</td>\n",
              "      <td>0.66</td>\n",
              "      <td>1.83</td>\n",
              "      <td>510</td>\n",
              "    </tr>\n",
              "    <tr>\n",
              "      <th>171</th>\n",
              "      <td>3</td>\n",
              "      <td>12.77</td>\n",
              "      <td>2.39</td>\n",
              "      <td>2.28</td>\n",
              "      <td>19.5</td>\n",
              "      <td>86</td>\n",
              "      <td>1.39</td>\n",
              "      <td>0.51</td>\n",
              "      <td>0.48</td>\n",
              "      <td>0.64</td>\n",
              "      <td>9.899999</td>\n",
              "      <td>0.57</td>\n",
              "      <td>1.63</td>\n",
              "      <td>470</td>\n",
              "    </tr>\n",
              "    <tr>\n",
              "      <th>172</th>\n",
              "      <td>3</td>\n",
              "      <td>14.16</td>\n",
              "      <td>2.51</td>\n",
              "      <td>2.48</td>\n",
              "      <td>20.0</td>\n",
              "      <td>91</td>\n",
              "      <td>1.68</td>\n",
              "      <td>0.70</td>\n",
              "      <td>0.44</td>\n",
              "      <td>1.24</td>\n",
              "      <td>9.700000</td>\n",
              "      <td>0.62</td>\n",
              "      <td>1.71</td>\n",
              "      <td>660</td>\n",
              "    </tr>\n",
              "    <tr>\n",
              "      <th>173</th>\n",
              "      <td>3</td>\n",
              "      <td>13.71</td>\n",
              "      <td>5.65</td>\n",
              "      <td>2.45</td>\n",
              "      <td>20.5</td>\n",
              "      <td>95</td>\n",
              "      <td>1.68</td>\n",
              "      <td>0.61</td>\n",
              "      <td>0.52</td>\n",
              "      <td>1.06</td>\n",
              "      <td>7.700000</td>\n",
              "      <td>0.64</td>\n",
              "      <td>1.74</td>\n",
              "      <td>740</td>\n",
              "    </tr>\n",
              "    <tr>\n",
              "      <th>174</th>\n",
              "      <td>3</td>\n",
              "      <td>13.40</td>\n",
              "      <td>3.91</td>\n",
              "      <td>2.48</td>\n",
              "      <td>23.0</td>\n",
              "      <td>102</td>\n",
              "      <td>1.80</td>\n",
              "      <td>0.75</td>\n",
              "      <td>0.43</td>\n",
              "      <td>1.41</td>\n",
              "      <td>7.300000</td>\n",
              "      <td>0.70</td>\n",
              "      <td>1.56</td>\n",
              "      <td>750</td>\n",
              "    </tr>\n",
              "    <tr>\n",
              "      <th>175</th>\n",
              "      <td>3</td>\n",
              "      <td>13.27</td>\n",
              "      <td>4.28</td>\n",
              "      <td>2.26</td>\n",
              "      <td>20.0</td>\n",
              "      <td>120</td>\n",
              "      <td>1.59</td>\n",
              "      <td>0.69</td>\n",
              "      <td>0.43</td>\n",
              "      <td>1.35</td>\n",
              "      <td>10.200000</td>\n",
              "      <td>0.59</td>\n",
              "      <td>1.56</td>\n",
              "      <td>835</td>\n",
              "    </tr>\n",
              "    <tr>\n",
              "      <th>176</th>\n",
              "      <td>3</td>\n",
              "      <td>13.17</td>\n",
              "      <td>2.59</td>\n",
              "      <td>2.37</td>\n",
              "      <td>20.0</td>\n",
              "      <td>120</td>\n",
              "      <td>1.65</td>\n",
              "      <td>0.68</td>\n",
              "      <td>0.53</td>\n",
              "      <td>1.46</td>\n",
              "      <td>9.300000</td>\n",
              "      <td>0.60</td>\n",
              "      <td>1.62</td>\n",
              "      <td>840</td>\n",
              "    </tr>\n",
              "    <tr>\n",
              "      <th>177</th>\n",
              "      <td>3</td>\n",
              "      <td>14.13</td>\n",
              "      <td>4.10</td>\n",
              "      <td>2.74</td>\n",
              "      <td>24.5</td>\n",
              "      <td>96</td>\n",
              "      <td>2.05</td>\n",
              "      <td>0.76</td>\n",
              "      <td>0.56</td>\n",
              "      <td>1.35</td>\n",
              "      <td>9.200000</td>\n",
              "      <td>0.61</td>\n",
              "      <td>1.60</td>\n",
              "      <td>560</td>\n",
              "    </tr>\n",
              "  </tbody>\n",
              "</table>\n",
              "<p>178 rows × 14 columns</p>\n",
              "</div>"
            ]
          },
          "metadata": {
            "tags": []
          },
          "execution_count": 9
        }
      ]
    },
    {
      "cell_type": "markdown",
      "metadata": {
        "id": "CHXeD5LmlYzB",
        "colab_type": "text"
      },
      "source": [
        "In this case the data on 178 samples of wine has been read into the variable `data`."
      ]
    },
    {
      "cell_type": "markdown",
      "metadata": {
        "id": "qo6LnKHPlYzC",
        "colab_type": "text"
      },
      "source": [
        "## Plotting Multivariate Data\n",
        "\n",
        "Once you have read a multivariate data set into python, the next step is usually to make a plot of the data."
      ]
    },
    {
      "cell_type": "markdown",
      "metadata": {
        "id": "7lWR9b25lYzD",
        "colab_type": "text"
      },
      "source": [
        "### A Matrix Scatterplot\n",
        "\n",
        "One common way of plotting multivariate data is to make a *matrix scatterplot*, showing each pair of variables plotted against each other. We can use the `scatter_matrix()` function from the `pandas.tools.plotting` package to do this.\n",
        "\n",
        "To use the `scatter_matrix()` function, you need to give it as its input the variables that you want included in the plot. Say for example, that we just want to include the variables corresponding to the concentrations of the first five chemicals. These are stored in columns V2-V6 of the variable `data`. The parameter `diagonal` allows us to specify whether to plot a histogram (`\"hist\"`) or a Kernel Density Estimation (`\"kde\"`) for the variable. We can extract just these columns from the variable `data` by typing:"
      ]
    },
    {
      "cell_type": "code",
      "metadata": {
        "id": "Vy-9VJdDlYzE",
        "colab_type": "code",
        "colab": {
          "base_uri": "https://localhost:8080/",
          "height": 698
        },
        "outputId": "5fd1362d-4807-4356-a026-58a396fc548c"
      },
      "source": [
        "data.loc[:, \"V2\":\"V6\"]"
      ],
      "execution_count": null,
      "outputs": [
        {
          "output_type": "execute_result",
          "data": {
            "text/plain": [
              "        V2    V3    V4    V5   V6\n",
              "0    14.23  1.71  2.43  15.6  127\n",
              "1    13.20  1.78  2.14  11.2  100\n",
              "2    13.16  2.36  2.67  18.6  101\n",
              "3    14.37  1.95  2.50  16.8  113\n",
              "4    13.24  2.59  2.87  21.0  118\n",
              "5    14.20  1.76  2.45  15.2  112\n",
              "6    14.39  1.87  2.45  14.6   96\n",
              "7    14.06  2.15  2.61  17.6  121\n",
              "8    14.83  1.64  2.17  14.0   97\n",
              "9    13.86  1.35  2.27  16.0   98\n",
              "..     ...   ...   ...   ...  ...\n",
              "168  13.58  2.58  2.69  24.5  105\n",
              "169  13.40  4.60  2.86  25.0  112\n",
              "170  12.20  3.03  2.32  19.0   96\n",
              "171  12.77  2.39  2.28  19.5   86\n",
              "172  14.16  2.51  2.48  20.0   91\n",
              "173  13.71  5.65  2.45  20.5   95\n",
              "174  13.40  3.91  2.48  23.0  102\n",
              "175  13.27  4.28  2.26  20.0  120\n",
              "176  13.17  2.59  2.37  20.0  120\n",
              "177  14.13  4.10  2.74  24.5   96\n",
              "\n",
              "[178 rows x 5 columns]"
            ],
            "text/html": [
              "<div>\n",
              "<style scoped>\n",
              "    .dataframe tbody tr th:only-of-type {\n",
              "        vertical-align: middle;\n",
              "    }\n",
              "\n",
              "    .dataframe tbody tr th {\n",
              "        vertical-align: top;\n",
              "    }\n",
              "\n",
              "    .dataframe thead th {\n",
              "        text-align: right;\n",
              "    }\n",
              "</style>\n",
              "<table border=\"1\" class=\"dataframe\">\n",
              "  <thead>\n",
              "    <tr style=\"text-align: right;\">\n",
              "      <th></th>\n",
              "      <th>V2</th>\n",
              "      <th>V3</th>\n",
              "      <th>V4</th>\n",
              "      <th>V5</th>\n",
              "      <th>V6</th>\n",
              "    </tr>\n",
              "  </thead>\n",
              "  <tbody>\n",
              "    <tr>\n",
              "      <th>0</th>\n",
              "      <td>14.23</td>\n",
              "      <td>1.71</td>\n",
              "      <td>2.43</td>\n",
              "      <td>15.6</td>\n",
              "      <td>127</td>\n",
              "    </tr>\n",
              "    <tr>\n",
              "      <th>1</th>\n",
              "      <td>13.20</td>\n",
              "      <td>1.78</td>\n",
              "      <td>2.14</td>\n",
              "      <td>11.2</td>\n",
              "      <td>100</td>\n",
              "    </tr>\n",
              "    <tr>\n",
              "      <th>2</th>\n",
              "      <td>13.16</td>\n",
              "      <td>2.36</td>\n",
              "      <td>2.67</td>\n",
              "      <td>18.6</td>\n",
              "      <td>101</td>\n",
              "    </tr>\n",
              "    <tr>\n",
              "      <th>3</th>\n",
              "      <td>14.37</td>\n",
              "      <td>1.95</td>\n",
              "      <td>2.50</td>\n",
              "      <td>16.8</td>\n",
              "      <td>113</td>\n",
              "    </tr>\n",
              "    <tr>\n",
              "      <th>4</th>\n",
              "      <td>13.24</td>\n",
              "      <td>2.59</td>\n",
              "      <td>2.87</td>\n",
              "      <td>21.0</td>\n",
              "      <td>118</td>\n",
              "    </tr>\n",
              "    <tr>\n",
              "      <th>5</th>\n",
              "      <td>14.20</td>\n",
              "      <td>1.76</td>\n",
              "      <td>2.45</td>\n",
              "      <td>15.2</td>\n",
              "      <td>112</td>\n",
              "    </tr>\n",
              "    <tr>\n",
              "      <th>6</th>\n",
              "      <td>14.39</td>\n",
              "      <td>1.87</td>\n",
              "      <td>2.45</td>\n",
              "      <td>14.6</td>\n",
              "      <td>96</td>\n",
              "    </tr>\n",
              "    <tr>\n",
              "      <th>7</th>\n",
              "      <td>14.06</td>\n",
              "      <td>2.15</td>\n",
              "      <td>2.61</td>\n",
              "      <td>17.6</td>\n",
              "      <td>121</td>\n",
              "    </tr>\n",
              "    <tr>\n",
              "      <th>8</th>\n",
              "      <td>14.83</td>\n",
              "      <td>1.64</td>\n",
              "      <td>2.17</td>\n",
              "      <td>14.0</td>\n",
              "      <td>97</td>\n",
              "    </tr>\n",
              "    <tr>\n",
              "      <th>9</th>\n",
              "      <td>13.86</td>\n",
              "      <td>1.35</td>\n",
              "      <td>2.27</td>\n",
              "      <td>16.0</td>\n",
              "      <td>98</td>\n",
              "    </tr>\n",
              "    <tr>\n",
              "      <th>...</th>\n",
              "      <td>...</td>\n",
              "      <td>...</td>\n",
              "      <td>...</td>\n",
              "      <td>...</td>\n",
              "      <td>...</td>\n",
              "    </tr>\n",
              "    <tr>\n",
              "      <th>168</th>\n",
              "      <td>13.58</td>\n",
              "      <td>2.58</td>\n",
              "      <td>2.69</td>\n",
              "      <td>24.5</td>\n",
              "      <td>105</td>\n",
              "    </tr>\n",
              "    <tr>\n",
              "      <th>169</th>\n",
              "      <td>13.40</td>\n",
              "      <td>4.60</td>\n",
              "      <td>2.86</td>\n",
              "      <td>25.0</td>\n",
              "      <td>112</td>\n",
              "    </tr>\n",
              "    <tr>\n",
              "      <th>170</th>\n",
              "      <td>12.20</td>\n",
              "      <td>3.03</td>\n",
              "      <td>2.32</td>\n",
              "      <td>19.0</td>\n",
              "      <td>96</td>\n",
              "    </tr>\n",
              "    <tr>\n",
              "      <th>171</th>\n",
              "      <td>12.77</td>\n",
              "      <td>2.39</td>\n",
              "      <td>2.28</td>\n",
              "      <td>19.5</td>\n",
              "      <td>86</td>\n",
              "    </tr>\n",
              "    <tr>\n",
              "      <th>172</th>\n",
              "      <td>14.16</td>\n",
              "      <td>2.51</td>\n",
              "      <td>2.48</td>\n",
              "      <td>20.0</td>\n",
              "      <td>91</td>\n",
              "    </tr>\n",
              "    <tr>\n",
              "      <th>173</th>\n",
              "      <td>13.71</td>\n",
              "      <td>5.65</td>\n",
              "      <td>2.45</td>\n",
              "      <td>20.5</td>\n",
              "      <td>95</td>\n",
              "    </tr>\n",
              "    <tr>\n",
              "      <th>174</th>\n",
              "      <td>13.40</td>\n",
              "      <td>3.91</td>\n",
              "      <td>2.48</td>\n",
              "      <td>23.0</td>\n",
              "      <td>102</td>\n",
              "    </tr>\n",
              "    <tr>\n",
              "      <th>175</th>\n",
              "      <td>13.27</td>\n",
              "      <td>4.28</td>\n",
              "      <td>2.26</td>\n",
              "      <td>20.0</td>\n",
              "      <td>120</td>\n",
              "    </tr>\n",
              "    <tr>\n",
              "      <th>176</th>\n",
              "      <td>13.17</td>\n",
              "      <td>2.59</td>\n",
              "      <td>2.37</td>\n",
              "      <td>20.0</td>\n",
              "      <td>120</td>\n",
              "    </tr>\n",
              "    <tr>\n",
              "      <th>177</th>\n",
              "      <td>14.13</td>\n",
              "      <td>4.10</td>\n",
              "      <td>2.74</td>\n",
              "      <td>24.5</td>\n",
              "      <td>96</td>\n",
              "    </tr>\n",
              "  </tbody>\n",
              "</table>\n",
              "<p>178 rows × 5 columns</p>\n",
              "</div>"
            ]
          },
          "metadata": {
            "tags": []
          },
          "execution_count": 10
        }
      ]
    },
    {
      "cell_type": "markdown",
      "metadata": {
        "id": "WIRuk9velYzI",
        "colab_type": "text"
      },
      "source": [
        "To make a matrix scatterplot of just these 5 variables using the `scatter_matrix()` function we type:"
      ]
    },
    {
      "cell_type": "code",
      "metadata": {
        "id": "Sa6MRX2zlYzJ",
        "colab_type": "code",
        "colab": {
          "base_uri": "https://localhost:8080/",
          "height": 288
        },
        "outputId": "17b19583-8881-4e16-e21f-378f39bc87e4"
      },
      "source": [
        "pd.plotting.scatter_matrix(data.loc[:, \"V2\":\"V6\"], diagonal=\"kde\")\n",
        "# plt.tight_layout()\n",
        "\n",
        "plt.show()"
      ],
      "execution_count": null,
      "outputs": [
        {
          "output_type": "display_data",
          "data": {
            "image/png": "[encoded data removed]",
            "text/plain": [
              "<Figure size 432x288 with 25 Axes>"
            ]
          },
          "metadata": {
            "tags": [],
            "needs_background": "light"
          }
        }
      ]
    },
    {
      "cell_type": "markdown",
      "metadata": {
        "id": "6mfDB8hSlYzN",
        "colab_type": "text"
      },
      "source": [
        "In this matrix scatterplot, the diagonal cells show histograms of each of the variables, in this case the concentrations of the first five chemicals (variables V2, V3, V4, V5, V6).\n",
        "\n",
        "Each of the off-diagonal cells is a scatterplot of two of the five chemicals, for example, the second cell in the first row is a scatterplot of V2 (y-axis) against V3 (x-axis)."
      ]
    },
    {
      "cell_type": "markdown",
      "metadata": {
        "id": "jqU6dZASlYzO",
        "colab_type": "text"
      },
      "source": [
        "### A Scatterplot with the Data Points Labelled by their Group\n",
        "\n",
        "If you see an interesting scatterplot for two variables in the matrix scatterplot, you may want to plot that scatterplot in more detail, with the data points labelled by their group (their cultivar in this case).\n",
        "\n",
        "For example, in the matrix scatterplot above, the cell in the third column of the fourth row down is a scatterplot of V5 (x-axis) against V4 (y-axis). If you look at this scatterplot, it appears that there may be a positive relationship between V5 and V4.\n",
        "\n",
        "We may therefore decide to examine the relationship between `V5` and `V4` more closely, by plotting a scatterplot of these two variables, with the data points labelled by their group (their cultivar). To plot a scatterplot of two variables, we can use the `lmplot` function from the `seaborn` package. The V4 and V5 variables are stored in the columns V4 and V5 of the variable `data`. The first two parameters in the `lmplot()` function are the columns to be plotted against each other in x-y, the third parameter specifies the data, the `hue` parameter is the column name used for the labels of the datapoints, i.e. the classes they belong to, lastly, the `fit_reg` parameter is set to `False` when we do not want to plot a regression model relating to the x-y variables. Therefore, to plot the scatterplot, we type:"
      ]
    },
    {
      "cell_type": "code",
      "metadata": {
        "id": "B_11xISdlYzO",
        "colab_type": "code",
        "colab": {
          "base_uri": "https://localhost:8080/",
          "height": 369
        },
        "outputId": "bb28a461-8ffe-4718-fb6e-b3526df69df0"
      },
      "source": [
        "sns.lmplot(\"V4\", \"V5\", data, hue=\"V1\", fit_reg=False);"
      ],
      "execution_count": null,
      "outputs": [
        {
          "output_type": "display_data",
          "data": {
            "image/png": "[encoded data removed]",
            "text/plain": [
              "<Figure size 402.375x360 with 1 Axes>"
            ]
          },
          "metadata": {
            "tags": [],
            "needs_background": "light"
          }
        }
      ]
    },
    {
      "cell_type": "markdown",
      "metadata": {
        "id": "fRekLP-wlYzS",
        "colab_type": "text"
      },
      "source": [
        "We can see from the scatterplot of V4 versus V5 that the wines from cultivar 2 seem to have lower values of V4 compared to the wines of cultivar 1."
      ]
    },
    {
      "cell_type": "markdown",
      "metadata": {
        "id": "X5JEt_FPlYzT",
        "colab_type": "text"
      },
      "source": [
        "### A Profile Plot\n",
        "\n",
        "Another type of plot that is useful is a *profile plot*, which shows the variation in each of the variables, by plotting the value of each of the variables for each of the samples.\n",
        "\n",
        "This can be achieved using `pandas` plot facilities, which are built upon `matplotlib`, by running the following:"
      ]
    },
    {
      "cell_type": "code",
      "metadata": {
        "id": "tmxwgv_dlYzT",
        "colab_type": "code",
        "colab": {},
        "outputId": "8a4e8582-6278-4e33-9d89-9eccef11d082"
      },
      "source": [
        "ax = data[[\"V2\",\"V3\",\"V4\",\"V5\",\"V6\"]].plot()\n",
        "ax.legend(loc='center left', bbox_to_anchor=(1, 0.5));"
      ],
      "execution_count": null,
      "outputs": [
        {
          "output_type": "display_data",
          "data": {
            "image/png": "[encoded data removed]",
            "text/plain": [
              "<matplotlib.figure.Figure at 0x116022e50>"
            ]
          },
          "metadata": {
            "tags": []
          }
        }
      ]
    },
    {
      "cell_type": "markdown",
      "metadata": {
        "id": "AUQjt52jlYzY",
        "colab_type": "text"
      },
      "source": [
        "It is clear from the profile plot that the mean and standard deviation for V6 is quite a lot higher than that for the other variables."
      ]
    },
    {
      "cell_type": "markdown",
      "metadata": {
        "id": "cDrGFtjZlYzY",
        "colab_type": "text"
      },
      "source": [
        "## Calculating Summary Statistics for Multivariate Data\n",
        "\n",
        "Another thing that you are likely to want to do is to calculate summary statistics such as the mean and standard deviation for each of the variables in your multivariate data set.\n",
        "\n",
        "This is easy to do, using the `mean()` and `std()` functions in `numpy` and applying them to the dataframe using its member function `apply`.\n",
        "\n",
        "<p><div class=\"alert alert-success\">\n",
        "Pandas allows to do simple operations directly calling them as methods, for example we could do compute the means of a dataframe `df` by calling `df.mean()`.\n",
        "\n",
        "An alternative option is to use the `apply` method of the `pandas.DataFrame` class, which applies the passed argument function along the input axis of the DataFrame. This method is powerful as it allows passing any function we want to be applied in our data.\n",
        "</div></p>\n",
        "\n",
        "For example, say we want to calculate the mean and standard deviations of each of the 13 chemical concentrations in the wine samples. These are stored in columns V2-V14 of the variable `data`, which has been previously assigned to `X` for convenience. So we type:"
      ]
    },
    {
      "cell_type": "code",
      "metadata": {
        "id": "gn59xts3lYzZ",
        "colab_type": "code",
        "colab": {},
        "outputId": "99d70f2f-93d9-4a5d-be76-741f7dd59f98"
      },
      "source": [
        "X.apply(np.mean)"
      ],
      "execution_count": null,
      "outputs": [
        {
          "output_type": "execute_result",
          "data": {
            "text/plain": [
              "V2      13.000618\n",
              "V3       2.336348\n",
              "V4       2.366517\n",
              "V5      19.494944\n",
              "V6      99.741573\n",
              "V7       2.295112\n",
              "V8       2.029270\n",
              "V9       0.361854\n",
              "V10      1.590899\n",
              "V11      5.058090\n",
              "V12      0.957449\n",
              "V13      2.611685\n",
              "V14    746.893258\n",
              "dtype: float64"
            ]
          },
          "metadata": {
            "tags": []
          },
          "execution_count": 9
        }
      ]
    },
    {
      "cell_type": "markdown",
      "metadata": {
        "id": "3anSCbqBlYzd",
        "colab_type": "text"
      },
      "source": [
        "This tells us that the mean of variable V2 is 13.000618, the mean of V3 is 2.336348, and so on.\n",
        "\n",
        "Similarly, to get the standard deviations of the 13 chemical concentrations, we type:"
      ]
    },
    {
      "cell_type": "code",
      "metadata": {
        "id": "dBMAWBfolYzd",
        "colab_type": "code",
        "colab": {},
        "outputId": "a8b88174-351e-4a2e-d4b6-16e1df372b1d"
      },
      "source": [
        "X.apply(np.std)"
      ],
      "execution_count": null,
      "outputs": [
        {
          "output_type": "execute_result",
          "data": {
            "text/plain": [
              "V2       0.809543\n",
              "V3       1.114004\n",
              "V4       0.273572\n",
              "V5       3.330170\n",
              "V6      14.242308\n",
              "V7       0.624091\n",
              "V8       0.996049\n",
              "V9       0.124103\n",
              "V10      0.570749\n",
              "V11      2.311765\n",
              "V12      0.227929\n",
              "V13      0.707993\n",
              "V14    314.021657\n",
              "dtype: float64"
            ]
          },
          "metadata": {
            "tags": []
          },
          "execution_count": 10
        }
      ]
    },
    {
      "cell_type": "markdown",
      "metadata": {
        "id": "Ps2QouEElYzh",
        "colab_type": "text"
      },
      "source": [
        "We can see here that it would make sense to standardise in order to compare the variables because the variables have very different standard deviations - the standard deviation of V14 is 314.021657, while the standard deviation of V9 is just 0.124103. Thus, in order to compare the variables, we need to standardise each variable so that it has a sample variance of 1 and sample mean of 0. We will explain below how to standardise the variables."
      ]
    },
    {
      "cell_type": "markdown",
      "metadata": {
        "id": "hKWhIuAxlYzi",
        "colab_type": "text"
      },
      "source": [
        "### Means and Variances Per Group\n",
        "\n",
        "It is often interesting to calculate the means and standard deviations for just the samples from a particular group, for example, for the wine samples from each cultivar. The cultivar is stored in the column V1 of the variable `data`, which has been previously assigned to `y` for convenience.\n",
        "\n",
        "To extract out the data for just cultivar 2, we can type:"
      ]
    },
    {
      "cell_type": "code",
      "metadata": {
        "id": "uwGBpJPplYzi",
        "colab_type": "code",
        "colab": {}
      },
      "source": [
        "class2data = data[y==\"2\"]"
      ],
      "execution_count": null,
      "outputs": []
    },
    {
      "cell_type": "markdown",
      "metadata": {
        "id": "nCvCmA2SlYzm",
        "colab_type": "text"
      },
      "source": [
        "We can then calculate the mean and standard deviations of the 13 chemicals' concentrations, for just the cultivar 2 samples:"
      ]
    },
    {
      "cell_type": "code",
      "metadata": {
        "id": "UsxLlhudlYzn",
        "colab_type": "code",
        "colab": {},
        "outputId": "51d94658-e3e8-43d0-b05a-dbd415c65963"
      },
      "source": [
        "class2data.loc[:, \"V2\":].apply(np.mean)"
      ],
      "execution_count": null,
      "outputs": [
        {
          "output_type": "execute_result",
          "data": {
            "text/plain": [
              "V2      12.278732\n",
              "V3       1.932676\n",
              "V4       2.244789\n",
              "V5      20.238028\n",
              "V6      94.549296\n",
              "V7       2.258873\n",
              "V8       2.080845\n",
              "V9       0.363662\n",
              "V10      1.630282\n",
              "V11      3.086620\n",
              "V12      1.056282\n",
              "V13      2.785352\n",
              "V14    519.507042\n",
              "dtype: float64"
            ]
          },
          "metadata": {
            "tags": []
          },
          "execution_count": 12
        }
      ]
    },
    {
      "cell_type": "code",
      "metadata": {
        "id": "aDma0yPplYzq",
        "colab_type": "code",
        "colab": {},
        "outputId": "edaf25ae-3a35-4402-c3c5-3bcd6d31dce9"
      },
      "source": [
        "class2data.loc[:, \"V2\":].apply(np.std)"
      ],
      "execution_count": null,
      "outputs": [
        {
          "output_type": "execute_result",
          "data": {
            "text/plain": [
              "V2       0.534162\n",
              "V3       1.008391\n",
              "V4       0.313238\n",
              "V5       3.326097\n",
              "V6      16.635097\n",
              "V7       0.541507\n",
              "V8       0.700713\n",
              "V9       0.123085\n",
              "V10      0.597813\n",
              "V11      0.918393\n",
              "V12      0.201503\n",
              "V13      0.493064\n",
              "V14    156.100173\n",
              "dtype: float64"
            ]
          },
          "metadata": {
            "tags": []
          },
          "execution_count": 13
        }
      ]
    },
    {
      "cell_type": "markdown",
      "metadata": {
        "id": "PKGMXJdqlYzy",
        "colab_type": "text"
      },
      "source": [
        "You can calculate the mean and standard deviation of the 13 chemicals' concentrations for just cultivar 1 samples, or for just cultivar 3 samples, in a similar way.\n",
        "\n",
        "However, for convenience, you might want to use the function `printMeanAndSdByGroup()` below, which prints out the mean and standard deviation of the variables for each group in your data set:"
      ]
    },
    {
      "cell_type": "code",
      "metadata": {
        "id": "roWuWw1KlYzz",
        "colab_type": "code",
        "colab": {}
      },
      "source": [
        "def printMeanAndSdByGroup(variables, groupvariable):\n",
        "    data_groupby = variables.groupby(groupvariable)\n",
        "    print(\"## Means:\")\n",
        "    display(data_groupby.apply(np.mean))\n",
        "    print(\"\\n## Standard deviations:\")\n",
        "    display(data_groupby.apply(np.std))\n",
        "    print(\"\\n## Sample sizes:\")\n",
        "    display(pd.DataFrame(data_groupby.apply(len)))"
      ],
      "execution_count": null,
      "outputs": []
    },
    {
      "cell_type": "markdown",
      "metadata": {
        "id": "m9FTUlralYz2",
        "colab_type": "text"
      },
      "source": [
        "The arguments of the function are the variables that you want to calculate means and standard deviations for (`X`), and the variable containing the group of each sample (`y`). For example, to calculate the mean and standard deviation for each of the 13 chemical concentrations, for each of the three different wine cultivars, we type:"
      ]
    },
    {
      "cell_type": "code",
      "metadata": {
        "id": "wD9iWJovlYz2",
        "colab_type": "code",
        "colab": {},
        "outputId": "e13db04a-adde-415e-ddcd-4a49e8a6acf6"
      },
      "source": [
        "printMeanAndSdByGroup(X, y)"
      ],
      "execution_count": null,
      "outputs": [
        {
          "output_type": "stream",
          "text": [
            "## Means:\n"
          ],
          "name": "stdout"
        },
        {
          "output_type": "display_data",
          "data": {
            "text/html": [
              "<div>\n",
              "<table border=\"1\" class=\"dataframe\">\n",
              "  <thead>\n",
              "    <tr style=\"text-align: right;\">\n",
              "      <th></th>\n",
              "      <th>V2</th>\n",
              "      <th>V3</th>\n",
              "      <th>V4</th>\n",
              "      <th>V5</th>\n",
              "      <th>V6</th>\n",
              "      <th>V7</th>\n",
              "      <th>V8</th>\n",
              "      <th>V9</th>\n",
              "      <th>V10</th>\n",
              "      <th>V11</th>\n",
              "      <th>V12</th>\n",
              "      <th>V13</th>\n",
              "      <th>V14</th>\n",
              "    </tr>\n",
              "    <tr>\n",
              "      <th>V1</th>\n",
              "      <th></th>\n",
              "      <th></th>\n",
              "      <th></th>\n",
              "      <th></th>\n",
              "      <th></th>\n",
              "      <th></th>\n",
              "      <th></th>\n",
              "      <th></th>\n",
              "      <th></th>\n",
              "      <th></th>\n",
              "      <th></th>\n",
              "      <th></th>\n",
              "      <th></th>\n",
              "    </tr>\n",
              "  </thead>\n",
              "  <tbody>\n",
              "    <tr>\n",
              "      <th>1</th>\n",
              "      <td>13.744746</td>\n",
              "      <td>2.010678</td>\n",
              "      <td>2.455593</td>\n",
              "      <td>17.037288</td>\n",
              "      <td>106.338983</td>\n",
              "      <td>2.840169</td>\n",
              "      <td>2.982373</td>\n",
              "      <td>0.290000</td>\n",
              "      <td>1.899322</td>\n",
              "      <td>5.528305</td>\n",
              "      <td>1.062034</td>\n",
              "      <td>3.157797</td>\n",
              "      <td>1115.711864</td>\n",
              "    </tr>\n",
              "    <tr>\n",
              "      <th>2</th>\n",
              "      <td>12.278732</td>\n",
              "      <td>1.932676</td>\n",
              "      <td>2.244789</td>\n",
              "      <td>20.238028</td>\n",
              "      <td>94.549296</td>\n",
              "      <td>2.258873</td>\n",
              "      <td>2.080845</td>\n",
              "      <td>0.363662</td>\n",
              "      <td>1.630282</td>\n",
              "      <td>3.086620</td>\n",
              "      <td>1.056282</td>\n",
              "      <td>2.785352</td>\n",
              "      <td>519.507042</td>\n",
              "    </tr>\n",
              "    <tr>\n",
              "      <th>3</th>\n",
              "      <td>13.153750</td>\n",
              "      <td>3.333750</td>\n",
              "      <td>2.437083</td>\n",
              "      <td>21.416667</td>\n",
              "      <td>99.312500</td>\n",
              "      <td>1.678750</td>\n",
              "      <td>0.781458</td>\n",
              "      <td>0.447500</td>\n",
              "      <td>1.153542</td>\n",
              "      <td>7.396250</td>\n",
              "      <td>0.682708</td>\n",
              "      <td>1.683542</td>\n",
              "      <td>629.895833</td>\n",
              "    </tr>\n",
              "  </tbody>\n",
              "</table>\n",
              "</div>"
            ],
            "text/plain": [
              "           V2        V3        V4         V5          V6        V7        V8  \\\n",
              "V1                                                                             \n",
              "1   13.744746  2.010678  2.455593  17.037288  106.338983  2.840169  2.982373   \n",
              "2   12.278732  1.932676  2.244789  20.238028   94.549296  2.258873  2.080845   \n",
              "3   13.153750  3.333750  2.437083  21.416667   99.312500  1.678750  0.781458   \n",
              "\n",
              "          V9       V10       V11       V12       V13          V14  \n",
              "V1                                                                 \n",
              "1   0.290000  1.899322  5.528305  1.062034  3.157797  1115.711864  \n",
              "2   0.363662  1.630282  3.086620  1.056282  2.785352   519.507042  \n",
              "3   0.447500  1.153542  7.396250  0.682708  1.683542   629.895833  "
            ]
          },
          "metadata": {
            "tags": []
          }
        },
        {
          "output_type": "stream",
          "text": [
            "\n",
            "## Standard deviations:\n"
          ],
          "name": "stdout"
        },
        {
          "output_type": "display_data",
          "data": {
            "text/html": [
              "<div>\n",
              "<table border=\"1\" class=\"dataframe\">\n",
              "  <thead>\n",
              "    <tr style=\"text-align: right;\">\n",
              "      <th></th>\n",
              "      <th>V2</th>\n",
              "      <th>V3</th>\n",
              "      <th>V4</th>\n",
              "      <th>V5</th>\n",
              "      <th>V6</th>\n",
              "      <th>V7</th>\n",
              "      <th>V8</th>\n",
              "      <th>V9</th>\n",
              "      <th>V10</th>\n",
              "      <th>V11</th>\n",
              "      <th>V12</th>\n",
              "      <th>V13</th>\n",
              "      <th>V14</th>\n",
              "    </tr>\n",
              "    <tr>\n",
              "      <th>V1</th>\n",
              "      <th></th>\n",
              "      <th></th>\n",
              "      <th></th>\n",
              "      <th></th>\n",
              "      <th></th>\n",
              "      <th></th>\n",
              "      <th></th>\n",
              "      <th></th>\n",
              "      <th></th>\n",
              "      <th></th>\n",
              "      <th></th>\n",
              "      <th></th>\n",
              "      <th></th>\n",
              "    </tr>\n",
              "  </thead>\n",
              "  <tbody>\n",
              "    <tr>\n",
              "      <th>1</th>\n",
              "      <td>0.458192</td>\n",
              "      <td>0.682689</td>\n",
              "      <td>0.225233</td>\n",
              "      <td>2.524651</td>\n",
              "      <td>10.409595</td>\n",
              "      <td>0.336077</td>\n",
              "      <td>0.394111</td>\n",
              "      <td>0.069453</td>\n",
              "      <td>0.408602</td>\n",
              "      <td>1.228032</td>\n",
              "      <td>0.115491</td>\n",
              "      <td>0.354038</td>\n",
              "      <td>219.635449</td>\n",
              "    </tr>\n",
              "    <tr>\n",
              "      <th>2</th>\n",
              "      <td>0.534162</td>\n",
              "      <td>1.008391</td>\n",
              "      <td>0.313238</td>\n",
              "      <td>3.326097</td>\n",
              "      <td>16.635097</td>\n",
              "      <td>0.541507</td>\n",
              "      <td>0.700713</td>\n",
              "      <td>0.123085</td>\n",
              "      <td>0.597813</td>\n",
              "      <td>0.918393</td>\n",
              "      <td>0.201503</td>\n",
              "      <td>0.493064</td>\n",
              "      <td>156.100173</td>\n",
              "    </tr>\n",
              "    <tr>\n",
              "      <th>3</th>\n",
              "      <td>0.524689</td>\n",
              "      <td>1.076514</td>\n",
              "      <td>0.182756</td>\n",
              "      <td>2.234515</td>\n",
              "      <td>10.776433</td>\n",
              "      <td>0.353233</td>\n",
              "      <td>0.290431</td>\n",
              "      <td>0.122840</td>\n",
              "      <td>0.404555</td>\n",
              "      <td>2.286743</td>\n",
              "      <td>0.113243</td>\n",
              "      <td>0.269262</td>\n",
              "      <td>113.891805</td>\n",
              "    </tr>\n",
              "  </tbody>\n",
              "</table>\n",
              "</div>"
            ],
            "text/plain": [
              "          V2        V3        V4        V5         V6        V7        V8  \\\n",
              "V1                                                                          \n",
              "1   0.458192  0.682689  0.225233  2.524651  10.409595  0.336077  0.394111   \n",
              "2   0.534162  1.008391  0.313238  3.326097  16.635097  0.541507  0.700713   \n",
              "3   0.524689  1.076514  0.182756  2.234515  10.776433  0.353233  0.290431   \n",
              "\n",
              "          V9       V10       V11       V12       V13         V14  \n",
              "V1                                                                \n",
              "1   0.069453  0.408602  1.228032  0.115491  0.354038  219.635449  \n",
              "2   0.123085  0.597813  0.918393  0.201503  0.493064  156.100173  \n",
              "3   0.122840  0.404555  2.286743  0.113243  0.269262  113.891805  "
            ]
          },
          "metadata": {
            "tags": []
          }
        },
        {
          "output_type": "stream",
          "text": [
            "\n",
            "## Sample sizes:\n"
          ],
          "name": "stdout"
        },
        {
          "output_type": "display_data",
          "data": {
            "text/html": [
              "<div>\n",
              "<table border=\"1\" class=\"dataframe\">\n",
              "  <thead>\n",
              "    <tr style=\"text-align: right;\">\n",
              "      <th></th>\n",
              "      <th>0</th>\n",
              "    </tr>\n",
              "    <tr>\n",
              "      <th>V1</th>\n",
              "      <th></th>\n",
              "    </tr>\n",
              "  </thead>\n",
              "  <tbody>\n",
              "    <tr>\n",
              "      <th>1</th>\n",
              "      <td>59</td>\n",
              "    </tr>\n",
              "    <tr>\n",
              "      <th>2</th>\n",
              "      <td>71</td>\n",
              "    </tr>\n",
              "    <tr>\n",
              "      <th>3</th>\n",
              "      <td>48</td>\n",
              "    </tr>\n",
              "  </tbody>\n",
              "</table>\n",
              "</div>"
            ],
            "text/plain": [
              "     0\n",
              "V1    \n",
              "1   59\n",
              "2   71\n",
              "3   48"
            ]
          },
          "metadata": {
            "tags": []
          }
        }
      ]
    },
    {
      "cell_type": "markdown",
      "metadata": {
        "id": "ViF5CggulYz6",
        "colab_type": "text"
      },
      "source": [
        "The function `printMeanAndSdByGroup()` also prints out the number of samples in each group. In this case, we see that there are 59 samples of cultivar 1, 71 of cultivar 2, and 48 of cultivar 3."
      ]
    },
    {
      "cell_type": "markdown",
      "metadata": {
        "id": "f00ixNmZlYz6",
        "colab_type": "text"
      },
      "source": [
        "### Between-groups Variance and Within-groups Variance for a Variable\n",
        "\n",
        "If we want to calculate the within-groups variance for a particular variable (for example, for a particular chemical’s concentration), we can use the function `calcWithinGroupsVariance()` below:"
      ]
    },
    {
      "cell_type": "code",
      "metadata": {
        "id": "-l8f753vlYz7",
        "colab_type": "code",
        "colab": {}
      },
      "source": [
        "def calcWithinGroupsVariance(variable, groupvariable):\n",
        "    # find out how many values the group variable can take\n",
        "    levels = sorted(set(groupvariable))\n",
        "    numlevels = len(levels)\n",
        "    # get the mean and standard deviation for each group:\n",
        "    numtotal = 0\n",
        "    denomtotal = 0\n",
        "    for leveli in levels:\n",
        "        levelidata = variable[groupvariable==leveli]\n",
        "        levelilength = len(levelidata)\n",
        "        # get the standard deviation for group i:\n",
        "        sdi = np.std(levelidata)\n",
        "        numi = (levelilength)*sdi**2\n",
        "        denomi = levelilength\n",
        "        numtotal = numtotal + numi\n",
        "        denomtotal = denomtotal + denomi\n",
        "    # calculate the within-groups variance\n",
        "    Vw = numtotal / (denomtotal - numlevels)\n",
        "    return Vw"
      ],
      "execution_count": null,
      "outputs": []
    },
    {
      "cell_type": "markdown",
      "metadata": {
        "id": "KZTe8iJ9lYz-",
        "colab_type": "text"
      },
      "source": [
        "The `variable` parameter of the function `calcWithinGroupsVariance()` is the input variable for which we wish to compute its within-groups variance for the groups given in `groupvariable`.\n",
        "\n",
        "So for example, to calculate the within-groups variance of the variable V2 (the concentration of the first chemical), we type:"
      ]
    },
    {
      "cell_type": "code",
      "metadata": {
        "id": "i9fDdQuDlYz-",
        "colab_type": "code",
        "colab": {},
        "outputId": "dc2a696d-1533-42fa-baff-e9bada0a24e8"
      },
      "source": [
        "calcWithinGroupsVariance(X.V2, y)"
      ],
      "execution_count": null,
      "outputs": [
        {
          "output_type": "execute_result",
          "data": {
            "text/plain": [
              "0.2620524691539065"
            ]
          },
          "metadata": {
            "tags": []
          },
          "execution_count": 17
        }
      ]
    },
    {
      "cell_type": "markdown",
      "metadata": {
        "id": "sslPHWewlY0B",
        "colab_type": "text"
      },
      "source": [
        "Thus, the within-groups variance for V2 is 0.2620525.\n",
        "\n",
        "We can calculate the between-groups variance for a particular variable (eg. V2) using the function `calcBetweenGroupsVariance()` below:"
      ]
    },
    {
      "cell_type": "code",
      "metadata": {
        "id": "974s-nKElY0C",
        "colab_type": "code",
        "colab": {}
      },
      "source": [
        "def calcBetweenGroupsVariance(variable, groupvariable):\n",
        "    # find out how many values the group variable can take\n",
        "    levels = sorted(set((groupvariable)))\n",
        "    numlevels = len(levels)\n",
        "    # calculate the overall grand mean:\n",
        "    grandmean = np.mean(variable)\n",
        "    # get the mean and standard deviation for each group:\n",
        "    numtotal = 0\n",
        "    denomtotal = 0\n",
        "    for leveli in levels:\n",
        "        levelidata = variable[groupvariable==leveli]\n",
        "        levelilength = len(levelidata)\n",
        "        # get the mean and standard deviation for group i:\n",
        "        meani = np.mean(levelidata)\n",
        "        sdi = np.std(levelidata)\n",
        "        numi = levelilength * ((meani - grandmean)**2)\n",
        "        denomi = levelilength\n",
        "        numtotal = numtotal + numi\n",
        "        denomtotal = denomtotal + denomi\n",
        "    # calculate the between-groups variance\n",
        "    Vb = numtotal / (numlevels - 1)\n",
        "    return(Vb)"
      ],
      "execution_count": null,
      "outputs": []
    },
    {
      "cell_type": "markdown",
      "metadata": {
        "id": "ERmNZtL_lY0F",
        "colab_type": "text"
      },
      "source": [
        "Similarly to the parameters of the function `calcWithinGroupsVariance()`, the `variable` parameter of the function `calcBetweenGroupsVariance()` is the input variable for which we wish to compute its between-groups variance for the groups given in `groupvariable`.\n",
        "\n",
        "So for example, to calculate the between-groups variance of the variable V2 (the concentration of the first chemical), we type:"
      ]
    },
    {
      "cell_type": "code",
      "metadata": {
        "id": "CBi-vjJJlY0F",
        "colab_type": "code",
        "colab": {},
        "outputId": "61815d39-9e9a-46c7-b0a2-8f8d87dd4da1"
      },
      "source": [
        "calcBetweenGroupsVariance(X.V2, y)"
      ],
      "execution_count": null,
      "outputs": [
        {
          "output_type": "execute_result",
          "data": {
            "text/plain": [
              "35.397424960269106"
            ]
          },
          "metadata": {
            "tags": []
          },
          "execution_count": 19
        }
      ]
    },
    {
      "cell_type": "markdown",
      "metadata": {
        "id": "zA-kA5VSlY0J",
        "colab_type": "text"
      },
      "source": [
        "Thus, the between-groups variance of V2 is 35.397425.\n",
        "\n",
        "We can calculate the *separation* achieved by a variable as its between-groups variance devided by its within-groups variance. Thus, the separation achieved by V2 is calculated as:"
      ]
    },
    {
      "cell_type": "code",
      "metadata": {
        "id": "1fZ8aXTVlY0K",
        "colab_type": "code",
        "colab": {},
        "outputId": "b44fc4b0-3660-46f9-c08e-e97fa846844e"
      },
      "source": [
        "# 35.397424960269106 / 0.2620524691539065\n",
        "calcBetweenGroupsVariance(X.V2, y) / calcWithinGroupsVariance(X.V2, y)"
      ],
      "execution_count": null,
      "outputs": [
        {
          "output_type": "execute_result",
          "data": {
            "text/plain": [
              "135.07762424279917"
            ]
          },
          "metadata": {
            "tags": []
          },
          "execution_count": 20
        }
      ]
    },
    {
      "cell_type": "markdown",
      "metadata": {
        "id": "puuN7dWulY0N",
        "colab_type": "text"
      },
      "source": [
        "If you want to calculate the separations achieved by all of the variables in a multivariate data set, you can use the function `calcSeparations()` below:"
      ]
    },
    {
      "cell_type": "code",
      "metadata": {
        "collapsed": true,
        "id": "N5FUw7TdlY0N",
        "colab_type": "code",
        "colab": {}
      },
      "source": [
        "def calcSeparations(variables, groupvariable):\n",
        "    # calculate the separation for each variable\n",
        "    for variablename in variables:\n",
        "        variablei = variables[variablename]\n",
        "        Vw = calcWithinGroupsVariance(variablei, groupvariable)\n",
        "        Vb = calcBetweenGroupsVariance(variablei, groupvariable)\n",
        "        sep = Vb/Vw\n",
        "        print(\"variable\", variablename, \"Vw=\", Vw, \"Vb=\", Vb, \"separation=\", sep)"
      ],
      "execution_count": null,
      "outputs": []
    },
    {
      "cell_type": "markdown",
      "metadata": {
        "id": "UiFPHGQGlY0R",
        "colab_type": "text"
      },
      "source": [
        "For example, to calculate the separations for each of the 13 chemical concentrations, we type:"
      ]
    },
    {
      "cell_type": "code",
      "metadata": {
        "id": "PALWuobvlY0R",
        "colab_type": "code",
        "colab": {},
        "outputId": "5bc7d1a8-17b8-4138-e37e-bc52cf64aeae"
      },
      "source": [
        "calcSeparations(X, y)"
      ],
      "execution_count": null,
      "outputs": [
        {
          "output_type": "stream",
          "text": [
            "variable V2 Vw= 0.262052469154 Vb= 35.3974249603 separation= 135.077624243\n",
            "variable V3 Vw= 0.887546796747 Vb= 32.7890184869 separation= 36.9434249632\n",
            "variable V4 Vw= 0.0660721013425 Vb= 0.879611357249 separation= 13.3129012\n",
            "variable V5 Vw= 8.00681118121 Vb= 286.416746363 separation= 35.7716374073\n",
            "variable V6 Vw= 180.657773164 Vb= 2245.50102789 separation= 12.4295843381\n",
            "variable V7 Vw= 0.191270475224 Vb= 17.9283572943 separation= 93.7330096204\n",
            "variable V8 Vw= 0.274707514337 Vb= 64.2611950236 separation= 233.925872682\n",
            "variable V9 Vw= 0.0119117022133 Vb= 0.328470157462 separation= 27.575417147\n",
            "variable V10 Vw= 0.246172943796 Vb= 7.45199550778 separation= 30.2713831702\n",
            "variable V11 Vw= 2.28492308133 Vb= 275.708000822 separation= 120.664018441\n",
            "variable V12 Vw= 0.0244876469432 Vb= 2.48100991494 separation= 101.31679539\n",
            "variable V13 Vw= 0.160778729561 Vb= 30.5435083544 separation= 189.972320579\n",
            "variable V14 Vw= 29707.6818705 Vb= 6176832.32228 separation= 207.920373902\n"
          ],
          "name": "stdout"
        }
      ]
    },
    {
      "cell_type": "markdown",
      "metadata": {
        "id": "01r89L0ilY0U",
        "colab_type": "text"
      },
      "source": [
        "Thus, the individual variable which gives the greatest separations between the groups (the wine cultivars) is V8 (separation 233.9). As we will discuss below, the purpose of linear discriminant analysis (LDA) is to find the linear combination of the individual variables that will give the greatest separation between the groups (cultivars here). This hopefully will give a better separation than the best separation achievable by any individual variable (233.9 for V8 here)."
      ]
    },
    {
      "cell_type": "markdown",
      "metadata": {
        "id": "jS4696WIlY0V",
        "colab_type": "text"
      },
      "source": [
        "### Between-groups Covariance and Within-groups Covariance for Two Variables\n",
        "\n",
        "If you have a multivariate data set with several variables describing sampling units from different groups, such as the wine samples from different cultivars, it is often of interest to calculate the within-groups covariance and between-groups variance for pairs of the variables.\n",
        "\n",
        "This can be done using the following functions:"
      ]
    },
    {
      "cell_type": "code",
      "metadata": {
        "id": "LRZtwlNSlY0V",
        "colab_type": "code",
        "colab": {}
      },
      "source": [
        "def calcWithinGroupsCovariance(variable1, variable2, groupvariable):\n",
        "    levels = sorted(set(groupvariable))\n",
        "    numlevels = len(levels)\n",
        "    Covw = 0.0\n",
        "    # get the covariance of variable 1 and variable 2 for each group:\n",
        "    for leveli in levels:\n",
        "        levelidata1 = variable1[groupvariable==leveli]\n",
        "        levelidata2 = variable2[groupvariable==leveli]\n",
        "        mean1 = np.mean(levelidata1)\n",
        "        mean2 = np.mean(levelidata2)\n",
        "        levelilength = len(levelidata1)\n",
        "        # get the covariance for this group:\n",
        "        term1 = 0.0\n",
        "        for levelidata1j, levelidata2j in zip(levelidata1, levelidata2):\n",
        "            term1 += (levelidata1j - mean1)*(levelidata2j - mean2)\n",
        "        Cov_groupi = term1 # covariance for this group\n",
        "        Covw += Cov_groupi\n",
        "    totallength = len(variable1)\n",
        "    Covw /= totallength - numlevels\n",
        "    return Covw"
      ],
      "execution_count": null,
      "outputs": []
    },
    {
      "cell_type": "markdown",
      "metadata": {
        "id": "MHtE08ynlY0Y",
        "colab_type": "text"
      },
      "source": [
        "For example, to calculate the within-groups covariance for variables V8 and V11, we type:"
      ]
    },
    {
      "cell_type": "code",
      "metadata": {
        "id": "a3CEKnHVlY0Z",
        "colab_type": "code",
        "colab": {},
        "outputId": "9bb5832d-fcd3-4e50-915a-ab53d0443cbf"
      },
      "source": [
        "calcWithinGroupsCovariance(X.V8, X.V11, y)"
      ],
      "execution_count": null,
      "outputs": [
        {
          "output_type": "execute_result",
          "data": {
            "text/plain": [
              "0.28667830215140183"
            ]
          },
          "metadata": {
            "tags": []
          },
          "execution_count": 24
        }
      ]
    },
    {
      "cell_type": "code",
      "metadata": {
        "id": "fDOmnWdzlY0d",
        "colab_type": "code",
        "colab": {}
      },
      "source": [
        "def calcBetweenGroupsCovariance(variable1, variable2, groupvariable):\n",
        "    # find out how many values the group variable can take\n",
        "    levels = sorted(set(groupvariable))\n",
        "    numlevels = len(levels)\n",
        "    # calculate the grand means\n",
        "    variable1mean = np.mean(variable1)\n",
        "    variable2mean = np.mean(variable2)\n",
        "    # calculate the between-groups covariance\n",
        "    Covb = 0.0\n",
        "    for leveli in levels:\n",
        "        levelidata1 = variable1[groupvariable==leveli]\n",
        "        levelidata2 = variable2[groupvariable==leveli]\n",
        "        mean1 = np.mean(levelidata1)\n",
        "        mean2 = np.mean(levelidata2)\n",
        "        levelilength = len(levelidata1)\n",
        "        term1 = (mean1 - variable1mean) * (mean2 - variable2mean) * levelilength\n",
        "        Covb += term1\n",
        "    Covb /= numlevels - 1\n",
        "    return Covb"
      ],
      "execution_count": null,
      "outputs": []
    },
    {
      "cell_type": "markdown",
      "metadata": {
        "id": "yxjdHhZclY0g",
        "colab_type": "text"
      },
      "source": [
        "For example, to calculate the between-groups covariance for variables V8 and V11, we type:"
      ]
    },
    {
      "cell_type": "code",
      "metadata": {
        "id": "Rdjts9txlY0h",
        "colab_type": "code",
        "colab": {},
        "outputId": "deae75b0-b63a-46c0-a8c5-5cddb90a9486"
      },
      "source": [
        "calcBetweenGroupsCovariance(X.V8, X.V11, y)"
      ],
      "execution_count": null,
      "outputs": [
        {
          "output_type": "execute_result",
          "data": {
            "text/plain": [
              "-60.4107748359163"
            ]
          },
          "metadata": {
            "tags": []
          },
          "execution_count": 26
        }
      ]
    },
    {
      "cell_type": "markdown",
      "metadata": {
        "id": "nqd-lQo3lY0k",
        "colab_type": "text"
      },
      "source": [
        "Thus, for V8 and V11, the between-groups covariance is -60.41 and the within-groups covariance is 0.29. Since the within-groups covariance is positive (0.29), it means V8 and V11 are positively related within groups: for individuals from the same group, individuals with a high value of V8 tend to have a high value of V11, and vice versa. Since the between-groups covariance is negative (-60.41), V8 and V11 are negatively related between groups: groups with a high mean value of V8 tend to have a low mean value of V11, and vice versa."
      ]
    },
    {
      "cell_type": "markdown",
      "metadata": {
        "id": "wcC5JnoplY0k",
        "colab_type": "text"
      },
      "source": [
        "### Calculating Correlations for Multivariate Data¶\n",
        "\n",
        "It is often of interest to investigate whether any of the variables in a multivariate data set are significantly correlated.\n",
        "\n",
        "To calculate the linear (Pearson) correlation coefficient for a pair of variables, you can use the `pearsonr()` function from `scipy.stats` package. For example, to calculate the correlation coefficient for the first two chemicals’ concentrations, V2 and V3, we type:"
      ]
    },
    {
      "cell_type": "code",
      "metadata": {
        "id": "zNYNguMolY0l",
        "colab_type": "code",
        "colab": {},
        "outputId": "ca215bdc-d4c9-4089-f25a-f14d8ac90b86"
      },
      "source": [
        "corr = stats.pearsonr(X.V2, X.V3)\n",
        "print(\"p-value:\\t\", corr[1])\n",
        "print(\"cor:\\t\\t\", corr[0])"
      ],
      "execution_count": null,
      "outputs": [
        {
          "output_type": "stream",
          "text": [
            "p-value:\t 0.210081985971\n",
            "cor:\t\t 0.0943969409104\n"
          ],
          "name": "stdout"
        }
      ]
    },
    {
      "cell_type": "markdown",
      "metadata": {
        "id": "FZSoQ3allY0o",
        "colab_type": "text"
      },
      "source": [
        "This tells us that the correlation coefficient is about 0.094, which is a very weak correlation. Furthermore, the *p-value* for the statistical test of whether the correlation coefficient is significantly different from zero is 0.21. This is much greater than 0.05 (which we can use here as a cutoff for statistical significance), so there is very weak evidence that that the correlation is non-zero.\n",
        "\n",
        "If you have a lot of variables, you can use the `pandas.DataFrame` method `corr()` to calculate a correlation matrix that shows the correlation coefficient for each pair of variables."
      ]
    },
    {
      "cell_type": "code",
      "metadata": {
        "id": "jj5N_NBTlY0p",
        "colab_type": "code",
        "colab": {},
        "outputId": "9b95b72a-12a3-4ddb-eda0-c837f8e34484"
      },
      "source": [
        "corrmat = X.corr()\n",
        "corrmat"
      ],
      "execution_count": null,
      "outputs": [
        {
          "output_type": "execute_result",
          "data": {
            "text/html": [
              "<div>\n",
              "<table border=\"1\" class=\"dataframe\">\n",
              "  <thead>\n",
              "    <tr style=\"text-align: right;\">\n",
              "      <th></th>\n",
              "      <th>V2</th>\n",
              "      <th>V3</th>\n",
              "      <th>V4</th>\n",
              "      <th>V5</th>\n",
              "      <th>V6</th>\n",
              "      <th>V7</th>\n",
              "      <th>V8</th>\n",
              "      <th>V9</th>\n",
              "      <th>V10</th>\n",
              "      <th>V11</th>\n",
              "      <th>V12</th>\n",
              "      <th>V13</th>\n",
              "      <th>V14</th>\n",
              "    </tr>\n",
              "  </thead>\n",
              "  <tbody>\n",
              "    <tr>\n",
              "      <th>V2</th>\n",
              "      <td>1.000000</td>\n",
              "      <td>0.094397</td>\n",
              "      <td>0.211545</td>\n",
              "      <td>-0.310235</td>\n",
              "      <td>0.270798</td>\n",
              "      <td>0.289101</td>\n",
              "      <td>0.236815</td>\n",
              "      <td>-0.155929</td>\n",
              "      <td>0.136698</td>\n",
              "      <td>0.546364</td>\n",
              "      <td>-0.071747</td>\n",
              "      <td>0.072343</td>\n",
              "      <td>0.643720</td>\n",
              "    </tr>\n",
              "    <tr>\n",
              "      <th>V3</th>\n",
              "      <td>0.094397</td>\n",
              "      <td>1.000000</td>\n",
              "      <td>0.164045</td>\n",
              "      <td>0.288500</td>\n",
              "      <td>-0.054575</td>\n",
              "      <td>-0.335167</td>\n",
              "      <td>-0.411007</td>\n",
              "      <td>0.292977</td>\n",
              "      <td>-0.220746</td>\n",
              "      <td>0.248985</td>\n",
              "      <td>-0.561296</td>\n",
              "      <td>-0.368710</td>\n",
              "      <td>-0.192011</td>\n",
              "    </tr>\n",
              "    <tr>\n",
              "      <th>V4</th>\n",
              "      <td>0.211545</td>\n",
              "      <td>0.164045</td>\n",
              "      <td>1.000000</td>\n",
              "      <td>0.443367</td>\n",
              "      <td>0.286587</td>\n",
              "      <td>0.128980</td>\n",
              "      <td>0.115077</td>\n",
              "      <td>0.186230</td>\n",
              "      <td>0.009652</td>\n",
              "      <td>0.258887</td>\n",
              "      <td>-0.074667</td>\n",
              "      <td>0.003911</td>\n",
              "      <td>0.223626</td>\n",
              "    </tr>\n",
              "    <tr>\n",
              "      <th>V5</th>\n",
              "      <td>-0.310235</td>\n",
              "      <td>0.288500</td>\n",
              "      <td>0.443367</td>\n",
              "      <td>1.000000</td>\n",
              "      <td>-0.083333</td>\n",
              "      <td>-0.321113</td>\n",
              "      <td>-0.351370</td>\n",
              "      <td>0.361922</td>\n",
              "      <td>-0.197327</td>\n",
              "      <td>0.018732</td>\n",
              "      <td>-0.273955</td>\n",
              "      <td>-0.276769</td>\n",
              "      <td>-0.440597</td>\n",
              "    </tr>\n",
              "    <tr>\n",
              "      <th>V6</th>\n",
              "      <td>0.270798</td>\n",
              "      <td>-0.054575</td>\n",
              "      <td>0.286587</td>\n",
              "      <td>-0.083333</td>\n",
              "      <td>1.000000</td>\n",
              "      <td>0.214401</td>\n",
              "      <td>0.195784</td>\n",
              "      <td>-0.256294</td>\n",
              "      <td>0.236441</td>\n",
              "      <td>0.199950</td>\n",
              "      <td>0.055398</td>\n",
              "      <td>0.066004</td>\n",
              "      <td>0.393351</td>\n",
              "    </tr>\n",
              "    <tr>\n",
              "      <th>V7</th>\n",
              "      <td>0.289101</td>\n",
              "      <td>-0.335167</td>\n",
              "      <td>0.128980</td>\n",
              "      <td>-0.321113</td>\n",
              "      <td>0.214401</td>\n",
              "      <td>1.000000</td>\n",
              "      <td>0.864564</td>\n",
              "      <td>-0.449935</td>\n",
              "      <td>0.612413</td>\n",
              "      <td>-0.055136</td>\n",
              "      <td>0.433681</td>\n",
              "      <td>0.699949</td>\n",
              "      <td>0.498115</td>\n",
              "    </tr>\n",
              "    <tr>\n",
              "      <th>V8</th>\n",
              "      <td>0.236815</td>\n",
              "      <td>-0.411007</td>\n",
              "      <td>0.115077</td>\n",
              "      <td>-0.351370</td>\n",
              "      <td>0.195784</td>\n",
              "      <td>0.864564</td>\n",
              "      <td>1.000000</td>\n",
              "      <td>-0.537900</td>\n",
              "      <td>0.652692</td>\n",
              "      <td>-0.172379</td>\n",
              "      <td>0.543479</td>\n",
              "      <td>0.787194</td>\n",
              "      <td>0.494193</td>\n",
              "    </tr>\n",
              "    <tr>\n",
              "      <th>V9</th>\n",
              "      <td>-0.155929</td>\n",
              "      <td>0.292977</td>\n",
              "      <td>0.186230</td>\n",
              "      <td>0.361922</td>\n",
              "      <td>-0.256294</td>\n",
              "      <td>-0.449935</td>\n",
              "      <td>-0.537900</td>\n",
              "      <td>1.000000</td>\n",
              "      <td>-0.365845</td>\n",
              "      <td>0.139057</td>\n",
              "      <td>-0.262640</td>\n",
              "      <td>-0.503270</td>\n",
              "      <td>-0.311385</td>\n",
              "    </tr>\n",
              "    <tr>\n",
              "      <th>V10</th>\n",
              "      <td>0.136698</td>\n",
              "      <td>-0.220746</td>\n",
              "      <td>0.009652</td>\n",
              "      <td>-0.197327</td>\n",
              "      <td>0.236441</td>\n",
              "      <td>0.612413</td>\n",
              "      <td>0.652692</td>\n",
              "      <td>-0.365845</td>\n",
              "      <td>1.000000</td>\n",
              "      <td>-0.025250</td>\n",
              "      <td>0.295544</td>\n",
              "      <td>0.519067</td>\n",
              "      <td>0.330417</td>\n",
              "    </tr>\n",
              "    <tr>\n",
              "      <th>V11</th>\n",
              "      <td>0.546364</td>\n",
              "      <td>0.248985</td>\n",
              "      <td>0.258887</td>\n",
              "      <td>0.018732</td>\n",
              "      <td>0.199950</td>\n",
              "      <td>-0.055136</td>\n",
              "      <td>-0.172379</td>\n",
              "      <td>0.139057</td>\n",
              "      <td>-0.025250</td>\n",
              "      <td>1.000000</td>\n",
              "      <td>-0.521813</td>\n",
              "      <td>-0.428815</td>\n",
              "      <td>0.316100</td>\n",
              "    </tr>\n",
              "    <tr>\n",
              "      <th>V12</th>\n",
              "      <td>-0.071747</td>\n",
              "      <td>-0.561296</td>\n",
              "      <td>-0.074667</td>\n",
              "      <td>-0.273955</td>\n",
              "      <td>0.055398</td>\n",
              "      <td>0.433681</td>\n",
              "      <td>0.543479</td>\n",
              "      <td>-0.262640</td>\n",
              "      <td>0.295544</td>\n",
              "      <td>-0.521813</td>\n",
              "      <td>1.000000</td>\n",
              "      <td>0.565468</td>\n",
              "      <td>0.236183</td>\n",
              "    </tr>\n",
              "    <tr>\n",
              "      <th>V13</th>\n",
              "      <td>0.072343</td>\n",
              "      <td>-0.368710</td>\n",
              "      <td>0.003911</td>\n",
              "      <td>-0.276769</td>\n",
              "      <td>0.066004</td>\n",
              "      <td>0.699949</td>\n",
              "      <td>0.787194</td>\n",
              "      <td>-0.503270</td>\n",
              "      <td>0.519067</td>\n",
              "      <td>-0.428815</td>\n",
              "      <td>0.565468</td>\n",
              "      <td>1.000000</td>\n",
              "      <td>0.312761</td>\n",
              "    </tr>\n",
              "    <tr>\n",
              "      <th>V14</th>\n",
              "      <td>0.643720</td>\n",
              "      <td>-0.192011</td>\n",
              "      <td>0.223626</td>\n",
              "      <td>-0.440597</td>\n",
              "      <td>0.393351</td>\n",
              "      <td>0.498115</td>\n",
              "      <td>0.494193</td>\n",
              "      <td>-0.311385</td>\n",
              "      <td>0.330417</td>\n",
              "      <td>0.316100</td>\n",
              "      <td>0.236183</td>\n",
              "      <td>0.312761</td>\n",
              "      <td>1.000000</td>\n",
              "    </tr>\n",
              "  </tbody>\n",
              "</table>\n",
              "</div>"
            ],
            "text/plain": [
              "           V2        V3        V4        V5        V6        V7        V8  \\\n",
              "V2   1.000000  0.094397  0.211545 -0.310235  0.270798  0.289101  0.236815   \n",
              "V3   0.094397  1.000000  0.164045  0.288500 -0.054575 -0.335167 -0.411007   \n",
              "V4   0.211545  0.164045  1.000000  0.443367  0.286587  0.128980  0.115077   \n",
              "V5  -0.310235  0.288500  0.443367  1.000000 -0.083333 -0.321113 -0.351370   \n",
              "V6   0.270798 -0.054575  0.286587 -0.083333  1.000000  0.214401  0.195784   \n",
              "V7   0.289101 -0.335167  0.128980 -0.321113  0.214401  1.000000  0.864564   \n",
              "V8   0.236815 -0.411007  0.115077 -0.351370  0.195784  0.864564  1.000000   \n",
              "V9  -0.155929  0.292977  0.186230  0.361922 -0.256294 -0.449935 -0.537900   \n",
              "V10  0.136698 -0.220746  0.009652 -0.197327  0.236441  0.612413  0.652692   \n",
              "V11  0.546364  0.248985  0.258887  0.018732  0.199950 -0.055136 -0.172379   \n",
              "V12 -0.071747 -0.561296 -0.074667 -0.273955  0.055398  0.433681  0.543479   \n",
              "V13  0.072343 -0.368710  0.003911 -0.276769  0.066004  0.699949  0.787194   \n",
              "V14  0.643720 -0.192011  0.223626 -0.440597  0.393351  0.498115  0.494193   \n",
              "\n",
              "           V9       V10       V11       V12       V13       V14  \n",
              "V2  -0.155929  0.136698  0.546364 -0.071747  0.072343  0.643720  \n",
              "V3   0.292977 -0.220746  0.248985 -0.561296 -0.368710 -0.192011  \n",
              "V4   0.186230  0.009652  0.258887 -0.074667  0.003911  0.223626  \n",
              "V5   0.361922 -0.197327  0.018732 -0.273955 -0.276769 -0.440597  \n",
              "V6  -0.256294  0.236441  0.199950  0.055398  0.066004  0.393351  \n",
              "V7  -0.449935  0.612413 -0.055136  0.433681  0.699949  0.498115  \n",
              "V8  -0.537900  0.652692 -0.172379  0.543479  0.787194  0.494193  \n",
              "V9   1.000000 -0.365845  0.139057 -0.262640 -0.503270 -0.311385  \n",
              "V10 -0.365845  1.000000 -0.025250  0.295544  0.519067  0.330417  \n",
              "V11  0.139057 -0.025250  1.000000 -0.521813 -0.428815  0.316100  \n",
              "V12 -0.262640  0.295544 -0.521813  1.000000  0.565468  0.236183  \n",
              "V13 -0.503270  0.519067 -0.428815  0.565468  1.000000  0.312761  \n",
              "V14 -0.311385  0.330417  0.316100  0.236183  0.312761  1.000000  "
            ]
          },
          "metadata": {
            "tags": []
          },
          "execution_count": 28
        }
      ]
    },
    {
      "cell_type": "markdown",
      "metadata": {
        "id": "R_1TM0oslY0s",
        "colab_type": "text"
      },
      "source": [
        "A better graphical representation of the correlation matrix is via a correlation matrix plot in the form of a *heatmap*."
      ]
    },
    {
      "cell_type": "code",
      "metadata": {
        "id": "V0f-Ml1IlY0t",
        "colab_type": "code",
        "colab": {},
        "outputId": "1e2a263a-3aa0-4016-fd70-627009d862be"
      },
      "source": [
        "sns.heatmap(corrmat, vmax=1., square=False).xaxis.tick_top()"
      ],
      "execution_count": null,
      "outputs": [
        {
          "output_type": "display_data",
          "data": {
            "image/png": "[encoded data removed]",
            "text/plain": [
              "<matplotlib.figure.Figure at 0x116889ed0>"
            ]
          },
          "metadata": {
            "tags": []
          }
        }
      ]
    },
    {
      "cell_type": "markdown",
      "metadata": {
        "id": "ZM144Wa5lY0w",
        "colab_type": "text"
      },
      "source": [
        "Or an alternative nice visualization is via a Hinton diagram. The color of the boxes determines the sign of the correlation, in this case red for positive and blue for negative correlations; while the size of the boxes determines their magnitude, the bigger the box the higher the magnitude."
      ]
    },
    {
      "cell_type": "code",
      "metadata": {
        "id": "P14jLJuqlY0w",
        "colab_type": "code",
        "colab": {},
        "outputId": "b345db2c-605e-4d9c-e90b-984c98475d3b"
      },
      "source": [
        "# adapted from http://matplotlib.org/examples/specialty_plots/hinton_demo.html\n",
        "def hinton(matrix, max_weight=None, ax=None):\n",
        "    \"\"\"Draw Hinton diagram for visualizing a weight matrix.\"\"\"\n",
        "    ax = ax if ax is not None else plt.gca()\n",
        "\n",
        "    if not max_weight:\n",
        "        max_weight = 2**np.ceil(np.log(np.abs(matrix).max())/np.log(2))\n",
        "\n",
        "    ax.patch.set_facecolor('lightgray')\n",
        "    ax.set_aspect('equal', 'box')\n",
        "    ax.xaxis.set_major_locator(plt.NullLocator())\n",
        "    ax.yaxis.set_major_locator(plt.NullLocator())\n",
        "\n",
        "    for (x, y), w in np.ndenumerate(matrix):\n",
        "        color = 'red' if w > 0 else 'blue'\n",
        "        size = np.sqrt(np.abs(w))\n",
        "        rect = plt.Rectangle([x - size / 2, y - size / 2], size, size,\n",
        "                             facecolor=color, edgecolor=color)\n",
        "        ax.add_patch(rect)\n",
        "\n",
        "    nticks = matrix.shape[0]\n",
        "    ax.xaxis.tick_top()\n",
        "    ax.set_xticks(range(nticks))\n",
        "    ax.set_xticklabels(list(matrix.columns), rotation=90)\n",
        "    ax.set_yticks(range(nticks))\n",
        "    ax.set_yticklabels(matrix.columns)\n",
        "    ax.grid(False)\n",
        "\n",
        "    ax.autoscale_view()\n",
        "    ax.invert_yaxis()\n",
        "\n",
        "hinton(corrmat)"
      ],
      "execution_count": null,
      "outputs": [
        {
          "output_type": "display_data",
          "data": {
            "image/png": "[encoded data removed]",
            "text/plain": [
              "<matplotlib.figure.Figure at 0x114569990>"
            ]
          },
          "metadata": {
            "tags": []
          }
        }
      ]
    },
    {
      "cell_type": "markdown",
      "metadata": {
        "id": "QMhFWftklY0z",
        "colab_type": "text"
      },
      "source": [
        "Although the correlation matrix and diagrams are useful for quickly looking to identify the strongest correlations, they still require labor work to find the top `N` strongest correlations. For this you can use the function `mosthighlycorrelated()` below.\n",
        "\n",
        "The function `mosthighlycorrelated()` will print out the linear correlation coefficients for each pair of variables in your data set, in order of the correlation coefficient. This lets you see very easily which pair of variables are most highly correlated."
      ]
    },
    {
      "cell_type": "code",
      "metadata": {
        "id": "RDAmKvrUlY00",
        "colab_type": "code",
        "colab": {}
      },
      "source": [
        "def mosthighlycorrelated(mydataframe, numtoreport):\n",
        "    # find the correlations\n",
        "    cormatrix = mydataframe.corr()\n",
        "    # set the correlations on the diagonal or lower triangle to zero,\n",
        "    # so they will not be reported as the highest ones:\n",
        "    cormatrix *= np.tri(*cormatrix.values.shape, k=-1).T\n",
        "    # find the top n correlations\n",
        "    cormatrix = cormatrix.stack()\n",
        "    cormatrix = cormatrix.reindex(cormatrix.abs().sort_values(ascending=False).index).reset_index()\n",
        "    # assign human-friendly names\n",
        "    cormatrix.columns = [\"FirstVariable\", \"SecondVariable\", \"Correlation\"]\n",
        "    return cormatrix.head(numtoreport)"
      ],
      "execution_count": null,
      "outputs": []
    },
    {
      "cell_type": "markdown",
      "metadata": {
        "id": "pOdPVTxnlY03",
        "colab_type": "text"
      },
      "source": [
        "The arguments of the function are the variables that you want to calculate the correlations for, and the number of top correlation coefficients to print out (for example, you can tell it to print out the largest 10 correlation coefficients, or the largest 20).\n",
        "\n",
        "For example, to calculate correlation coefficients between the concentrations of the 13 chemicals in the wine samples, and to print out the top 10 pairwise correlation coefficients, you can type:"
      ]
    },
    {
      "cell_type": "code",
      "metadata": {
        "id": "49ZBNVpslY04",
        "colab_type": "code",
        "colab": {},
        "outputId": "73fbbbff-be8d-4c9e-a0ea-d5b687c2e241"
      },
      "source": [
        "mosthighlycorrelated(X, 10)"
      ],
      "execution_count": null,
      "outputs": [
        {
          "output_type": "execute_result",
          "data": {
            "text/html": [
              "<div>\n",
              "<table border=\"1\" class=\"dataframe\">\n",
              "  <thead>\n",
              "    <tr style=\"text-align: right;\">\n",
              "      <th></th>\n",
              "      <th>FirstVariable</th>\n",
              "      <th>SecondVariable</th>\n",
              "      <th>Correlation</th>\n",
              "    </tr>\n",
              "  </thead>\n",
              "  <tbody>\n",
              "    <tr>\n",
              "      <th>0</th>\n",
              "      <td>V7</td>\n",
              "      <td>V8</td>\n",
              "      <td>0.864564</td>\n",
              "    </tr>\n",
              "    <tr>\n",
              "      <th>1</th>\n",
              "      <td>V8</td>\n",
              "      <td>V13</td>\n",
              "      <td>0.787194</td>\n",
              "    </tr>\n",
              "    <tr>\n",
              "      <th>2</th>\n",
              "      <td>V7</td>\n",
              "      <td>V13</td>\n",
              "      <td>0.699949</td>\n",
              "    </tr>\n",
              "    <tr>\n",
              "      <th>3</th>\n",
              "      <td>V8</td>\n",
              "      <td>V10</td>\n",
              "      <td>0.652692</td>\n",
              "    </tr>\n",
              "    <tr>\n",
              "      <th>4</th>\n",
              "      <td>V2</td>\n",
              "      <td>V14</td>\n",
              "      <td>0.643720</td>\n",
              "    </tr>\n",
              "    <tr>\n",
              "      <th>5</th>\n",
              "      <td>V7</td>\n",
              "      <td>V10</td>\n",
              "      <td>0.612413</td>\n",
              "    </tr>\n",
              "    <tr>\n",
              "      <th>6</th>\n",
              "      <td>V12</td>\n",
              "      <td>V13</td>\n",
              "      <td>0.565468</td>\n",
              "    </tr>\n",
              "    <tr>\n",
              "      <th>7</th>\n",
              "      <td>V3</td>\n",
              "      <td>V12</td>\n",
              "      <td>-0.561296</td>\n",
              "    </tr>\n",
              "    <tr>\n",
              "      <th>8</th>\n",
              "      <td>V2</td>\n",
              "      <td>V11</td>\n",
              "      <td>0.546364</td>\n",
              "    </tr>\n",
              "    <tr>\n",
              "      <th>9</th>\n",
              "      <td>V8</td>\n",
              "      <td>V12</td>\n",
              "      <td>0.543479</td>\n",
              "    </tr>\n",
              "  </tbody>\n",
              "</table>\n",
              "</div>"
            ],
            "text/plain": [
              "  FirstVariable SecondVariable  Correlation\n",
              "0            V7             V8     0.864564\n",
              "1            V8            V13     0.787194\n",
              "2            V7            V13     0.699949\n",
              "3            V8            V10     0.652692\n",
              "4            V2            V14     0.643720\n",
              "5            V7            V10     0.612413\n",
              "6           V12            V13     0.565468\n",
              "7            V3            V12    -0.561296\n",
              "8            V2            V11     0.546364\n",
              "9            V8            V12     0.543479"
            ]
          },
          "metadata": {
            "tags": []
          },
          "execution_count": 32
        }
      ]
    },
    {
      "cell_type": "markdown",
      "metadata": {
        "id": "2Ccw_WLrlY0-",
        "colab_type": "text"
      },
      "source": [
        "This tells us that the pair of variables with the highest linear correlation coefficient are V7 and V8 (correlation = 0.86 approximately)."
      ]
    },
    {
      "cell_type": "markdown",
      "metadata": {
        "id": "N5gne5MolY0_",
        "colab_type": "text"
      },
      "source": [
        "### Standardising Variables\n",
        "\n",
        "If you want to compare different variables that have different units, are very different variances, it is a good idea to first standardise the variables.\n",
        "\n",
        "For example, we found above that the concentrations of the 13 chemicals in the wine samples show a wide range of standard deviations, from 0.124103 for V9 (variance 0.015402) to 314.021657 for V14 (variance 98609.60). This is a range of approximately 6,402,389-fold in the variances.\n",
        "\n",
        "As a result, it is not a good idea to use the unstandardised chemical concentrations as the input for a principal component analysis (PCA, see below) of the wine samples, as if you did that, the first principal component would be dominated by the variables which show the largest variances, such as V14.\n",
        "\n",
        "Thus, it would be a better idea to first standardise the variables so that they all have variance 1 and mean 0, and to then carry out the principal component analysis on the standardised data. This would allow us to find the principal components that provide the best low-dimensional representation of the variation in the original data, without being overly biased by those variables that show the most variance in the original data.\n",
        "\n",
        "You can standardise variables by using the `scale()` function from the package `sklearn.preprocessing`.\n",
        "\n",
        "For example, to standardise the concentrations of the 13 chemicals in the wine samples, we type:"
      ]
    },
    {
      "cell_type": "code",
      "metadata": {
        "id": "kcYAGkBTlY1B",
        "colab_type": "code",
        "colab": {}
      },
      "source": [
        "standardisedX = scale(X)\n",
        "standardisedX = pd.DataFrame(standardisedX, index=X.index, columns=X.columns)"
      ],
      "execution_count": null,
      "outputs": []
    },
    {
      "cell_type": "code",
      "metadata": {
        "id": "l3p7Yw03lY1I",
        "colab_type": "code",
        "colab": {},
        "outputId": "adbae0de-b272-4f2b-f553-62e42669ef1c"
      },
      "source": [
        "standardisedX.apply(np.mean)"
      ],
      "execution_count": null,
      "outputs": [
        {
          "output_type": "execute_result",
          "data": {
            "text/plain": [
              "V2    -8.619821e-16\n",
              "V3    -8.357859e-17\n",
              "V4    -8.657245e-16\n",
              "V5    -1.160121e-16\n",
              "V6    -1.995907e-17\n",
              "V7    -2.972030e-16\n",
              "V8    -4.016762e-16\n",
              "V9     4.079134e-16\n",
              "V10   -1.699639e-16\n",
              "V11   -1.247442e-18\n",
              "V12    3.717376e-16\n",
              "V13    2.919013e-16\n",
              "V14   -7.484650e-18\n",
              "dtype: float64"
            ]
          },
          "metadata": {
            "tags": []
          },
          "execution_count": 34
        }
      ]
    },
    {
      "cell_type": "code",
      "metadata": {
        "id": "3-M83NSylY1Q",
        "colab_type": "code",
        "colab": {},
        "outputId": "84d55ab2-65e5-464b-c8a1-39dcf67ca71b"
      },
      "source": [
        "standardisedX.apply(np.std)"
      ],
      "execution_count": null,
      "outputs": [
        {
          "output_type": "execute_result",
          "data": {
            "text/plain": [
              "V2     1\n",
              "V3     1\n",
              "V4     1\n",
              "V5     1\n",
              "V6     1\n",
              "V7     1\n",
              "V8     1\n",
              "V9     1\n",
              "V10    1\n",
              "V11    1\n",
              "V12    1\n",
              "V13    1\n",
              "V14    1\n",
              "dtype: float64"
            ]
          },
          "metadata": {
            "tags": []
          },
          "execution_count": 35
        }
      ]
    },
    {
      "cell_type": "markdown",
      "metadata": {
        "id": "kRGFGmm0lY1W",
        "colab_type": "text"
      },
      "source": [
        "## Principal Component Analysis\n",
        "\n",
        "The purpose of principal component analysis is to find the best low-dimensional representation of the variation in a multivariate data set. For example, in the case of the wine data set, we have 13 chemical concentrations describing wine samples from three different cultivars. We can carry out a principal component analysis to investigate whether we can capture most of the variation between samples using a smaller number of new variables (principal components), where each of these new variables is a linear combination of all or some of the 13 chemical concentrations.\n",
        "\n",
        "To carry out a principal component analysis (PCA) on a multivariate data set, the first step is often to standardise the variables under study using the `scale()` function (see above). This is necessary if the input variables have very different variances, which is true in this case as the concentrations of the 13 chemicals have very different variances (see above).\n",
        "\n",
        "Once you have standardised your variables, you can carry out a principal component analysis using the `PCA` class from `sklearn.decomposition` package and its `fit` method, which fits the model with the data `X`. The default `solver` is Singular Value Decomposition (\"svd\"). For more information you can type `help(PCA)` in the python console.\n",
        "\n",
        "For example, to standardise the concentrations of the 13 chemicals in the wine samples, and carry out a principal components analysis on the standardised concentrations, we type:"
      ]
    },
    {
      "cell_type": "code",
      "metadata": {
        "id": "uCglYpvVlY1X",
        "colab_type": "code",
        "colab": {}
      },
      "source": [
        "pca = PCA().fit(standardisedX)"
      ],
      "execution_count": null,
      "outputs": []
    },
    {
      "cell_type": "markdown",
      "metadata": {
        "id": "V3rjv07klY1a",
        "colab_type": "text"
      },
      "source": [
        "You can get a summary of the principal component analysis results using the `pca_summary()` function below, which simulates the output of R's `summary` function on a PCA model:"
      ]
    },
    {
      "cell_type": "code",
      "metadata": {
        "id": "NFI3aa7LlY1b",
        "colab_type": "code",
        "colab": {}
      },
      "source": [
        "def pca_summary(pca, standardised_data, out=True):\n",
        "    names = [\"PC\"+str(i) for i in range(1, len(pca.explained_variance_ratio_)+1)]\n",
        "    a = list(np.std(pca.transform(standardised_data), axis=0))\n",
        "    b = list(pca.explained_variance_ratio_)\n",
        "    c = [np.sum(pca.explained_variance_ratio_[:i]) for i in range(1, len(pca.explained_variance_ratio_)+1)]\n",
        "    columns = pd.MultiIndex.from_tuples([(\"sdev\", \"Standard deviation\"), (\"varprop\", \"Proportion of Variance\"), (\"cumprop\", \"Cumulative Proportion\")])\n",
        "    summary = pd.DataFrame(zip(a, b, c), index=names, columns=columns)\n",
        "    if out:\n",
        "        print(\"Importance of components:\")\n",
        "        display(summary)\n",
        "    return summary"
      ],
      "execution_count": null,
      "outputs": []
    },
    {
      "cell_type": "markdown",
      "metadata": {
        "id": "TzxfKa-hlY1e",
        "colab_type": "text"
      },
      "source": [
        "The parameters of the `print_pca_summary` function are:\n",
        "* `pca`: A PCA object\n",
        "* `standardised_data`: The standardised data\n",
        "* `out (True)`: Print to standard output"
      ]
    },
    {
      "cell_type": "code",
      "metadata": {
        "id": "2FMo47jElY1e",
        "colab_type": "code",
        "colab": {},
        "outputId": "762204d3-5948-4aee-f43d-2d0066f5943d"
      },
      "source": [
        "summary = pca_summary(pca, standardisedX)"
      ],
      "execution_count": null,
      "outputs": [
        {
          "output_type": "stream",
          "text": [
            "Importance of components:\n"
          ],
          "name": "stdout"
        },
        {
          "output_type": "display_data",
          "data": {
            "text/html": [
              "<div>\n",
              "<table border=\"1\" class=\"dataframe\">\n",
              "  <thead>\n",
              "    <tr>\n",
              "      <th></th>\n",
              "      <th>sdev</th>\n",
              "      <th>varprop</th>\n",
              "      <th>cumprop</th>\n",
              "    </tr>\n",
              "    <tr>\n",
              "      <th></th>\n",
              "      <th>Standard deviation</th>\n",
              "      <th>Proportion of Variance</th>\n",
              "      <th>Cumulative Proportion</th>\n",
              "    </tr>\n",
              "  </thead>\n",
              "  <tbody>\n",
              "    <tr>\n",
              "      <th>PC1</th>\n",
              "      <td>2.169297</td>\n",
              "      <td>0.361988</td>\n",
              "      <td>0.361988</td>\n",
              "    </tr>\n",
              "    <tr>\n",
              "      <th>PC2</th>\n",
              "      <td>1.580182</td>\n",
              "      <td>0.192075</td>\n",
              "      <td>0.554063</td>\n",
              "    </tr>\n",
              "    <tr>\n",
              "      <th>PC3</th>\n",
              "      <td>1.202527</td>\n",
              "      <td>0.111236</td>\n",
              "      <td>0.665300</td>\n",
              "    </tr>\n",
              "    <tr>\n",
              "      <th>PC4</th>\n",
              "      <td>0.958631</td>\n",
              "      <td>0.070690</td>\n",
              "      <td>0.735990</td>\n",
              "    </tr>\n",
              "    <tr>\n",
              "      <th>PC5</th>\n",
              "      <td>0.923704</td>\n",
              "      <td>0.065633</td>\n",
              "      <td>0.801623</td>\n",
              "    </tr>\n",
              "    <tr>\n",
              "      <th>PC6</th>\n",
              "      <td>0.801035</td>\n",
              "      <td>0.049358</td>\n",
              "      <td>0.850981</td>\n",
              "    </tr>\n",
              "    <tr>\n",
              "      <th>PC7</th>\n",
              "      <td>0.742313</td>\n",
              "      <td>0.042387</td>\n",
              "      <td>0.893368</td>\n",
              "    </tr>\n",
              "    <tr>\n",
              "      <th>PC8</th>\n",
              "      <td>0.590337</td>\n",
              "      <td>0.026807</td>\n",
              "      <td>0.920175</td>\n",
              "    </tr>\n",
              "    <tr>\n",
              "      <th>PC9</th>\n",
              "      <td>0.537476</td>\n",
              "      <td>0.022222</td>\n",
              "      <td>0.942397</td>\n",
              "    </tr>\n",
              "    <tr>\n",
              "      <th>PC10</th>\n",
              "      <td>0.500902</td>\n",
              "      <td>0.019300</td>\n",
              "      <td>0.961697</td>\n",
              "    </tr>\n",
              "    <tr>\n",
              "      <th>PC11</th>\n",
              "      <td>0.475172</td>\n",
              "      <td>0.017368</td>\n",
              "      <td>0.979066</td>\n",
              "    </tr>\n",
              "    <tr>\n",
              "      <th>PC12</th>\n",
              "      <td>0.410817</td>\n",
              "      <td>0.012982</td>\n",
              "      <td>0.992048</td>\n",
              "    </tr>\n",
              "    <tr>\n",
              "      <th>PC13</th>\n",
              "      <td>0.321524</td>\n",
              "      <td>0.007952</td>\n",
              "      <td>1.000000</td>\n",
              "    </tr>\n",
              "  </tbody>\n",
              "</table>\n",
              "</div>"
            ],
            "text/plain": [
              "                   sdev                varprop               cumprop\n",
              "     Standard deviation Proportion of Variance Cumulative Proportion\n",
              "PC1            2.169297               0.361988              0.361988\n",
              "PC2            1.580182               0.192075              0.554063\n",
              "PC3            1.202527               0.111236              0.665300\n",
              "PC4            0.958631               0.070690              0.735990\n",
              "PC5            0.923704               0.065633              0.801623\n",
              "PC6            0.801035               0.049358              0.850981\n",
              "PC7            0.742313               0.042387              0.893368\n",
              "PC8            0.590337               0.026807              0.920175\n",
              "PC9            0.537476               0.022222              0.942397\n",
              "PC10           0.500902               0.019300              0.961697\n",
              "PC11           0.475172               0.017368              0.979066\n",
              "PC12           0.410817               0.012982              0.992048\n",
              "PC13           0.321524               0.007952              1.000000"
            ]
          },
          "metadata": {
            "tags": []
          }
        }
      ]
    },
    {
      "cell_type": "markdown",
      "metadata": {
        "id": "FaTeqpCOlY1i",
        "colab_type": "text"
      },
      "source": [
        "This gives us the standard deviation of each component, and the proportion of variance explained by each component. The standard deviation of the components is stored in a named row called `sdev` of the output variable made by the `pca_summary` function and stored in the `summary` variable:"
      ]
    },
    {
      "cell_type": "code",
      "metadata": {
        "id": "libjav6jlY1i",
        "colab_type": "code",
        "colab": {},
        "outputId": "fa307814-49ce-42ab-fb43-5f04b2bbcfb8"
      },
      "source": [
        "summary.sdev"
      ],
      "execution_count": null,
      "outputs": [
        {
          "output_type": "execute_result",
          "data": {
            "text/html": [
              "<div>\n",
              "<table border=\"1\" class=\"dataframe\">\n",
              "  <thead>\n",
              "    <tr style=\"text-align: right;\">\n",
              "      <th></th>\n",
              "      <th>Standard deviation</th>\n",
              "    </tr>\n",
              "  </thead>\n",
              "  <tbody>\n",
              "    <tr>\n",
              "      <th>PC1</th>\n",
              "      <td>2.169297</td>\n",
              "    </tr>\n",
              "    <tr>\n",
              "      <th>PC2</th>\n",
              "      <td>1.580182</td>\n",
              "    </tr>\n",
              "    <tr>\n",
              "      <th>PC3</th>\n",
              "      <td>1.202527</td>\n",
              "    </tr>\n",
              "    <tr>\n",
              "      <th>PC4</th>\n",
              "      <td>0.958631</td>\n",
              "    </tr>\n",
              "    <tr>\n",
              "      <th>PC5</th>\n",
              "      <td>0.923704</td>\n",
              "    </tr>\n",
              "    <tr>\n",
              "      <th>PC6</th>\n",
              "      <td>0.801035</td>\n",
              "    </tr>\n",
              "    <tr>\n",
              "      <th>PC7</th>\n",
              "      <td>0.742313</td>\n",
              "    </tr>\n",
              "    <tr>\n",
              "      <th>PC8</th>\n",
              "      <td>0.590337</td>\n",
              "    </tr>\n",
              "    <tr>\n",
              "      <th>PC9</th>\n",
              "      <td>0.537476</td>\n",
              "    </tr>\n",
              "    <tr>\n",
              "      <th>PC10</th>\n",
              "      <td>0.500902</td>\n",
              "    </tr>\n",
              "    <tr>\n",
              "      <th>PC11</th>\n",
              "      <td>0.475172</td>\n",
              "    </tr>\n",
              "    <tr>\n",
              "      <th>PC12</th>\n",
              "      <td>0.410817</td>\n",
              "    </tr>\n",
              "    <tr>\n",
              "      <th>PC13</th>\n",
              "      <td>0.321524</td>\n",
              "    </tr>\n",
              "  </tbody>\n",
              "</table>\n",
              "</div>"
            ],
            "text/plain": [
              "      Standard deviation\n",
              "PC1             2.169297\n",
              "PC2             1.580182\n",
              "PC3             1.202527\n",
              "PC4             0.958631\n",
              "PC5             0.923704\n",
              "PC6             0.801035\n",
              "PC7             0.742313\n",
              "PC8             0.590337\n",
              "PC9             0.537476\n",
              "PC10            0.500902\n",
              "PC11            0.475172\n",
              "PC12            0.410817\n",
              "PC13            0.321524"
            ]
          },
          "metadata": {
            "tags": []
          },
          "execution_count": 39
        }
      ]
    },
    {
      "cell_type": "markdown",
      "metadata": {
        "id": "KR8PqdnXlY1l",
        "colab_type": "text"
      },
      "source": [
        "The total variance explained by the components is the sum of the variances of the components:"
      ]
    },
    {
      "cell_type": "code",
      "metadata": {
        "id": "P53yn0jclY1m",
        "colab_type": "code",
        "colab": {},
        "outputId": "16da9733-6642-41a0-c400-5c3ff36fa555"
      },
      "source": [
        "np.sum(summary.sdev**2)"
      ],
      "execution_count": null,
      "outputs": [
        {
          "output_type": "execute_result",
          "data": {
            "text/plain": [
              "Standard deviation    13\n",
              "dtype: float64"
            ]
          },
          "metadata": {
            "tags": []
          },
          "execution_count": 40
        }
      ]
    },
    {
      "cell_type": "markdown",
      "metadata": {
        "id": "Gu0H6TrLlY1p",
        "colab_type": "text"
      },
      "source": [
        "In this case, we see that the total variance is 13, which is equal to the number of standardised variables (13 variables). This is because for standardised data, the variance of each standardised variable is 1. The total variance is equal to the sum of the variances of the individual variables, and since the variance of each standardised variable is 1, the total variance should be equal to the number of variables (13 here)."
      ]
    },
    {
      "cell_type": "markdown",
      "metadata": {
        "id": "MZZfU9wxlY1q",
        "colab_type": "text"
      },
      "source": [
        "### Deciding How Many Principal Components to Retain\n",
        "\n",
        "In order to decide how many principal components should be retained, it is common to summarise the results of a principal components analysis by making a scree plot, which we can do using the `screeplot()` function below:"
      ]
    },
    {
      "cell_type": "code",
      "metadata": {
        "id": "7WHhFUgclY1q",
        "colab_type": "code",
        "colab": {},
        "outputId": "edbb4895-913e-44aa-df54-fa7ffbb4d1a2"
      },
      "source": [
        "def screeplot(pca, standardised_values):\n",
        "    y = np.std(pca.transform(standardised_values), axis=0)**2\n",
        "    x = np.arange(len(y)) + 1\n",
        "    plt.plot(x, y, \"o-\")\n",
        "    plt.xticks(x, [\"Comp.\"+str(i) for i in x], rotation=60)\n",
        "    plt.ylabel(\"Variance\")\n",
        "    plt.show()\n",
        "\n",
        "screeplot(pca, standardisedX)"
      ],
      "execution_count": null,
      "outputs": [
        {
          "output_type": "display_data",
          "data": {
            "image/png": "[encoded data removed]",
            "text/plain": [
              "<matplotlib.figure.Figure at 0x1160b9f90>"
            ]
          },
          "metadata": {
            "tags": []
          }
        }
      ]
    },
    {
      "cell_type": "markdown",
      "metadata": {
        "id": "LNw-YKv4lY1t",
        "colab_type": "text"
      },
      "source": [
        "The most obvious change in slope in the scree plot occurs at component 4, which is the \"elbow\" of the scree plot. Therefore, it cound be argued based on the basis of the scree plot that the first three components should be retained.\n",
        "\n",
        "Another way of deciding how many components to retain is to use *Kaiser’s criterion*: that we should only retain principal components for which the variance is above 1 (when principal component analysis was applied to standardised data). We can check this by finding the variance of each of the principal components:"
      ]
    },
    {
      "cell_type": "code",
      "metadata": {
        "id": "QqJN043_lY1y",
        "colab_type": "code",
        "colab": {},
        "outputId": "d7b2cf72-dcfb-4c46-c65b-fddb12f6a447"
      },
      "source": [
        "summary.sdev**2"
      ],
      "execution_count": null,
      "outputs": [
        {
          "output_type": "execute_result",
          "data": {
            "text/html": [
              "<div>\n",
              "<table border=\"1\" class=\"dataframe\">\n",
              "  <thead>\n",
              "    <tr style=\"text-align: right;\">\n",
              "      <th></th>\n",
              "      <th>Standard deviation</th>\n",
              "    </tr>\n",
              "  </thead>\n",
              "  <tbody>\n",
              "    <tr>\n",
              "      <th>PC1</th>\n",
              "      <td>4.705850</td>\n",
              "    </tr>\n",
              "    <tr>\n",
              "      <th>PC2</th>\n",
              "      <td>2.496974</td>\n",
              "    </tr>\n",
              "    <tr>\n",
              "      <th>PC3</th>\n",
              "      <td>1.446072</td>\n",
              "    </tr>\n",
              "    <tr>\n",
              "      <th>PC4</th>\n",
              "      <td>0.918974</td>\n",
              "    </tr>\n",
              "    <tr>\n",
              "      <th>PC5</th>\n",
              "      <td>0.853228</td>\n",
              "    </tr>\n",
              "    <tr>\n",
              "      <th>PC6</th>\n",
              "      <td>0.641657</td>\n",
              "    </tr>\n",
              "    <tr>\n",
              "      <th>PC7</th>\n",
              "      <td>0.551028</td>\n",
              "    </tr>\n",
              "    <tr>\n",
              "      <th>PC8</th>\n",
              "      <td>0.348497</td>\n",
              "    </tr>\n",
              "    <tr>\n",
              "      <th>PC9</th>\n",
              "      <td>0.288880</td>\n",
              "    </tr>\n",
              "    <tr>\n",
              "      <th>PC10</th>\n",
              "      <td>0.250902</td>\n",
              "    </tr>\n",
              "    <tr>\n",
              "      <th>PC11</th>\n",
              "      <td>0.225789</td>\n",
              "    </tr>\n",
              "    <tr>\n",
              "      <th>PC12</th>\n",
              "      <td>0.168770</td>\n",
              "    </tr>\n",
              "    <tr>\n",
              "      <th>PC13</th>\n",
              "      <td>0.103378</td>\n",
              "    </tr>\n",
              "  </tbody>\n",
              "</table>\n",
              "</div>"
            ],
            "text/plain": [
              "      Standard deviation\n",
              "PC1             4.705850\n",
              "PC2             2.496974\n",
              "PC3             1.446072\n",
              "PC4             0.918974\n",
              "PC5             0.853228\n",
              "PC6             0.641657\n",
              "PC7             0.551028\n",
              "PC8             0.348497\n",
              "PC9             0.288880\n",
              "PC10            0.250902\n",
              "PC11            0.225789\n",
              "PC12            0.168770\n",
              "PC13            0.103378"
            ]
          },
          "metadata": {
            "tags": []
          },
          "execution_count": 42
        }
      ]
    },
    {
      "cell_type": "markdown",
      "metadata": {
        "id": "knHnsqCBlY12",
        "colab_type": "text"
      },
      "source": [
        "We see that the variance is above 1 for principal components 1, 2, and 3 (which have variances 4.71, 2.50, and 1.45, respectively). Therefore, using Kaiser’s criterion, we would retain the first three principal components.\n",
        "\n",
        "A third way to decide how many principal components to retain is to decide to keep the number of components required to explain at least some minimum amount of the total variance. For example, if it is important to explain at least 80% of the variance, we would retain the first five principal components, as we can see from cumulative proportions (`summary.cumprop`) that the first five principal components explain 80.2% of the variance (while the first four components explain just 73.6%, so are not sufficient)."
      ]
    },
    {
      "cell_type": "markdown",
      "metadata": {
        "id": "uRJOigshlY12",
        "colab_type": "text"
      },
      "source": [
        "### Loadings for the Principal Components\n",
        "\n",
        "The loadings for the principal components are stored in a named element `components_` of the variable returned by `PCA().fit()`. This contains a matrix with the loadings of each principal component, where the first column in the matrix contains the loadings for the first principal component, the second column contains the loadings for the second principal component, and so on.\n",
        "\n",
        "Therefore, to obtain the loadings for the first principal component in our analysis of the 13 chemical concentrations in wine samples, we type:"
      ]
    },
    {
      "cell_type": "code",
      "metadata": {
        "id": "JTeoyqZdlY13",
        "colab_type": "code",
        "colab": {},
        "outputId": "52af1108-ee23-41c9-cc0c-df164c4641f4"
      },
      "source": [
        "pca.components_[0]"
      ],
      "execution_count": null,
      "outputs": [
        {
          "output_type": "execute_result",
          "data": {
            "text/plain": [
              "array([-0.1443294 ,  0.24518758,  0.00205106,  0.23932041, -0.14199204,\n",
              "       -0.39466085, -0.4229343 ,  0.2985331 , -0.31342949,  0.0886167 ,\n",
              "       -0.29671456, -0.37616741, -0.28675223])"
            ]
          },
          "metadata": {
            "tags": []
          },
          "execution_count": 43
        }
      ]
    },
    {
      "cell_type": "markdown",
      "metadata": {
        "id": "FeFVZbdmlY17",
        "colab_type": "text"
      },
      "source": [
        "This means that the first principal component is a linear combination of the variables:\n",
        "```\n",
        "-0.144*Z2 + 0.245*Z3 + 0.002*Z4 + 0.239*Z5 - 0.142*Z6 - 0.395*Z7 - 0.423*Z8 + 0.299*Z9 -0.313*Z10 + 0.089*Z11 - 0.297*Z12 - 0.376*Z13 - 0.287*Z14\n",
        "```\n",
        "\n",
        "where Z2, Z3, Z4, ..., Z14 are the standardised versions of the variables V2, V3, V4, ..., V14 (that each have mean of 0 and variance of 1).\n",
        "\n",
        "Note that the square of the loadings sum to 1, as this is a constraint used in calculating the loadings:"
      ]
    },
    {
      "cell_type": "code",
      "metadata": {
        "id": "u-CEis7rlY18",
        "colab_type": "code",
        "colab": {},
        "outputId": "6f6dc2c3-09ba-4db3-e293-6f756b4fd74d"
      },
      "source": [
        "np.sum(pca.components_[0]**2)"
      ],
      "execution_count": null,
      "outputs": [
        {
          "output_type": "execute_result",
          "data": {
            "text/plain": [
              "1.0000000000000004"
            ]
          },
          "metadata": {
            "tags": []
          },
          "execution_count": 44
        }
      ]
    },
    {
      "cell_type": "markdown",
      "metadata": {
        "id": "kyrl4fQslY2B",
        "colab_type": "text"
      },
      "source": [
        "To calculate the values of the first principal component, we can define our own function to calculate a principal component given the loadings and the input variables' values:"
      ]
    },
    {
      "cell_type": "code",
      "metadata": {
        "id": "9q1xtq2WlY2C",
        "colab_type": "code",
        "colab": {}
      },
      "source": [
        "def calcpc(variables, loadings):\n",
        "    # find the number of samples in the data set and the number of variables\n",
        "    numsamples, numvariables = variables.shape\n",
        "    # make a vector to store the component\n",
        "    pc = np.zeros(numsamples)\n",
        "    # calculate the value of the component for each sample\n",
        "    for i in range(numsamples):\n",
        "        valuei = 0\n",
        "        for j in range(numvariables):\n",
        "            valueij = variables.iloc[i, j]\n",
        "            loadingj = loadings[j]\n",
        "            valuei = valuei + (valueij * loadingj)\n",
        "        pc[i] = valuei\n",
        "    return pc"
      ],
      "execution_count": null,
      "outputs": []
    },
    {
      "cell_type": "markdown",
      "metadata": {
        "id": "tO0VEQoSlY2E",
        "colab_type": "text"
      },
      "source": [
        "We can then use the function to calculate the values of the first principal component for each sample in our wine data:"
      ]
    },
    {
      "cell_type": "code",
      "metadata": {
        "id": "o3gG_k7GlY2E",
        "colab_type": "code",
        "colab": {},
        "outputId": "5496825c-8d7f-4767-9f60-c5213a995553"
      },
      "source": [
        "calcpc(standardisedX, pca.components_[0])"
      ],
      "execution_count": null,
      "outputs": [
        {
          "output_type": "execute_result",
          "data": {
            "text/plain": [
              "array([-3.31675081, -2.20946492, -2.51674015, -3.75706561, -1.00890849,\n",
              "       -3.05025392, -2.44908967, -2.05943687, -2.5108743 , -2.75362819,\n",
              "       -3.47973668, -1.7547529 , -2.11346234, -3.45815682, -4.31278391,\n",
              "       -2.3051882 , -2.17195527, -1.89897118, -3.54198508, -2.0845222 ,\n",
              "       -3.12440254, -1.08657007, -2.53522408, -1.64498834, -1.76157587,\n",
              "       -0.9900791 , -1.77527763, -1.23542396, -2.18840633, -2.25610898,\n",
              "       -2.50022003, -2.67741105, -1.62857912, -1.90269086, -1.41038853,\n",
              "       -1.90382623, -1.38486223, -1.12220741, -1.5021945 , -2.52980109,\n",
              "       -2.58809543, -0.66848199, -3.07080699, -0.46220914, -2.10135193,\n",
              "       -1.13616618, -2.72660096, -2.82133927, -2.00985085, -2.7074913 ,\n",
              "       -3.21491747, -2.85895983, -3.50560436, -2.22479138, -2.14698782,\n",
              "       -2.46932948, -2.74151791, -2.17374092, -3.13938015,  0.92858197,\n",
              "        1.54248014,  1.83624976, -0.03060683, -2.05026161,  0.60968083,\n",
              "       -0.90022784, -2.24850719, -0.18338403,  0.81280503, -1.9756205 ,\n",
              "        1.57221622, -1.65768181,  0.72537239, -2.56222717, -1.83256757,\n",
              "        0.8679929 , -0.3700144 ,  1.45737704, -1.26293085, -0.37615037,\n",
              "       -0.7620639 , -1.03457797,  0.49487676,  2.53897708, -0.83532015,\n",
              "       -0.78790461,  0.80683216,  0.55804262,  1.11511104,  0.55572283,\n",
              "        1.34928528,  1.56448261,  1.93255561, -0.74666594, -0.95745536,\n",
              "       -2.54386518,  0.54395259, -1.03104975, -2.25190942, -1.41021602,\n",
              "       -0.79771979,  0.54953173,  0.16117374,  0.65979494, -0.39235441,\n",
              "        1.77249908,  0.36626736,  1.62067257, -0.08253578, -1.57827507,\n",
              "       -1.42056925,  0.27870275,  1.30314497,  0.45707187,  0.49418585,\n",
              "       -0.48207441,  0.25288888,  0.10722764,  2.4330126 ,  0.55108954,\n",
              "       -0.73962193, -1.33632173,  1.177087  ,  0.46233501, -0.97847408,\n",
              "        0.09680973, -0.03848715,  1.5971585 ,  0.47956492,  1.79283347,\n",
              "        1.32710166,  2.38450083,  2.9369401 ,  2.14681113,  2.36986949,\n",
              "        3.06384157,  3.91575378,  3.93646339,  3.09427612,  2.37447163,\n",
              "        2.77881295,  2.28656128,  2.98563349,  2.3751947 ,  2.20986553,\n",
              "        2.625621  ,  4.28063878,  3.58264137,  2.80706372,  2.89965933,\n",
              "        2.32073698,  2.54983095,  1.81254128,  2.76014464,  2.7371505 ,\n",
              "        3.60486887,  2.889826  ,  3.39215608,  1.0481819 ,  1.60991228,\n",
              "        3.14313097,  2.2401569 ,  2.84767378,  2.59749706,  2.94929937,\n",
              "        3.53003227,  2.40611054,  2.92908473,  2.18141278,  2.38092779,\n",
              "        3.21161722,  3.67791872,  2.4655558 ,  3.37052415,  2.60195585,\n",
              "        2.67783946,  2.38701709,  3.20875816])"
            ]
          },
          "metadata": {
            "tags": []
          },
          "execution_count": 46
        }
      ]
    },
    {
      "cell_type": "markdown",
      "metadata": {
        "id": "NHrhjRYslY2H",
        "colab_type": "text"
      },
      "source": [
        "In fact, the values of the first principal component are computed with the following, so we can compare those values to the ones that we calculated, and they should agree:"
      ]
    },
    {
      "cell_type": "code",
      "metadata": {
        "id": "YUmYnMzSlY2H",
        "colab_type": "code",
        "colab": {},
        "outputId": "10c0676b-eb2c-4a93-87bf-37a6e60f625e"
      },
      "source": [
        "pca.transform(standardisedX)[:, 0]"
      ],
      "execution_count": null,
      "outputs": [
        {
          "output_type": "execute_result",
          "data": {
            "text/plain": [
              "array([-3.31675081, -2.20946492, -2.51674015, -3.75706561, -1.00890849,\n",
              "       -3.05025392, -2.44908967, -2.05943687, -2.5108743 , -2.75362819,\n",
              "       -3.47973668, -1.7547529 , -2.11346234, -3.45815682, -4.31278391,\n",
              "       -2.3051882 , -2.17195527, -1.89897118, -3.54198508, -2.0845222 ,\n",
              "       -3.12440254, -1.08657007, -2.53522408, -1.64498834, -1.76157587,\n",
              "       -0.9900791 , -1.77527763, -1.23542396, -2.18840633, -2.25610898,\n",
              "       -2.50022003, -2.67741105, -1.62857912, -1.90269086, -1.41038853,\n",
              "       -1.90382623, -1.38486223, -1.12220741, -1.5021945 , -2.52980109,\n",
              "       -2.58809543, -0.66848199, -3.07080699, -0.46220914, -2.10135193,\n",
              "       -1.13616618, -2.72660096, -2.82133927, -2.00985085, -2.7074913 ,\n",
              "       -3.21491747, -2.85895983, -3.50560436, -2.22479138, -2.14698782,\n",
              "       -2.46932948, -2.74151791, -2.17374092, -3.13938015,  0.92858197,\n",
              "        1.54248014,  1.83624976, -0.03060683, -2.05026161,  0.60968083,\n",
              "       -0.90022784, -2.24850719, -0.18338403,  0.81280503, -1.9756205 ,\n",
              "        1.57221622, -1.65768181,  0.72537239, -2.56222717, -1.83256757,\n",
              "        0.8679929 , -0.3700144 ,  1.45737704, -1.26293085, -0.37615037,\n",
              "       -0.7620639 , -1.03457797,  0.49487676,  2.53897708, -0.83532015,\n",
              "       -0.78790461,  0.80683216,  0.55804262,  1.11511104,  0.55572283,\n",
              "        1.34928528,  1.56448261,  1.93255561, -0.74666594, -0.95745536,\n",
              "       -2.54386518,  0.54395259, -1.03104975, -2.25190942, -1.41021602,\n",
              "       -0.79771979,  0.54953173,  0.16117374,  0.65979494, -0.39235441,\n",
              "        1.77249908,  0.36626736,  1.62067257, -0.08253578, -1.57827507,\n",
              "       -1.42056925,  0.27870275,  1.30314497,  0.45707187,  0.49418585,\n",
              "       -0.48207441,  0.25288888,  0.10722764,  2.4330126 ,  0.55108954,\n",
              "       -0.73962193, -1.33632173,  1.177087  ,  0.46233501, -0.97847408,\n",
              "        0.09680973, -0.03848715,  1.5971585 ,  0.47956492,  1.79283347,\n",
              "        1.32710166,  2.38450083,  2.9369401 ,  2.14681113,  2.36986949,\n",
              "        3.06384157,  3.91575378,  3.93646339,  3.09427612,  2.37447163,\n",
              "        2.77881295,  2.28656128,  2.98563349,  2.3751947 ,  2.20986553,\n",
              "        2.625621  ,  4.28063878,  3.58264137,  2.80706372,  2.89965933,\n",
              "        2.32073698,  2.54983095,  1.81254128,  2.76014464,  2.7371505 ,\n",
              "        3.60486887,  2.889826  ,  3.39215608,  1.0481819 ,  1.60991228,\n",
              "        3.14313097,  2.2401569 ,  2.84767378,  2.59749706,  2.94929937,\n",
              "        3.53003227,  2.40611054,  2.92908473,  2.18141278,  2.38092779,\n",
              "        3.21161722,  3.67791872,  2.4655558 ,  3.37052415,  2.60195585,\n",
              "        2.67783946,  2.38701709,  3.20875816])"
            ]
          },
          "metadata": {
            "tags": []
          },
          "execution_count": 47
        }
      ]
    },
    {
      "cell_type": "markdown",
      "metadata": {
        "id": "4xewcUd7lY2J",
        "colab_type": "text"
      },
      "source": [
        "We see that they do agree.\n",
        "\n",
        "The first principal component has highest (in absolute value) loadings for V8 (-0.423), V7 (-0.395), V13 (-0.376), V10 (-0.313), V12 (-0.297), V14 (-0.287), V9 (0.299), V3 (0.245), and V5 (0.239). The loadings for V8, V7, V13, V10, V12 and V14 are negative, while those for V9, V3, and V5 are positive. Therefore, an interpretation of the first principal component is that it represents a contrast between the concentrations of V8, V7, V13, V10, V12, and V14, and the concentrations of V9, V3 and V5.\n",
        "\n",
        "Similarly, we can obtain the loadings for the second principal component by typing:"
      ]
    },
    {
      "cell_type": "code",
      "metadata": {
        "id": "4gSqumyvlY2K",
        "colab_type": "code",
        "colab": {},
        "outputId": "284309a8-76fa-4bba-a8cf-4dacc6282418"
      },
      "source": [
        "pca.components_[1]"
      ],
      "execution_count": null,
      "outputs": [
        {
          "output_type": "execute_result",
          "data": {
            "text/plain": [
              "array([ 0.48365155,  0.22493093,  0.31606881, -0.0105905 ,  0.299634  ,\n",
              "        0.06503951, -0.00335981,  0.02877949,  0.03930172,  0.52999567,\n",
              "       -0.27923515, -0.16449619,  0.36490283])"
            ]
          },
          "metadata": {
            "tags": []
          },
          "execution_count": 48
        }
      ]
    },
    {
      "cell_type": "markdown",
      "metadata": {
        "id": "PJhwfOCelY2M",
        "colab_type": "text"
      },
      "source": [
        "This means that the second principal component is a linear combination of the variables: \n",
        "\n",
        "```\n",
        "0.484*Z2 + 0.225*Z3 + 0.316*Z4 - 0.011*Z5 + 0.300*Z6 + 0.065*Z7 - 0.003*Z8 + 0.029*Z9 + 0.039*Z10 + 0.530*Z11 - 0.279*Z12 - 0.164*Z13 + 0.365*Z14\n",
        "```\n",
        "\n",
        "where Z1, Z2, Z3, ..., Z14 are the standardised versions of variables V2, V3, ..., V14 that each have mean 0 and variance 1.\n",
        "\n",
        "Note that the square of the loadings sum to 1, as above:"
      ]
    },
    {
      "cell_type": "code",
      "metadata": {
        "id": "XdbrpJlUlY2M",
        "colab_type": "code",
        "colab": {},
        "outputId": "4b2ce0ab-36e0-41a8-ac5a-707f7401524b"
      },
      "source": [
        "np.sum(pca.components_[1]**2)"
      ],
      "execution_count": null,
      "outputs": [
        {
          "output_type": "execute_result",
          "data": {
            "text/plain": [
              "1.0000000000000011"
            ]
          },
          "metadata": {
            "tags": []
          },
          "execution_count": 49
        }
      ]
    },
    {
      "cell_type": "markdown",
      "metadata": {
        "id": "U2aZyWgclY2P",
        "colab_type": "text"
      },
      "source": [
        "The second principal component has highest loadings for V11 (0.530), V2 (0.484), V14 (0.365), V4 (0.316), V6 (0.300), V12 (-0.279), and V3 (0.225). The loadings for V11, V2, V14, V4, V6 and V3 are positive, while the loading for V12 is negative. Therefore, an interpretation of the second principal component is that it represents a contrast between the concentrations of V11, V2, V14, V4, V6 and V3, and the concentration of V12. Note that the loadings for V11 (0.530) and V2 (0.484) are the largest, so the contrast is mainly between the concentrations of V11 and V2, and the concentration of V12."
      ]
    },
    {
      "cell_type": "markdown",
      "metadata": {
        "id": "jxitEbzUlY2P",
        "colab_type": "text"
      },
      "source": [
        "### Scatterplots of the Principal Components\n",
        "\n",
        "\n",
        "The values of the principal components can be computed by the `transform()` (or `fit_transform()`) method of the `PCA` class. It returns a matrix with the principal components, where the first column in the matrix contains the first principal component, the second column the second component, and so on.\n",
        "\n",
        "Thus, in our example, `pca.transform(standardisedX)[:, 0]` contains the first principal component, and `pca.transform(standardisedX)[:, 1]` contains the second principal component.\n",
        "\n",
        "We can make a scatterplot of the first two principal components, and label the data points with the cultivar that the wine samples come from, by typing:"
      ]
    },
    {
      "cell_type": "code",
      "metadata": {
        "id": "1q5rUKuBlY2Q",
        "colab_type": "code",
        "colab": {},
        "outputId": "11befb90-c720-4ea0-9057-e411e1b62eaf"
      },
      "source": [
        "def pca_scatter(pca, standardised_values, classifs):\n",
        "    foo = pca.transform(standardised_values)\n",
        "    bar = pd.DataFrame(zip(foo[:, 0], foo[:, 1], classifs), columns=[\"PC1\", \"PC2\", \"Class\"])\n",
        "    sns.lmplot(\"PC1\", \"PC2\", bar, hue=\"Class\", fit_reg=False)\n",
        "\n",
        "pca_scatter(pca, standardisedX, y)"
      ],
      "execution_count": null,
      "outputs": [
        {
          "output_type": "display_data",
          "data": {
            "image/png": "[encoded data removed]",
            "text/plain": [
              "<matplotlib.figure.Figure at 0x1143d6150>"
            ]
          },
          "metadata": {
            "tags": []
          }
        }
      ]
    },
    {
      "cell_type": "markdown",
      "metadata": {
        "id": "F5tz2VuulY2S",
        "colab_type": "text"
      },
      "source": [
        "The scatterplot shows the first principal component on the x-axis, and the second principal component on the y-axis. We can see from the scatterplot that wine samples of cultivar 1 have much lower values of the first principal component than wine samples of cultivar 3. Therefore, the first principal component separates wine samples of cultivars 1 from those of cultivar 3.\n",
        "\n",
        "We can also see that wine samples of cultivar 2 have much higher values of the second principal component than wine samples of cultivars 1 and 3. Therefore, the second principal component separates samples of cultivar 2 from samples of cultivars 1 and 3.\n",
        "\n",
        "Therefore, the first two principal components are reasonably useful for distinguishing wine samples of the three different cultivars.\n",
        "\n",
        "Above, we interpreted the first principal component as a contrast between the concentrations of V8, V7, V13, V10, V12, and V14, and the concentrations of V9, V3 and V5. We can check whether this makes sense in terms of the concentrations of these chemicals in the different cultivars, by printing out the means of the standardised concentration variables in each cultivar, using the `printMeanAndSdByGroup()` function (see above):"
      ]
    },
    {
      "cell_type": "code",
      "metadata": {
        "id": "zn28KoL1lY2T",
        "colab_type": "code",
        "colab": {},
        "outputId": "a5e4c5ef-ef69-4e1b-c1b5-3d84a77ef7b8"
      },
      "source": [
        "printMeanAndSdByGroup(standardisedX, y);"
      ],
      "execution_count": null,
      "outputs": [
        {
          "output_type": "stream",
          "text": [
            "## Means:\n"
          ],
          "name": "stdout"
        },
        {
          "output_type": "display_data",
          "data": {
            "text/html": [
              "<div>\n",
              "<table border=\"1\" class=\"dataframe\">\n",
              "  <thead>\n",
              "    <tr style=\"text-align: right;\">\n",
              "      <th></th>\n",
              "      <th>V2</th>\n",
              "      <th>V3</th>\n",
              "      <th>V4</th>\n",
              "      <th>V5</th>\n",
              "      <th>V6</th>\n",
              "      <th>V7</th>\n",
              "      <th>V8</th>\n",
              "      <th>V9</th>\n",
              "      <th>V10</th>\n",
              "      <th>V11</th>\n",
              "      <th>V12</th>\n",
              "      <th>V13</th>\n",
              "      <th>V14</th>\n",
              "    </tr>\n",
              "    <tr>\n",
              "      <th>V1</th>\n",
              "      <th></th>\n",
              "      <th></th>\n",
              "      <th></th>\n",
              "      <th></th>\n",
              "      <th></th>\n",
              "      <th></th>\n",
              "      <th></th>\n",
              "      <th></th>\n",
              "      <th></th>\n",
              "      <th></th>\n",
              "      <th></th>\n",
              "      <th></th>\n",
              "      <th></th>\n",
              "    </tr>\n",
              "  </thead>\n",
              "  <tbody>\n",
              "    <tr>\n",
              "      <th>1</th>\n",
              "      <td>0.919195</td>\n",
              "      <td>-0.292342</td>\n",
              "      <td>0.325604</td>\n",
              "      <td>-0.737997</td>\n",
              "      <td>0.463226</td>\n",
              "      <td>0.873362</td>\n",
              "      <td>0.956884</td>\n",
              "      <td>-0.578985</td>\n",
              "      <td>0.540383</td>\n",
              "      <td>0.203401</td>\n",
              "      <td>0.458847</td>\n",
              "      <td>0.771351</td>\n",
              "      <td>1.174501</td>\n",
              "    </tr>\n",
              "    <tr>\n",
              "      <th>2</th>\n",
              "      <td>-0.891720</td>\n",
              "      <td>-0.362362</td>\n",
              "      <td>-0.444958</td>\n",
              "      <td>0.223137</td>\n",
              "      <td>-0.364567</td>\n",
              "      <td>-0.058067</td>\n",
              "      <td>0.051780</td>\n",
              "      <td>0.014569</td>\n",
              "      <td>0.069002</td>\n",
              "      <td>-0.852799</td>\n",
              "      <td>0.433611</td>\n",
              "      <td>0.245294</td>\n",
              "      <td>-0.724110</td>\n",
              "    </tr>\n",
              "    <tr>\n",
              "      <th>3</th>\n",
              "      <td>0.189159</td>\n",
              "      <td>0.895331</td>\n",
              "      <td>0.257945</td>\n",
              "      <td>0.577065</td>\n",
              "      <td>-0.030127</td>\n",
              "      <td>-0.987617</td>\n",
              "      <td>-1.252761</td>\n",
              "      <td>0.690119</td>\n",
              "      <td>-0.766287</td>\n",
              "      <td>1.011418</td>\n",
              "      <td>-1.205382</td>\n",
              "      <td>-1.310950</td>\n",
              "      <td>-0.372578</td>\n",
              "    </tr>\n",
              "  </tbody>\n",
              "</table>\n",
              "</div>"
            ],
            "text/plain": [
              "          V2        V3        V4        V5        V6        V7        V8  \\\n",
              "V1                                                                         \n",
              "1   0.919195 -0.292342  0.325604 -0.737997  0.463226  0.873362  0.956884   \n",
              "2  -0.891720 -0.362362 -0.444958  0.223137 -0.364567 -0.058067  0.051780   \n",
              "3   0.189159  0.895331  0.257945  0.577065 -0.030127 -0.987617 -1.252761   \n",
              "\n",
              "          V9       V10       V11       V12       V13       V14  \n",
              "V1                                                              \n",
              "1  -0.578985  0.540383  0.203401  0.458847  0.771351  1.174501  \n",
              "2   0.014569  0.069002 -0.852799  0.433611  0.245294 -0.724110  \n",
              "3   0.690119 -0.766287  1.011418 -1.205382 -1.310950 -0.372578  "
            ]
          },
          "metadata": {
            "tags": []
          }
        },
        {
          "output_type": "stream",
          "text": [
            "\n",
            "## Standard deviations:\n"
          ],
          "name": "stdout"
        },
        {
          "output_type": "display_data",
          "data": {
            "text/html": [
              "<div>\n",
              "<table border=\"1\" class=\"dataframe\">\n",
              "  <thead>\n",
              "    <tr style=\"text-align: right;\">\n",
              "      <th></th>\n",
              "      <th>V2</th>\n",
              "      <th>V3</th>\n",
              "      <th>V4</th>\n",
              "      <th>V5</th>\n",
              "      <th>V6</th>\n",
              "      <th>V7</th>\n",
              "      <th>V8</th>\n",
              "      <th>V9</th>\n",
              "      <th>V10</th>\n",
              "      <th>V11</th>\n",
              "      <th>V12</th>\n",
              "      <th>V13</th>\n",
              "      <th>V14</th>\n",
              "    </tr>\n",
              "    <tr>\n",
              "      <th>V1</th>\n",
              "      <th></th>\n",
              "      <th></th>\n",
              "      <th></th>\n",
              "      <th></th>\n",
              "      <th></th>\n",
              "      <th></th>\n",
              "      <th></th>\n",
              "      <th></th>\n",
              "      <th></th>\n",
              "      <th></th>\n",
              "      <th></th>\n",
              "      <th></th>\n",
              "      <th></th>\n",
              "    </tr>\n",
              "  </thead>\n",
              "  <tbody>\n",
              "    <tr>\n",
              "      <th>1</th>\n",
              "      <td>0.565989</td>\n",
              "      <td>0.612825</td>\n",
              "      <td>0.823302</td>\n",
              "      <td>0.758115</td>\n",
              "      <td>0.730892</td>\n",
              "      <td>0.538506</td>\n",
              "      <td>0.395674</td>\n",
              "      <td>0.559639</td>\n",
              "      <td>0.715905</td>\n",
              "      <td>0.531210</td>\n",
              "      <td>0.506699</td>\n",
              "      <td>0.500058</td>\n",
              "      <td>0.699428</td>\n",
              "    </tr>\n",
              "    <tr>\n",
              "      <th>2</th>\n",
              "      <td>0.659832</td>\n",
              "      <td>0.905196</td>\n",
              "      <td>1.144991</td>\n",
              "      <td>0.998777</td>\n",
              "      <td>1.168006</td>\n",
              "      <td>0.867674</td>\n",
              "      <td>0.703493</td>\n",
              "      <td>0.991797</td>\n",
              "      <td>1.047418</td>\n",
              "      <td>0.397269</td>\n",
              "      <td>0.884060</td>\n",
              "      <td>0.696425</td>\n",
              "      <td>0.497100</td>\n",
              "    </tr>\n",
              "    <tr>\n",
              "      <th>3</th>\n",
              "      <td>0.648130</td>\n",
              "      <td>0.966347</td>\n",
              "      <td>0.668036</td>\n",
              "      <td>0.670991</td>\n",
              "      <td>0.756649</td>\n",
              "      <td>0.565996</td>\n",
              "      <td>0.291583</td>\n",
              "      <td>0.989818</td>\n",
              "      <td>0.708814</td>\n",
              "      <td>0.989176</td>\n",
              "      <td>0.496834</td>\n",
              "      <td>0.380317</td>\n",
              "      <td>0.362688</td>\n",
              "    </tr>\n",
              "  </tbody>\n",
              "</table>\n",
              "</div>"
            ],
            "text/plain": [
              "          V2        V3        V4        V5        V6        V7        V8  \\\n",
              "V1                                                                         \n",
              "1   0.565989  0.612825  0.823302  0.758115  0.730892  0.538506  0.395674   \n",
              "2   0.659832  0.905196  1.144991  0.998777  1.168006  0.867674  0.703493   \n",
              "3   0.648130  0.966347  0.668036  0.670991  0.756649  0.565996  0.291583   \n",
              "\n",
              "          V9       V10       V11       V12       V13       V14  \n",
              "V1                                                              \n",
              "1   0.559639  0.715905  0.531210  0.506699  0.500058  0.699428  \n",
              "2   0.991797  1.047418  0.397269  0.884060  0.696425  0.497100  \n",
              "3   0.989818  0.708814  0.989176  0.496834  0.380317  0.362688  "
            ]
          },
          "metadata": {
            "tags": []
          }
        },
        {
          "output_type": "stream",
          "text": [
            "\n",
            "## Sample sizes:\n"
          ],
          "name": "stdout"
        },
        {
          "output_type": "display_data",
          "data": {
            "text/html": [
              "<div>\n",
              "<table border=\"1\" class=\"dataframe\">\n",
              "  <thead>\n",
              "    <tr style=\"text-align: right;\">\n",
              "      <th></th>\n",
              "      <th>0</th>\n",
              "    </tr>\n",
              "    <tr>\n",
              "      <th>V1</th>\n",
              "      <th></th>\n",
              "    </tr>\n",
              "  </thead>\n",
              "  <tbody>\n",
              "    <tr>\n",
              "      <th>1</th>\n",
              "      <td>59</td>\n",
              "    </tr>\n",
              "    <tr>\n",
              "      <th>2</th>\n",
              "      <td>71</td>\n",
              "    </tr>\n",
              "    <tr>\n",
              "      <th>3</th>\n",
              "      <td>48</td>\n",
              "    </tr>\n",
              "  </tbody>\n",
              "</table>\n",
              "</div>"
            ],
            "text/plain": [
              "     0\n",
              "V1    \n",
              "1   59\n",
              "2   71\n",
              "3   48"
            ]
          },
          "metadata": {
            "tags": []
          }
        }
      ]
    },
    {
      "cell_type": "markdown",
      "metadata": {
        "id": "SQHHjVEKlY2V",
        "colab_type": "text"
      },
      "source": [
        "Does it make sense that the first principal component can separate cultivar 1 from cultivar 3? In cultivar 1, the mean values of V8 (0.954), V7 (0.871), V13 (0.769), V10 (0.539), V12 (0.458) and V14 (1.171) are very high compared to the mean values of V9 (-0.577), V3 (-0.292) and V5 (-0.736). In cultivar 3, the mean values of V8 (-1.249), V7 (-0.985), V13 (-1.307), V10 (-0.764), V12 (-1.202) and V14 (-0.372) are very low compared to the mean values of V9 (0.688), V3 (0.893) and V5 (0.575). Therefore, it does make sense that principal component 1 is a contrast between the concentrations of V8, V7, V13, V10, V12, and V14, and the concentrations of V9, V3 and V5; and that principal component 1 can separate cultivar 1 from cultivar 3.\n",
        "\n",
        "Above, we intepreted the second principal component as a contrast between the concentrations of V11, V2, V14, V4, V6 and V3, and the concentration of V12. In the light of the mean values of these variables in the different cultivars, does it make sense that the second principal component can separate cultivar 2 from cultivars 1 and 3? In cultivar 1, the mean values of V11 (0.203), V2 (0.917), V14 (1.171), V4 (0.325), V6 (0.462) and V3 (-0.292) are not very different from the mean value of V12 (0.458). In cultivar 3, the mean values of V11 (1.009), V2 (0.189), V14 (-0.372), V4 (0.257), V6 (-0.030) and V3 (0.893) are also not very different from the mean value of V12 (-1.202). In contrast, in cultivar 2, the mean values of V11 (-0.850), V2 (-0.889), V14 (-0.722), V4 (-0.444), V6 (-0.364) and V3 (-0.361) are much less than the mean value of V12 (0.432). Therefore, it makes sense that principal component is a contrast between the concentrations of V11, V2, V14, V4, V6 and V3, and the concentration of V12; and that principal component 2 can separate cultivar 2 from cultivars 1 and 3."
      ]
    },
    {
      "cell_type": "markdown",
      "metadata": {
        "id": "-fL4JWAHlY2W",
        "colab_type": "text"
      },
      "source": [
        "## Linear Discriminant Analysis\n",
        "\n",
        "The purpose of principal component analysis is to find the best low-dimensional representation of the variation in a multivariate data set. For example, in the wine data set, we have 13 chemical concentrations describing wine samples from three cultivars. By carrying out a principal component analysis, we found that most of the variation in the chemical concentrations between the samples can be captured using the first two principal components, where each of the principal components is a particular linear combination of the 13 chemical concentrations.\n",
        "\n",
        "The purpose of linear discriminant analysis (LDA) is to find the linear combinations of the original variables (the 13 chemical concentrations here) that gives the best possible separation between the groups (wine cultivars here) in our data set. *Linear discriminant analysis* is also known as *canonical discriminant analysis*, or simply *discriminant analysis*.\n",
        "\n",
        "If we want to separate the wines by cultivar, the wines come from three different cultivars, so the number of groups (G) is 3, and the number of variables is 13 (13 chemicals’ concentrations; p = 13). The maximum number of useful discriminant functions that can separate the wines by cultivar is the minimum of G-1 and p, and so in this case it is the minimum of 2 and 13, which is 2. Thus, we can find at most 2 useful discriminant functions to separate the wines by cultivar, using the 13 chemical concentration variables.\n",
        "\n",
        "You can carry out a linear discriminant analysis by using the `LinearDiscriminantAnalysis` class model from the module `sklearn.discriminant_analysis` and using its method `fit()` to fit our `X, y` data.\n",
        "\n",
        "For example, to carry out a linear discriminant analysis using the 13 chemical concentrations in the wine samples, we type:"
      ]
    },
    {
      "cell_type": "code",
      "metadata": {
        "id": "SjYRJ-2ZlY2W",
        "colab_type": "code",
        "colab": {}
      },
      "source": [
        "lda = LinearDiscriminantAnalysis().fit(X, y)"
      ],
      "execution_count": null,
      "outputs": []
    },
    {
      "cell_type": "markdown",
      "metadata": {
        "id": "nUNn2O-KlY2Z",
        "colab_type": "text"
      },
      "source": [
        "### Loadings for the Discriminant Functions\n",
        "\n",
        "The values of the loadings of the discriminant functions for the wine data are stored in the `scalings_` member of the `lda` object model. For a pretty print we can type:"
      ]
    },
    {
      "cell_type": "code",
      "metadata": {
        "id": "Ws5KwDIjlY2Z",
        "colab_type": "code",
        "colab": {},
        "outputId": "c96a2df3-9b50-473c-a421-5ab8543b127f"
      },
      "source": [
        "def pretty_scalings(lda, X, out=False):\n",
        "    ret = pd.DataFrame(lda.scalings_, index=X.columns, columns=[\"LD\"+str(i+1) for i in range(lda.scalings_.shape[1])])\n",
        "    if out:\n",
        "        print(\"Coefficients of linear discriminants:\")\n",
        "        display(ret)\n",
        "    return ret\n",
        "\n",
        "pretty_scalings_ = pretty_scalings(lda, X, out=True)"
      ],
      "execution_count": null,
      "outputs": [
        {
          "output_type": "stream",
          "text": [
            "Coefficients of linear discriminants:\n"
          ],
          "name": "stdout"
        },
        {
          "output_type": "display_data",
          "data": {
            "text/html": [
              "<div>\n",
              "<table border=\"1\" class=\"dataframe\">\n",
              "  <thead>\n",
              "    <tr style=\"text-align: right;\">\n",
              "      <th></th>\n",
              "      <th>LD1</th>\n",
              "      <th>LD2</th>\n",
              "    </tr>\n",
              "  </thead>\n",
              "  <tbody>\n",
              "    <tr>\n",
              "      <th>V2</th>\n",
              "      <td>-0.403400</td>\n",
              "      <td>0.871793</td>\n",
              "    </tr>\n",
              "    <tr>\n",
              "      <th>V3</th>\n",
              "      <td>0.165255</td>\n",
              "      <td>0.305380</td>\n",
              "    </tr>\n",
              "    <tr>\n",
              "      <th>V4</th>\n",
              "      <td>-0.369075</td>\n",
              "      <td>2.345850</td>\n",
              "    </tr>\n",
              "    <tr>\n",
              "      <th>V5</th>\n",
              "      <td>0.154798</td>\n",
              "      <td>-0.146381</td>\n",
              "    </tr>\n",
              "    <tr>\n",
              "      <th>V6</th>\n",
              "      <td>-0.002163</td>\n",
              "      <td>-0.000463</td>\n",
              "    </tr>\n",
              "    <tr>\n",
              "      <th>V7</th>\n",
              "      <td>0.618052</td>\n",
              "      <td>-0.032213</td>\n",
              "    </tr>\n",
              "    <tr>\n",
              "      <th>V8</th>\n",
              "      <td>-1.661191</td>\n",
              "      <td>-0.491998</td>\n",
              "    </tr>\n",
              "    <tr>\n",
              "      <th>V9</th>\n",
              "      <td>-1.495818</td>\n",
              "      <td>-1.630954</td>\n",
              "    </tr>\n",
              "    <tr>\n",
              "      <th>V10</th>\n",
              "      <td>0.134093</td>\n",
              "      <td>-0.307088</td>\n",
              "    </tr>\n",
              "    <tr>\n",
              "      <th>V11</th>\n",
              "      <td>0.355056</td>\n",
              "      <td>0.253231</td>\n",
              "    </tr>\n",
              "    <tr>\n",
              "      <th>V12</th>\n",
              "      <td>-0.818036</td>\n",
              "      <td>-1.515634</td>\n",
              "    </tr>\n",
              "    <tr>\n",
              "      <th>V13</th>\n",
              "      <td>-1.157559</td>\n",
              "      <td>0.051184</td>\n",
              "    </tr>\n",
              "    <tr>\n",
              "      <th>V14</th>\n",
              "      <td>-0.002691</td>\n",
              "      <td>0.002853</td>\n",
              "    </tr>\n",
              "  </tbody>\n",
              "</table>\n",
              "</div>"
            ],
            "text/plain": [
              "          LD1       LD2\n",
              "V2  -0.403400  0.871793\n",
              "V3   0.165255  0.305380\n",
              "V4  -0.369075  2.345850\n",
              "V5   0.154798 -0.146381\n",
              "V6  -0.002163 -0.000463\n",
              "V7   0.618052 -0.032213\n",
              "V8  -1.661191 -0.491998\n",
              "V9  -1.495818 -1.630954\n",
              "V10  0.134093 -0.307088\n",
              "V11  0.355056  0.253231\n",
              "V12 -0.818036 -1.515634\n",
              "V13 -1.157559  0.051184\n",
              "V14 -0.002691  0.002853"
            ]
          },
          "metadata": {
            "tags": []
          }
        }
      ]
    },
    {
      "cell_type": "markdown",
      "metadata": {
        "id": "ZNX9MzqjlY2b",
        "colab_type": "text"
      },
      "source": [
        "This means that the first discriminant function is a linear combination of the variables:\n",
        "```\n",
        "-0.403*V2 + 0.165*V3 - 0.369*V4 + 0.155*V5 - 0.002*V6 + 0.618*V7 - 1.661*V8 - 1.496*V9 + 0.134*V10 + 0.355*V11 - 0.818*V12 - 1.158*V13 - 0.003*V14\n",
        "```\n",
        "where V2, V3, ..., V14 are the concentrations of the 14 chemicals found in the wine samples. For convenience, the value for each discriminant function (eg. the first discriminant function) are scaled so that their mean value is zero (see below).\n",
        "\n",
        "Note that these loadings are calculated so that the within-group variance of each discriminant function for each group (cultivar) is equal to 1, as will be demonstrated below.\n",
        "\n",
        "As mentioned above, these scalings are stored in the named member `scalings_` of the object variable returned by `LinearDiscriminantAnalysis().fit(X, y)`. This element contains a numpy array, in which the first column contains the loadings for the first discriminant function, the second column contains the loadings for the second discriminant function and so on. For example, to extract the loadings for the first discriminant function, we can type:"
      ]
    },
    {
      "cell_type": "code",
      "metadata": {
        "id": "diT8cDo4lY2c",
        "colab_type": "code",
        "colab": {},
        "outputId": "382247cb-6c8e-4730-e809-087ecc5e2059"
      },
      "source": [
        "lda.scalings_[:, 0]"
      ],
      "execution_count": null,
      "outputs": [
        {
          "output_type": "execute_result",
          "data": {
            "text/plain": [
              "array([-0.40339978,  0.1652546 , -0.36907526,  0.15479789, -0.0021635 ,\n",
              "        0.61805207, -1.66119123, -1.49581844,  0.13409263,  0.35505571,\n",
              "       -0.81803607, -1.15755938, -0.00269121])"
            ]
          },
          "metadata": {
            "tags": []
          },
          "execution_count": 54
        }
      ]
    },
    {
      "cell_type": "markdown",
      "metadata": {
        "id": "FgMsnow0lY2d",
        "colab_type": "text"
      },
      "source": [
        "Or for \"prettier\" print, use the dataframe variable created above:"
      ]
    },
    {
      "cell_type": "code",
      "metadata": {
        "id": "nQFGsglKlY2e",
        "colab_type": "code",
        "colab": {},
        "outputId": "64a267f5-9f83-4796-c1a9-a7a160b6105b"
      },
      "source": [
        "pretty_scalings_.LD1"
      ],
      "execution_count": null,
      "outputs": [
        {
          "output_type": "execute_result",
          "data": {
            "text/plain": [
              "V2    -0.403400\n",
              "V3     0.165255\n",
              "V4    -0.369075\n",
              "V5     0.154798\n",
              "V6    -0.002163\n",
              "V7     0.618052\n",
              "V8    -1.661191\n",
              "V9    -1.495818\n",
              "V10    0.134093\n",
              "V11    0.355056\n",
              "V12   -0.818036\n",
              "V13   -1.157559\n",
              "V14   -0.002691\n",
              "Name: LD1, dtype: float64"
            ]
          },
          "metadata": {
            "tags": []
          },
          "execution_count": 55
        }
      ]
    },
    {
      "cell_type": "markdown",
      "metadata": {
        "id": "WHhY1IadlY2g",
        "colab_type": "text"
      },
      "source": [
        "To calculate the values of the first discriminant function, we can define our own function `calclda()`:"
      ]
    },
    {
      "cell_type": "code",
      "metadata": {
        "id": "IMgMPHUIlY2h",
        "colab_type": "code",
        "colab": {}
      },
      "source": [
        "def calclda(variables, loadings):\n",
        "    # find the number of samples in the data set and the number of variables\n",
        "    numsamples, numvariables = variables.shape\n",
        "    # make a vector to store the discriminant function\n",
        "    ld = np.zeros(numsamples)\n",
        "    # calculate the value of the discriminant function for each sample\n",
        "    for i in range(numsamples):\n",
        "        valuei = 0\n",
        "        for j in range(numvariables):\n",
        "            valueij = variables.iloc[i, j]\n",
        "            loadingj = loadings[j]\n",
        "            valuei = valuei + (valueij * loadingj)\n",
        "        ld[i] = valuei\n",
        "    # standardise the discriminant function so that its mean value is 0:\n",
        "    ld = scale(ld, with_std=False)\n",
        "    return ld"
      ],
      "execution_count": null,
      "outputs": []
    },
    {
      "cell_type": "markdown",
      "metadata": {
        "id": "k-xW1sOplY2i",
        "colab_type": "text"
      },
      "source": [
        "The function `calclda()` simply calculates the value of a discriminant function for each sample in the data set, for example, for the first disriminant function, for each sample we calculate the value using the equation:\n",
        "\n",
        "```\n",
        "-0.403*V2 - 0.165*V3 - 0.369*V4 + 0.155*V5 - 0.002*V6 + 0.618*V7 - 1.661*V8 - 1.496*V9 + 0.134*V10 + 0.355*V11 - 0.818*V12 - 1.158*V13 - 0.003*V14\n",
        "```\n",
        "\n",
        "Furthermore, the `scale()` command is used within the `calclda()` function in order to standardise the value of a discriminant function (eg. the first discriminant function) so that its mean value (over all the wine samples) is 0.\n",
        "\n",
        "We can use the function `calclda()` to calculate the values of the first discriminant function for each sample in our wine data:"
      ]
    },
    {
      "cell_type": "code",
      "metadata": {
        "id": "zPLKCB4QlY2j",
        "colab_type": "code",
        "colab": {},
        "outputId": "f7c8be5b-a2b7-4bf7-cebd-70e39146a483"
      },
      "source": [
        "calclda(X, lda.scalings_[:, 0])"
      ],
      "execution_count": null,
      "outputs": [
        {
          "output_type": "execute_result",
          "data": {
            "text/plain": [
              "array([-4.70024401, -4.30195811, -3.42071952, -4.20575366, -1.50998168,\n",
              "       -4.51868934, -4.52737794, -4.14834781, -3.86082876, -3.36662444,\n",
              "       -4.80587907, -3.42807646, -3.66610246, -5.58824635, -5.50131449,\n",
              "       -3.18475189, -3.28936988, -2.99809262, -5.24640372, -3.13653106,\n",
              "       -3.57747791, -1.69077135, -4.83515033, -3.09588961, -3.32164716,\n",
              "       -2.14482223, -3.9824285 , -2.68591432, -3.56309464, -3.17301573,\n",
              "       -2.99626797, -3.56866244, -3.38506383, -3.5275375 , -2.85190852,\n",
              "       -2.79411996, -2.75808511, -2.17734477, -3.02926382, -3.27105228,\n",
              "       -2.92065533, -2.23721062, -4.69972568, -1.23036133, -2.58203904,\n",
              "       -2.58312049, -3.88887889, -3.44975356, -2.34223331, -3.52062596,\n",
              "       -3.21840912, -4.38214896, -4.36311727, -3.51917293, -3.12277475,\n",
              "       -1.8024054 , -2.87378754, -3.61690518, -3.73868551,  1.58618749,\n",
              "        0.79967216,  2.38015446, -0.45917726, -0.50726885,  0.39398359,\n",
              "       -0.92256616, -1.95549377, -0.34732815,  0.20371212, -0.24831914,\n",
              "        1.17987999, -1.07718925,  0.64100179, -1.74684421, -0.34721117,\n",
              "        1.14274222,  0.18665882,  0.900525  , -0.70709551, -0.59562833,\n",
              "       -0.55761818, -1.80430417,  0.23077079,  2.03482711, -0.62113021,\n",
              "       -1.03372742,  0.76598781,  0.35042568,  0.15324508, -0.14962842,\n",
              "        0.48079504,  1.39689016,  0.91972331, -0.59102937,  0.49411386,\n",
              "       -1.62614426,  2.00044562, -1.00534818, -2.07121314, -1.6381589 ,\n",
              "       -1.0589434 ,  0.02594549, -0.21887407,  1.3643764 , -1.12901245,\n",
              "       -0.21263094, -0.77946884,  0.61546732,  0.22550192, -2.03869851,\n",
              "        0.79274716,  0.30229545, -0.50664882,  0.99837397, -0.21954922,\n",
              "       -0.37131517,  0.05545894, -0.09137874,  1.79755252, -0.17405009,\n",
              "       -1.17870281, -3.2105439 ,  0.62605202,  0.03366613, -0.6993008 ,\n",
              "       -0.72061079, -0.51933512,  1.17030045,  0.10824791,  1.12319783,\n",
              "        2.24632419,  3.28527755,  4.07236441,  3.86691235,  3.45088333,\n",
              "        3.71583899,  3.9222051 ,  4.8516102 ,  3.54993389,  3.76889174,\n",
              "        2.6694225 ,  2.32491492,  3.17712883,  2.88964418,  3.78325562,\n",
              "        3.04411324,  4.70697017,  4.85021393,  4.98359184,  4.86968293,\n",
              "        4.5986919 ,  5.67447884,  5.32986123,  5.03401031,  4.52080087,\n",
              "        5.0978371 ,  5.04368277,  4.86980829,  5.61316558,  5.67046737,\n",
              "        5.37413513,  3.09975377,  3.35888137,  3.04007194,  4.94861303,\n",
              "        4.54504458,  5.27255844,  5.13016117,  4.30468082,  5.08336782,\n",
              "        4.06743571,  5.74212961,  4.4820514 ,  4.29150758,  4.50329623,\n",
              "        5.04747033,  4.27615505,  5.5380861 ])"
            ]
          },
          "metadata": {
            "tags": []
          },
          "execution_count": 57
        }
      ]
    },
    {
      "cell_type": "markdown",
      "metadata": {
        "id": "EZnw83NklY2l",
        "colab_type": "text"
      },
      "source": [
        "In fact, the values of the first linear discriminant function can be calculated using the `transform(X)` or `fit_transform(X, y)` methods of the LDA object, so we can compare those to the ones that we calculated, and they should agree:"
      ]
    },
    {
      "cell_type": "code",
      "metadata": {
        "id": "nNfQWMSDlY2l",
        "colab_type": "code",
        "colab": {},
        "outputId": "5f4fe947-3183-4d41-e612-2a94ff273da1"
      },
      "source": [
        "# Try either, they produce the same result, use help() for more info\n",
        "# lda.transform(X)[:, 0]\n",
        "lda.fit_transform(X, y)[:, 0]"
      ],
      "execution_count": null,
      "outputs": [
        {
          "output_type": "execute_result",
          "data": {
            "text/plain": [
              "array([-4.70024401, -4.30195811, -3.42071952, -4.20575366, -1.50998168,\n",
              "       -4.51868934, -4.52737794, -4.14834781, -3.86082876, -3.36662444,\n",
              "       -4.80587907, -3.42807646, -3.66610246, -5.58824635, -5.50131449,\n",
              "       -3.18475189, -3.28936988, -2.99809262, -5.24640372, -3.13653106,\n",
              "       -3.57747791, -1.69077135, -4.83515033, -3.09588961, -3.32164716,\n",
              "       -2.14482223, -3.9824285 , -2.68591432, -3.56309464, -3.17301573,\n",
              "       -2.99626797, -3.56866244, -3.38506383, -3.5275375 , -2.85190852,\n",
              "       -2.79411996, -2.75808511, -2.17734477, -3.02926382, -3.27105228,\n",
              "       -2.92065533, -2.23721062, -4.69972568, -1.23036133, -2.58203904,\n",
              "       -2.58312049, -3.88887889, -3.44975356, -2.34223331, -3.52062596,\n",
              "       -3.21840912, -4.38214896, -4.36311727, -3.51917293, -3.12277475,\n",
              "       -1.8024054 , -2.87378754, -3.61690518, -3.73868551,  1.58618749,\n",
              "        0.79967216,  2.38015446, -0.45917726, -0.50726885,  0.39398359,\n",
              "       -0.92256616, -1.95549377, -0.34732815,  0.20371212, -0.24831914,\n",
              "        1.17987999, -1.07718925,  0.64100179, -1.74684421, -0.34721117,\n",
              "        1.14274222,  0.18665882,  0.900525  , -0.70709551, -0.59562833,\n",
              "       -0.55761818, -1.80430417,  0.23077079,  2.03482711, -0.62113021,\n",
              "       -1.03372742,  0.76598781,  0.35042568,  0.15324508, -0.14962842,\n",
              "        0.48079504,  1.39689016,  0.91972331, -0.59102937,  0.49411386,\n",
              "       -1.62614426,  2.00044562, -1.00534818, -2.07121314, -1.6381589 ,\n",
              "       -1.0589434 ,  0.02594549, -0.21887407,  1.3643764 , -1.12901245,\n",
              "       -0.21263094, -0.77946884,  0.61546732,  0.22550192, -2.03869851,\n",
              "        0.79274716,  0.30229545, -0.50664882,  0.99837397, -0.21954922,\n",
              "       -0.37131517,  0.05545894, -0.09137874,  1.79755252, -0.17405009,\n",
              "       -1.17870281, -3.2105439 ,  0.62605202,  0.03366613, -0.6993008 ,\n",
              "       -0.72061079, -0.51933512,  1.17030045,  0.10824791,  1.12319783,\n",
              "        2.24632419,  3.28527755,  4.07236441,  3.86691235,  3.45088333,\n",
              "        3.71583899,  3.9222051 ,  4.8516102 ,  3.54993389,  3.76889174,\n",
              "        2.6694225 ,  2.32491492,  3.17712883,  2.88964418,  3.78325562,\n",
              "        3.04411324,  4.70697017,  4.85021393,  4.98359184,  4.86968293,\n",
              "        4.5986919 ,  5.67447884,  5.32986123,  5.03401031,  4.52080087,\n",
              "        5.0978371 ,  5.04368277,  4.86980829,  5.61316558,  5.67046737,\n",
              "        5.37413513,  3.09975377,  3.35888137,  3.04007194,  4.94861303,\n",
              "        4.54504458,  5.27255844,  5.13016117,  4.30468082,  5.08336782,\n",
              "        4.06743571,  5.74212961,  4.4820514 ,  4.29150758,  4.50329623,\n",
              "        5.04747033,  4.27615505,  5.5380861 ])"
            ]
          },
          "metadata": {
            "tags": []
          },
          "execution_count": 58
        }
      ]
    },
    {
      "cell_type": "markdown",
      "metadata": {
        "id": "Gy5Y060xlY2p",
        "colab_type": "text"
      },
      "source": [
        "We see that they do agree.\n",
        "\n",
        "It doesn’t matter whether the input variables for linear discriminant analysis are standardised or not, unlike for principal components analysis in which it is often necessary to standardise the input variables. However, using standardised variables in linear discriminant analysis makes it easier to interpret the loadings in a linear discriminant function.\n",
        "\n",
        "In linear discriminant analysis, the standardised version of an input variable is defined so that it has mean zero and within-groups variance of 1. Thus, we can calculate the “group-standardised” variable by subtracting the mean from each value of the variable, and dividing by the within-groups standard deviation. To calculate the group-standardised version of a set of variables, we can use the function `groupStandardise()` below:"
      ]
    },
    {
      "cell_type": "code",
      "metadata": {
        "id": "jOvnb1LWlY2q",
        "colab_type": "code",
        "colab": {}
      },
      "source": [
        "def groupStandardise(variables, groupvariable):\n",
        "    # find the number of samples in the data set and the number of variables\n",
        "    numsamples, numvariables = variables.shape\n",
        "    # find the variable names\n",
        "    variablenames = variables.columns\n",
        "    # calculate the group-standardised version of each variable\n",
        "    variables_new = pd.DataFrame()\n",
        "    for i in range(numvariables):\n",
        "        variable_name = variablenames[i]\n",
        "        variablei = variables[variable_name]\n",
        "        variablei_Vw = calcWithinGroupsVariance(variablei, groupvariable)\n",
        "        variablei_mean = np.mean(variablei)\n",
        "        variablei_new = (variablei - variablei_mean)/(np.sqrt(variablei_Vw))\n",
        "        variables_new[variable_name] = variablei_new\n",
        "    return variables_new"
      ],
      "execution_count": null,
      "outputs": []
    },
    {
      "cell_type": "markdown",
      "metadata": {
        "id": "Z2qjBtnvlY2s",
        "colab_type": "text"
      },
      "source": [
        "For example, we can use the `groupStandardise()` function to calculate the group-standardised versions of the chemical concentrations in wine samples:"
      ]
    },
    {
      "cell_type": "code",
      "metadata": {
        "id": "M86GQkpklY2s",
        "colab_type": "code",
        "colab": {}
      },
      "source": [
        "groupstandardisedX = groupStandardise(X, y)"
      ],
      "execution_count": null,
      "outputs": []
    },
    {
      "cell_type": "markdown",
      "metadata": {
        "id": "H9v_hntblY2x",
        "colab_type": "text"
      },
      "source": [
        "We can then use the `LinearDiscriminantAnalysis().fit()` method to perform linear disriminant analysis on the group-standardised variables:"
      ]
    },
    {
      "cell_type": "code",
      "metadata": {
        "id": "ED_ntFCUlY2z",
        "colab_type": "code",
        "colab": {},
        "outputId": "c2cf2880-9cb1-4ad0-d1be-1cce5664eb99"
      },
      "source": [
        "lda2 = LinearDiscriminantAnalysis().fit(groupstandardisedX, y)\n",
        "pretty_scalings(lda2, groupstandardisedX)"
      ],
      "execution_count": null,
      "outputs": [
        {
          "output_type": "execute_result",
          "data": {
            "text/html": [
              "<div>\n",
              "<table border=\"1\" class=\"dataframe\">\n",
              "  <thead>\n",
              "    <tr style=\"text-align: right;\">\n",
              "      <th></th>\n",
              "      <th>LD1</th>\n",
              "      <th>LD2</th>\n",
              "    </tr>\n",
              "  </thead>\n",
              "  <tbody>\n",
              "    <tr>\n",
              "      <th>V2</th>\n",
              "      <td>-0.206505</td>\n",
              "      <td>0.446280</td>\n",
              "    </tr>\n",
              "    <tr>\n",
              "      <th>V3</th>\n",
              "      <td>0.155686</td>\n",
              "      <td>0.287697</td>\n",
              "    </tr>\n",
              "    <tr>\n",
              "      <th>V4</th>\n",
              "      <td>-0.094869</td>\n",
              "      <td>0.602989</td>\n",
              "    </tr>\n",
              "    <tr>\n",
              "      <th>V5</th>\n",
              "      <td>0.438021</td>\n",
              "      <td>-0.414204</td>\n",
              "    </tr>\n",
              "    <tr>\n",
              "      <th>V6</th>\n",
              "      <td>-0.029079</td>\n",
              "      <td>-0.006220</td>\n",
              "    </tr>\n",
              "    <tr>\n",
              "      <th>V7</th>\n",
              "      <td>0.270302</td>\n",
              "      <td>-0.014088</td>\n",
              "    </tr>\n",
              "    <tr>\n",
              "      <th>V8</th>\n",
              "      <td>-0.870673</td>\n",
              "      <td>-0.257869</td>\n",
              "    </tr>\n",
              "    <tr>\n",
              "      <th>V9</th>\n",
              "      <td>-0.163255</td>\n",
              "      <td>-0.178004</td>\n",
              "    </tr>\n",
              "    <tr>\n",
              "      <th>V10</th>\n",
              "      <td>0.066531</td>\n",
              "      <td>-0.152364</td>\n",
              "    </tr>\n",
              "    <tr>\n",
              "      <th>V11</th>\n",
              "      <td>0.536701</td>\n",
              "      <td>0.382783</td>\n",
              "    </tr>\n",
              "    <tr>\n",
              "      <th>V12</th>\n",
              "      <td>-0.128011</td>\n",
              "      <td>-0.237175</td>\n",
              "    </tr>\n",
              "    <tr>\n",
              "      <th>V13</th>\n",
              "      <td>-0.464149</td>\n",
              "      <td>0.020523</td>\n",
              "    </tr>\n",
              "    <tr>\n",
              "      <th>V14</th>\n",
              "      <td>-0.463854</td>\n",
              "      <td>0.491738</td>\n",
              "    </tr>\n",
              "  </tbody>\n",
              "</table>\n",
              "</div>"
            ],
            "text/plain": [
              "          LD1       LD2\n",
              "V2  -0.206505  0.446280\n",
              "V3   0.155686  0.287697\n",
              "V4  -0.094869  0.602989\n",
              "V5   0.438021 -0.414204\n",
              "V6  -0.029079 -0.006220\n",
              "V7   0.270302 -0.014088\n",
              "V8  -0.870673 -0.257869\n",
              "V9  -0.163255 -0.178004\n",
              "V10  0.066531 -0.152364\n",
              "V11  0.536701  0.382783\n",
              "V12 -0.128011 -0.237175\n",
              "V13 -0.464149  0.020523\n",
              "V14 -0.463854  0.491738"
            ]
          },
          "metadata": {
            "tags": []
          },
          "execution_count": 61
        }
      ]
    },
    {
      "cell_type": "markdown",
      "metadata": {
        "id": "HDtg5V5LlY22",
        "colab_type": "text"
      },
      "source": [
        "It makes sense to interpret the loadings calculated using the group-standardised variables rather than the loadings for the original (unstandardised) variables.\n",
        "\n",
        "In the first discriminant function calculated for the group-standardised variables, the largest loadings (in absolute) value are given to V8 (-0.871), V11 (0.537), V13 (-0.464), V14 (-0.464), and V5 (0.438). The loadings for V8, V13 and V14 are negative, while those for V11 and V5 are positive. Therefore, the discriminant function seems to represent a contrast between the concentrations of V8, V13 and V14, and the concentrations of V11 and V5.\n",
        "\n",
        "We saw above that the individual variables which gave the greatest separations between the groups were V8 (separation 233.93), V14 (207.92), V13 (189.97), V2 (135.08) and V11 (120.66). These were mostly the same variables that had the largest loadings in the linear discriminant function (loading for V8: -0.871, for V14: -0.464, for V13: -0.464, for V11: 0.537).\n",
        "\n",
        "We found above that variables V8 and V11 have a negative between-groups covariance (-60.41) and a positive within-groups covariance (0.29). When the between-groups covariance and within-groups covariance for two variables have opposite signs, it indicates that a better separation between groups can be obtained by using a linear combination of those two variables than by using either variable on its own.\n",
        "\n",
        "Thus, given that the two variables V8 and V11 have between-groups and within-groups covariances of opposite signs, and that these are two of the variables that gave the greatest separations between groups when used individually, it is not surprising that these are the two variables that have the largest loadings in the first discriminant function.\n",
        "\n",
        "Note that although the loadings for the group-standardised variables are easier to interpret than the loadings for the unstandardised variables, the values of the discriminant function are the same regardless of whether we standardise the input variables or not. For example, for wine data, we can calculate the value of the first discriminant function calculated using the unstandardised and group-standardised variables by typing:"
      ]
    },
    {
      "cell_type": "code",
      "metadata": {
        "id": "XpPSaXKGlY23",
        "colab_type": "code",
        "colab": {},
        "outputId": "b2357278-4cfb-4e0b-bd34-1593204a942d"
      },
      "source": [
        "lda.fit_transform(X, y)[:, 0]"
      ],
      "execution_count": null,
      "outputs": [
        {
          "output_type": "execute_result",
          "data": {
            "text/plain": [
              "array([-4.70024401, -4.30195811, -3.42071952, -4.20575366, -1.50998168,\n",
              "       -4.51868934, -4.52737794, -4.14834781, -3.86082876, -3.36662444,\n",
              "       -4.80587907, -3.42807646, -3.66610246, -5.58824635, -5.50131449,\n",
              "       -3.18475189, -3.28936988, -2.99809262, -5.24640372, -3.13653106,\n",
              "       -3.57747791, -1.69077135, -4.83515033, -3.09588961, -3.32164716,\n",
              "       -2.14482223, -3.9824285 , -2.68591432, -3.56309464, -3.17301573,\n",
              "       -2.99626797, -3.56866244, -3.38506383, -3.5275375 , -2.85190852,\n",
              "       -2.79411996, -2.75808511, -2.17734477, -3.02926382, -3.27105228,\n",
              "       -2.92065533, -2.23721062, -4.69972568, -1.23036133, -2.58203904,\n",
              "       -2.58312049, -3.88887889, -3.44975356, -2.34223331, -3.52062596,\n",
              "       -3.21840912, -4.38214896, -4.36311727, -3.51917293, -3.12277475,\n",
              "       -1.8024054 , -2.87378754, -3.61690518, -3.73868551,  1.58618749,\n",
              "        0.79967216,  2.38015446, -0.45917726, -0.50726885,  0.39398359,\n",
              "       -0.92256616, -1.95549377, -0.34732815,  0.20371212, -0.24831914,\n",
              "        1.17987999, -1.07718925,  0.64100179, -1.74684421, -0.34721117,\n",
              "        1.14274222,  0.18665882,  0.900525  , -0.70709551, -0.59562833,\n",
              "       -0.55761818, -1.80430417,  0.23077079,  2.03482711, -0.62113021,\n",
              "       -1.03372742,  0.76598781,  0.35042568,  0.15324508, -0.14962842,\n",
              "        0.48079504,  1.39689016,  0.91972331, -0.59102937,  0.49411386,\n",
              "       -1.62614426,  2.00044562, -1.00534818, -2.07121314, -1.6381589 ,\n",
              "       -1.0589434 ,  0.02594549, -0.21887407,  1.3643764 , -1.12901245,\n",
              "       -0.21263094, -0.77946884,  0.61546732,  0.22550192, -2.03869851,\n",
              "        0.79274716,  0.30229545, -0.50664882,  0.99837397, -0.21954922,\n",
              "       -0.37131517,  0.05545894, -0.09137874,  1.79755252, -0.17405009,\n",
              "       -1.17870281, -3.2105439 ,  0.62605202,  0.03366613, -0.6993008 ,\n",
              "       -0.72061079, -0.51933512,  1.17030045,  0.10824791,  1.12319783,\n",
              "        2.24632419,  3.28527755,  4.07236441,  3.86691235,  3.45088333,\n",
              "        3.71583899,  3.9222051 ,  4.8516102 ,  3.54993389,  3.76889174,\n",
              "        2.6694225 ,  2.32491492,  3.17712883,  2.88964418,  3.78325562,\n",
              "        3.04411324,  4.70697017,  4.85021393,  4.98359184,  4.86968293,\n",
              "        4.5986919 ,  5.67447884,  5.32986123,  5.03401031,  4.52080087,\n",
              "        5.0978371 ,  5.04368277,  4.86980829,  5.61316558,  5.67046737,\n",
              "        5.37413513,  3.09975377,  3.35888137,  3.04007194,  4.94861303,\n",
              "        4.54504458,  5.27255844,  5.13016117,  4.30468082,  5.08336782,\n",
              "        4.06743571,  5.74212961,  4.4820514 ,  4.29150758,  4.50329623,\n",
              "        5.04747033,  4.27615505,  5.5380861 ])"
            ]
          },
          "metadata": {
            "tags": []
          },
          "execution_count": 62
        }
      ]
    },
    {
      "cell_type": "code",
      "metadata": {
        "id": "G9a1AOC6lY26",
        "colab_type": "code",
        "colab": {},
        "outputId": "b7c8d9e1-acfb-484e-b9b3-6d8445705909"
      },
      "source": [
        "lda2.fit_transform(groupstandardisedX, y)[:, 0]"
      ],
      "execution_count": null,
      "outputs": [
        {
          "output_type": "execute_result",
          "data": {
            "text/plain": [
              "array([-4.70024401, -4.30195811, -3.42071952, -4.20575366, -1.50998168,\n",
              "       -4.51868934, -4.52737794, -4.14834781, -3.86082876, -3.36662444,\n",
              "       -4.80587907, -3.42807646, -3.66610246, -5.58824635, -5.50131449,\n",
              "       -3.18475189, -3.28936988, -2.99809262, -5.24640372, -3.13653106,\n",
              "       -3.57747791, -1.69077135, -4.83515033, -3.09588961, -3.32164716,\n",
              "       -2.14482223, -3.9824285 , -2.68591432, -3.56309464, -3.17301573,\n",
              "       -2.99626797, -3.56866244, -3.38506383, -3.5275375 , -2.85190852,\n",
              "       -2.79411996, -2.75808511, -2.17734477, -3.02926382, -3.27105228,\n",
              "       -2.92065533, -2.23721062, -4.69972568, -1.23036133, -2.58203904,\n",
              "       -2.58312049, -3.88887889, -3.44975356, -2.34223331, -3.52062596,\n",
              "       -3.21840912, -4.38214896, -4.36311727, -3.51917293, -3.12277475,\n",
              "       -1.8024054 , -2.87378754, -3.61690518, -3.73868551,  1.58618749,\n",
              "        0.79967216,  2.38015446, -0.45917726, -0.50726885,  0.39398359,\n",
              "       -0.92256616, -1.95549377, -0.34732815,  0.20371212, -0.24831914,\n",
              "        1.17987999, -1.07718925,  0.64100179, -1.74684421, -0.34721117,\n",
              "        1.14274222,  0.18665882,  0.900525  , -0.70709551, -0.59562833,\n",
              "       -0.55761818, -1.80430417,  0.23077079,  2.03482711, -0.62113021,\n",
              "       -1.03372742,  0.76598781,  0.35042568,  0.15324508, -0.14962842,\n",
              "        0.48079504,  1.39689016,  0.91972331, -0.59102937,  0.49411386,\n",
              "       -1.62614426,  2.00044562, -1.00534818, -2.07121314, -1.6381589 ,\n",
              "       -1.0589434 ,  0.02594549, -0.21887407,  1.3643764 , -1.12901245,\n",
              "       -0.21263094, -0.77946884,  0.61546732,  0.22550192, -2.03869851,\n",
              "        0.79274716,  0.30229545, -0.50664882,  0.99837397, -0.21954922,\n",
              "       -0.37131517,  0.05545894, -0.09137874,  1.79755252, -0.17405009,\n",
              "       -1.17870281, -3.2105439 ,  0.62605202,  0.03366613, -0.6993008 ,\n",
              "       -0.72061079, -0.51933512,  1.17030045,  0.10824791,  1.12319783,\n",
              "        2.24632419,  3.28527755,  4.07236441,  3.86691235,  3.45088333,\n",
              "        3.71583899,  3.9222051 ,  4.8516102 ,  3.54993389,  3.76889174,\n",
              "        2.6694225 ,  2.32491492,  3.17712883,  2.88964418,  3.78325562,\n",
              "        3.04411324,  4.70697017,  4.85021393,  4.98359184,  4.86968293,\n",
              "        4.5986919 ,  5.67447884,  5.32986123,  5.03401031,  4.52080087,\n",
              "        5.0978371 ,  5.04368277,  4.86980829,  5.61316558,  5.67046737,\n",
              "        5.37413513,  3.09975377,  3.35888137,  3.04007194,  4.94861303,\n",
              "        4.54504458,  5.27255844,  5.13016117,  4.30468082,  5.08336782,\n",
              "        4.06743571,  5.74212961,  4.4820514 ,  4.29150758,  4.50329623,\n",
              "        5.04747033,  4.27615505,  5.5380861 ])"
            ]
          },
          "metadata": {
            "tags": []
          },
          "execution_count": 63
        }
      ]
    },
    {
      "cell_type": "markdown",
      "metadata": {
        "id": "IHZ0tvJXlY29",
        "colab_type": "text"
      },
      "source": [
        "We can see that although the loadings are different for the first discriminant functions calculated using unstandardised and group-standardised data, the actual values of the first discriminant function are the same."
      ]
    },
    {
      "cell_type": "markdown",
      "metadata": {
        "id": "b2nDBOQJlY2-",
        "colab_type": "text"
      },
      "source": [
        "### Separation Achieved by the Discriminant Functions\n",
        "\n",
        "To calculate the separation achieved by each discriminant function, we first need to calculate the value of each discriminant function, by substituting the values of the variables into the linear combination for the discriminant function (eg. `-0.403*V2 - 0.165*V3 - 0.369*V4 + 0.155*V5 - 0.002*V6 + 0.618*V7 - 1.661*V8 - 1.496*V9 + 0.134*V10 + 0.355*V11 - 0.818*V12 - 1.158*V13 - 0.003*V14` for the first discriminant function), and then scaling the values of the discriminant function so that their mean is zero.\n",
        "\n",
        "As mentioned above, we can do this using the `rpredict()` function which simulates the output of the `predict()` function in R. For example, to calculate the value of the discriminant functions for the wine data, we type:"
      ]
    },
    {
      "cell_type": "code",
      "metadata": {
        "id": "JZxV65QTlY2-",
        "colab_type": "code",
        "colab": {},
        "outputId": "a4d5bc05-0be2-4162-80f6-9aff37531ea7"
      },
      "source": [
        "def rpredict(lda, X, y, out=False):\n",
        "    ret = {\"class\": lda.predict(X),\n",
        "           \"posterior\": pd.DataFrame(lda.predict_proba(X), columns=lda.classes_)}\n",
        "    ret[\"x\"] = pd.DataFrame(lda.fit_transform(X, y))\n",
        "    ret[\"x\"].columns = [\"LD\"+str(i+1) for i in range(ret[\"x\"].shape[1])]\n",
        "    if out:\n",
        "        print(\"class\")\n",
        "        print(ret[\"class\"])\n",
        "        print()\n",
        "        print(\"posterior\")\n",
        "        print(ret[\"posterior\"])\n",
        "        print()\n",
        "        print(\"x\")\n",
        "        print(ret[\"x\"])\n",
        "    return ret\n",
        "\n",
        "lda_values = rpredict(lda, standardisedX, y, True)"
      ],
      "execution_count": null,
      "outputs": [
        {
          "output_type": "stream",
          "text": [
            "class\n",
            "['2' '2' '2' '2' '2' '2' '2' '2' '2' '2' '2' '2' '2' '2' '2' '2' '2' '2'\n",
            " '2' '2' '2' '2' '2' '2' '2' '2' '2' '2' '2' '2' '2' '2' '2' '2' '2' '2'\n",
            " '2' '2' '2' '2' '2' '2' '2' '2' '2' '2' '2' '2' '2' '2' '2' '2' '2' '2'\n",
            " '2' '2' '2' '2' '2' '2' '2' '2' '2' '2' '2' '2' '2' '2' '2' '2' '2' '2'\n",
            " '2' '2' '2' '2' '2' '2' '2' '2' '2' '2' '2' '2' '2' '2' '2' '2' '2' '2'\n",
            " '2' '2' '2' '2' '2' '2' '3' '2' '2' '2' '2' '2' '2' '2' '2' '2' '2' '2'\n",
            " '2' '2' '2' '2' '2' '2' '2' '2' '2' '2' '2' '2' '2' '2' '2' '2' '2' '2'\n",
            " '2' '2' '2' '2' '3' '3' '3' '3' '2' '2' '2' '2' '2' '2' '2' '2' '2' '2'\n",
            " '3' '2' '3' '3' '3' '3' '3' '3' '3' '2' '2' '2' '3' '2' '3' '3' '2' '2'\n",
            " '2' '2' '3' '2' '3' '3' '3' '3' '2' '2' '3' '3' '3' '3' '2' '3']\n",
            "\n",
            "posterior\n",
            "                1         2         3\n",
            "0    1.344367e-22  0.999236  0.000764\n",
            "1    4.489007e-27  0.983392  0.016608\n",
            "2    2.228888e-24  0.791616  0.208384\n",
            "3    1.026755e-24  0.500161  0.499839\n",
            "4    6.371860e-23  0.790657  0.209343\n",
            "5    1.552082e-24  0.981986  0.018014\n",
            "6    3.354960e-23  0.951823  0.048177\n",
            "7    3.417899e-22  0.925154  0.074846\n",
            "8    4.041139e-26  0.978998  0.021002\n",
            "9    3.718868e-26  0.619841  0.380159\n",
            "..            ...       ...       ...\n",
            "168  7.463695e-30  0.500000  0.500000\n",
            "169  1.389203e-29  0.499927  0.500073\n",
            "170  1.356187e-33  0.500000  0.500000\n",
            "171  1.007615e-33  0.500000  0.500000\n",
            "172  1.524219e-30  0.500000  0.500000\n",
            "173  1.317492e-30  0.500000  0.500000\n",
            "174  2.664128e-32  0.500000  0.500000\n",
            "175  2.873436e-34  0.500000  0.500000\n",
            "176  1.479166e-32  0.500000  0.500000\n",
            "177  1.209888e-28  0.500000  0.500000\n",
            "\n",
            "[178 rows x 3 columns]\n",
            "\n",
            "x\n",
            "          LD1       LD2\n",
            "0   -4.700244  1.979138\n",
            "1   -4.301958  1.170413\n",
            "2   -3.420720  1.429101\n",
            "3   -4.205754  4.002871\n",
            "4   -1.509982  0.451224\n",
            "5   -4.518689  3.213138\n",
            "6   -4.527378  3.269122\n",
            "7   -4.148348  3.104118\n",
            "8   -3.860829  1.953383\n",
            "9   -3.366624  1.678643\n",
            "..        ...       ...\n",
            "168  4.304681  2.391125\n",
            "169  5.083368  3.157667\n",
            "170  4.067436  0.318922\n",
            "171  5.742130  1.467082\n",
            "172  4.482051  3.307084\n",
            "173  4.291508  3.390332\n",
            "174  4.503296  2.083546\n",
            "175  5.047470  3.196231\n",
            "176  4.276155  2.431388\n",
            "177  5.538086  3.042057\n",
            "\n",
            "[178 rows x 2 columns]\n"
          ],
          "name": "stdout"
        }
      ]
    },
    {
      "cell_type": "markdown",
      "metadata": {
        "id": "0oznME2tlY3C",
        "colab_type": "text"
      },
      "source": [
        "The returned variable has a named element `x` which is a matrix containing the linear discriminant functions: the first column of `x` contains the first discriminant function, the second column of `x` contains the second discriminant function, and so on (if there are more discriminant functions).\n",
        "\n",
        "We can therefore calculate the separations achieved by the two linear discriminant functions for the wine data by using the `calcSeparations()` function (see above), which calculates the separation as the ratio of the between-groups variance to the within-groups variance:"
      ]
    },
    {
      "cell_type": "code",
      "metadata": {
        "id": "oLEl2dGtlY3C",
        "colab_type": "code",
        "colab": {},
        "outputId": "cefcc970-3e84-4e8c-df38-3ff34429c96f"
      },
      "source": [
        "calcSeparations(lda_values[\"x\"], y)"
      ],
      "execution_count": null,
      "outputs": [
        {
          "output_type": "stream",
          "text": [
            "variable LD1 Vw= 1.0 Vb= 794.652200566 separation= 794.652200566\n",
            "variable LD2 Vw= 1.0 Vb= 361.241041493 separation= 361.241041493\n"
          ],
          "name": "stdout"
        }
      ]
    },
    {
      "cell_type": "markdown",
      "metadata": {
        "id": "XaLkrKCdlY3E",
        "colab_type": "text"
      },
      "source": [
        "As mentioned above, the loadings for each discriminant function are calculated in such a way that the within-group variance (`Vw`) for each group (wine cultivar here) is equal to 1, as we see in the output from `calcSeparations()` above.\n",
        "\n",
        "The output from `calcSeparations()` tells us that the separation achieved by the first (best) discriminant function is 794.7, and the separation achieved by the second (second best) discriminant function is 361.2.\n",
        "\n",
        "Therefore, the total separation is the sum of these, which is (`794.652200566216+361.241041493455=1155.893`) 1155.89, rounded to two decimal places. Therefore, the *percentage separation* achieved by the first discriminant function is (`794.652200566216*100/1155.893=`) 68.75%, and the percentage separation achieved by the second discriminant function is (`361.241041493455*100/1155.893=`) 31.25%.\n",
        "\n",
        "The *proportion of trace* (as reported in R by the `lda()` model) is the percentage separation achieved by each discriminant function. For example, for the wine data we get the same values as just calculated (68.75% and 31.25%). Note that in `sklearn` the proportion of trace is reported as `explained_variance_ratio_` in a `LinearDiscriminantAnalysis` model and is computed only for an \"eigen\" solver, while so far we have been using the default one, which is \"svd\" (Singular Value Decomposition):"
      ]
    },
    {
      "cell_type": "code",
      "metadata": {
        "id": "KKbYei0FlY3F",
        "colab_type": "code",
        "colab": {},
        "outputId": "59c3f062-54b1-4db2-e44c-1c4845fa3272"
      },
      "source": [
        "def proportion_of_trace(lda):\n",
        "    ret = pd.DataFrame([round(i, 4) for i in lda.explained_variance_ratio_ if round(i, 4) > 0], columns=[\"ExplainedVariance\"])\n",
        "    ret.index = [\"LD\"+str(i+1) for i in range(ret.shape[0])]\n",
        "    ret = ret.transpose()\n",
        "    print(\"Proportion of trace:\")\n",
        "    print(ret.to_string(index=False))\n",
        "    return ret\n",
        "\n",
        "proportion_of_trace(LinearDiscriminantAnalysis(solver=\"eigen\").fit(X, y));"
      ],
      "execution_count": null,
      "outputs": [
        {
          "output_type": "stream",
          "text": [
            "Proportion of trace:\n",
            "    LD1     LD2\n",
            " 0.6875  0.3125\n"
          ],
          "name": "stdout"
        }
      ]
    },
    {
      "cell_type": "markdown",
      "metadata": {
        "id": "SmXcmH9ulY3K",
        "colab_type": "text"
      },
      "source": [
        "Therefore, the first discriminant function does achieve a good separation between the three groups (three cultivars), but the second discriminant function does improve the separation of the groups by quite a large amount, so is it worth using the second discriminant function as well. Therefore, to achieve a good separation of the groups (cultivars), it is necessary to use both of the first two discriminant functions.\n",
        "\n",
        "We found above that the largest separation achieved for any of the individual variables (individual chemical concentrations) was 233.9 for V8, which is quite a lot less than 794.7, the separation achieved by the first discriminant function. Therefore, the effect of using more than one variable to calculate the discriminant function is that we can find a discriminant function that achieves a far greater separation between groups than achieved by any one variable alone."
      ]
    },
    {
      "cell_type": "markdown",
      "metadata": {
        "id": "cnuYdHOmlY3K",
        "colab_type": "text"
      },
      "source": [
        "### A Stacked Histogram of the LDA Values\n",
        "\n",
        "A nice way of displaying the results of a linear discriminant analysis (LDA) is to make a stacked histogram of the values of the discriminant function for the samples from different groups (different wine cultivars in our example).\n",
        "\n",
        "We can do this using the `ldahist()` function defined below."
      ]
    },
    {
      "cell_type": "code",
      "metadata": {
        "id": "Qml3QtgdlY3L",
        "colab_type": "code",
        "colab": {}
      },
      "source": [
        "def ldahist(data, g, sep=False):\n",
        "    xmin = np.trunc(np.min(data)) - 1\n",
        "    xmax = np.trunc(np.max(data)) + 1\n",
        "    ncol = len(set(g))\n",
        "    binwidth = 0.5\n",
        "    bins=np.arange(xmin, xmax + binwidth, binwidth)\n",
        "    if sep:\n",
        "        fig, axl = plt.subplots(ncol, 1, sharey=True, sharex=True)\n",
        "    else:\n",
        "        fig, axl = plt.subplots(1, 1, sharey=True, sharex=True)\n",
        "        axl = [axl]*ncol\n",
        "    for ax, (group, gdata) in zip(axl, data.groupby(g)):\n",
        "        sns.distplot(gdata.values, bins, ax=ax, label=\"group \"+str(group))\n",
        "        ax.set_xlim([xmin, xmax])\n",
        "        if sep:\n",
        "            ax.set_xlabel(\"group\"+str(group))\n",
        "        else:\n",
        "            ax.legend(loc='center left', bbox_to_anchor=(1, 0.5))\n",
        "    plt.tight_layout()"
      ],
      "execution_count": null,
      "outputs": []
    },
    {
      "cell_type": "markdown",
      "metadata": {
        "id": "tN6AzhwplY3P",
        "colab_type": "text"
      },
      "source": [
        "For example, to make a stacked histogram of the first discriminant function’s values for wine samples of the three different wine cultivars, we type:"
      ]
    },
    {
      "cell_type": "code",
      "metadata": {
        "id": "RuF-6nd5lY3P",
        "colab_type": "code",
        "colab": {},
        "outputId": "42536ee5-23f6-4e0b-de12-37951cf76883"
      },
      "source": [
        "ldahist(lda_values[\"x\"].LD1, y)"
      ],
      "execution_count": null,
      "outputs": [
        {
          "output_type": "display_data",
          "data": {
            "image/png": "[encoded data removed]",
            "text/plain": [
              "<matplotlib.figure.Figure at 0x113ed1ed0>"
            ]
          },
          "metadata": {
            "tags": []
          }
        }
      ]
    },
    {
      "cell_type": "markdown",
      "metadata": {
        "id": "pfvXaw7MlY3S",
        "colab_type": "text"
      },
      "source": [
        "We can see from the histogram that cultivars 1 and 3 are well separated by the first discriminant function, since the values for the first cultivar are between -6 and -1, while the values for cultivar 3 are between 2 and 6, and so there is no overlap in values.\n",
        "\n",
        "However, the separation achieved by the linear discriminant function on the training set may be an overestimate. To get a more accurate idea of how well the first discriminant function separates the groups, we would need to see a stacked histogram of the values for the three cultivars using some unseen “test set”, that is, using a set of data that was not used to calculate the linear discriminant function.\n",
        "\n",
        "We see that the first discriminant function separates cultivars 1 and 3 very well, but does not separate cultivars 1 and 2, or cultivars 2 and 3, so well.\n",
        "\n",
        "We therefore investigate whether the second discriminant function separates those cultivars, by making a stacked histogram of the second discriminant function’s values:"
      ]
    },
    {
      "cell_type": "code",
      "metadata": {
        "id": "BGoDQxmllY3T",
        "colab_type": "code",
        "colab": {},
        "outputId": "01b3d8ef-91ad-4bc2-af5b-2100a5a28bb4"
      },
      "source": [
        "ldahist(lda_values[\"x\"].LD2, y)"
      ],
      "execution_count": null,
      "outputs": [
        {
          "output_type": "display_data",
          "data": {
            "image/png": "[encoded data removed]",
            "text/plain": [
              "<matplotlib.figure.Figure at 0x113ed1c10>"
            ]
          },
          "metadata": {
            "tags": []
          }
        }
      ]
    },
    {
      "cell_type": "markdown",
      "metadata": {
        "id": "mZiTF8QNlY3V",
        "colab_type": "text"
      },
      "source": [
        "We see that the second discriminant function separates cultivars 1 and 2 quite well, although there is a little overlap in their values. Furthermore, the second discriminant function also separates cultivars 2 and 3 quite well, although again there is a little overlap in their values so it is not perfect.\n",
        "\n",
        "Thus, we see that two discriminant functions are necessary to separate the cultivars, as was discussed above (see the discussion of percentage separation above)."
      ]
    },
    {
      "cell_type": "markdown",
      "metadata": {
        "id": "8YZYWKn-lY3W",
        "colab_type": "text"
      },
      "source": [
        "### Scatterplots of the Discriminant Functions\n",
        "\n",
        "We can obtain a scatterplot of the best two discriminant functions, with the data points labelled by cultivar, by typing:"
      ]
    },
    {
      "cell_type": "code",
      "metadata": {
        "id": "qq0hzXTSlY3W",
        "colab_type": "code",
        "colab": {},
        "outputId": "5fcdf7e2-cfb7-41aa-bb40-75cfaf539620"
      },
      "source": [
        "sns.lmplot(\"LD1\", \"LD2\", lda_values[\"x\"].join(y), hue=\"V1\", fit_reg=False);"
      ],
      "execution_count": null,
      "outputs": [
        {
          "output_type": "display_data",
          "data": {
            "image/png": "[encoded data removed]",
            "text/plain": [
              "<matplotlib.figure.Figure at 0x114a17d10>"
            ]
          },
          "metadata": {
            "tags": []
          }
        }
      ]
    },
    {
      "cell_type": "markdown",
      "metadata": {
        "id": "2odxVqKNlY3Y",
        "colab_type": "text"
      },
      "source": [
        "From the scatterplot of the first two discriminant functions, we can see that the wines from the three cultivars are well separated in the scatterplot. The first discriminant function (x-axis) separates cultivars 1 and 3 very well, but doesn’t not perfectly separate cultivars 1 and 3, or cultivars 2 and 3.\n",
        "\n",
        "The second discriminant function (y-axis) achieves a fairly good separation of cultivars 1 and 3, and cultivars 2 and 3, although it is not totally perfect.\n",
        "\n",
        "To achieve a very good separation of the three cultivars, it would be best to use both the first and second discriminant functions together, since the first discriminant function can separate cultivars 1 and 3 very well, and the second discriminant function can separate cultivars 1 and 2, and cultivars 2 and 3, reasonably well."
      ]
    },
    {
      "cell_type": "markdown",
      "metadata": {
        "id": "VAFWHPxZlY3Z",
        "colab_type": "text"
      },
      "source": [
        "### Allocation Rules and Misclassification Rate\n",
        "\n",
        "We can calculate the mean values of the discriminant functions for each of the three cultivars using the `printMeanAndSdByGroup()` function (see above):"
      ]
    },
    {
      "cell_type": "code",
      "metadata": {
        "id": "gy1qzZ-klY3Z",
        "colab_type": "code",
        "colab": {},
        "outputId": "32c0293a-a258-4beb-d87e-75ddc3929a51"
      },
      "source": [
        "printMeanAndSdByGroup(lda_values[\"x\"], y);"
      ],
      "execution_count": null,
      "outputs": [
        {
          "output_type": "stream",
          "text": [
            "## Means:\n"
          ],
          "name": "stdout"
        },
        {
          "output_type": "display_data",
          "data": {
            "text/html": [
              "<div>\n",
              "<table border=\"1\" class=\"dataframe\">\n",
              "  <thead>\n",
              "    <tr style=\"text-align: right;\">\n",
              "      <th></th>\n",
              "      <th>LD1</th>\n",
              "      <th>LD2</th>\n",
              "    </tr>\n",
              "    <tr>\n",
              "      <th>V1</th>\n",
              "      <th></th>\n",
              "      <th></th>\n",
              "    </tr>\n",
              "  </thead>\n",
              "  <tbody>\n",
              "    <tr>\n",
              "      <th>1</th>\n",
              "      <td>-3.422489</td>\n",
              "      <td>1.691674</td>\n",
              "    </tr>\n",
              "    <tr>\n",
              "      <th>2</th>\n",
              "      <td>-0.079726</td>\n",
              "      <td>-2.472656</td>\n",
              "    </tr>\n",
              "    <tr>\n",
              "      <th>3</th>\n",
              "      <td>4.324737</td>\n",
              "      <td>1.578120</td>\n",
              "    </tr>\n",
              "  </tbody>\n",
              "</table>\n",
              "</div>"
            ],
            "text/plain": [
              "         LD1       LD2\n",
              "V1                    \n",
              "1  -3.422489  1.691674\n",
              "2  -0.079726 -2.472656\n",
              "3   4.324737  1.578120"
            ]
          },
          "metadata": {
            "tags": []
          }
        },
        {
          "output_type": "stream",
          "text": [
            "\n",
            "## Standard deviations:\n"
          ],
          "name": "stdout"
        },
        {
          "output_type": "display_data",
          "data": {
            "text/html": [
              "<div>\n",
              "<table border=\"1\" class=\"dataframe\">\n",
              "  <thead>\n",
              "    <tr style=\"text-align: right;\">\n",
              "      <th></th>\n",
              "      <th>LD1</th>\n",
              "      <th>LD2</th>\n",
              "    </tr>\n",
              "    <tr>\n",
              "      <th>V1</th>\n",
              "      <th></th>\n",
              "      <th></th>\n",
              "    </tr>\n",
              "  </thead>\n",
              "  <tbody>\n",
              "    <tr>\n",
              "      <th>1</th>\n",
              "      <td>0.931467</td>\n",
              "      <td>1.008978</td>\n",
              "    </tr>\n",
              "    <tr>\n",
              "      <th>2</th>\n",
              "      <td>1.076271</td>\n",
              "      <td>0.990268</td>\n",
              "    </tr>\n",
              "    <tr>\n",
              "      <th>3</th>\n",
              "      <td>0.930571</td>\n",
              "      <td>0.971586</td>\n",
              "    </tr>\n",
              "  </tbody>\n",
              "</table>\n",
              "</div>"
            ],
            "text/plain": [
              "         LD1       LD2\n",
              "V1                    \n",
              "1   0.931467  1.008978\n",
              "2   1.076271  0.990268\n",
              "3   0.930571  0.971586"
            ]
          },
          "metadata": {
            "tags": []
          }
        },
        {
          "output_type": "stream",
          "text": [
            "\n",
            "## Sample sizes:\n"
          ],
          "name": "stdout"
        },
        {
          "output_type": "display_data",
          "data": {
            "text/html": [
              "<div>\n",
              "<table border=\"1\" class=\"dataframe\">\n",
              "  <thead>\n",
              "    <tr style=\"text-align: right;\">\n",
              "      <th></th>\n",
              "      <th>0</th>\n",
              "    </tr>\n",
              "    <tr>\n",
              "      <th>V1</th>\n",
              "      <th></th>\n",
              "    </tr>\n",
              "  </thead>\n",
              "  <tbody>\n",
              "    <tr>\n",
              "      <th>1</th>\n",
              "      <td>59</td>\n",
              "    </tr>\n",
              "    <tr>\n",
              "      <th>2</th>\n",
              "      <td>71</td>\n",
              "    </tr>\n",
              "    <tr>\n",
              "      <th>3</th>\n",
              "      <td>48</td>\n",
              "    </tr>\n",
              "  </tbody>\n",
              "</table>\n",
              "</div>"
            ],
            "text/plain": [
              "     0\n",
              "V1    \n",
              "1   59\n",
              "2   71\n",
              "3   48"
            ]
          },
          "metadata": {
            "tags": []
          }
        }
      ]
    },
    {
      "cell_type": "markdown",
      "metadata": {
        "id": "wkiataOPlY3b",
        "colab_type": "text"
      },
      "source": [
        "We find that the mean value of the first discriminant function is -3.42248851 for cultivar 1, -0.07972623 for cultivar 2, and 4.32473717 for cultivar 3. The mid-way point between the mean values for cultivars 1 and 2 is (-3.42248851-0.07972623)/2=-1.751107, and the mid-way point between the mean values for cultivars 2 and 3 is (-0.07972623+4.32473717)/2 = 2.122505.\n",
        "\n",
        "Therefore, we can use the following allocation rule:\n",
        "* if the first discriminant function is <= -1.751107, predict the sample to be from cultivar 1\n",
        "* if the first discriminant function is > -1.751107 and <= 2.122505, predict the sample to be from cultivar 2\n",
        "* if the first discriminant function is > 2.122505, predict the sample to be from cultivar 3\n",
        "\n",
        "We can examine the accuracy of this allocation rule by using the `calcAllocationRuleAccuracy()` function below:"
      ]
    },
    {
      "cell_type": "code",
      "metadata": {
        "id": "jPidry_ElY3b",
        "colab_type": "code",
        "colab": {}
      },
      "source": [
        "def calcAllocationRuleAccuracy(ldavalue, groupvariable, cutoffpoints):\n",
        "    # find out how many values the group variable can take\n",
        "    levels = sorted(set((groupvariable)))\n",
        "    numlevels = len(levels)\n",
        "    confusion_matrix = []\n",
        "    # calculate the number of true positives and false negatives for each group\n",
        "    for i, leveli in enumerate(levels):\n",
        "        levelidata = ldavalue[groupvariable==leveli]\n",
        "        row = []\n",
        "        # see how many of the samples from this group are classified in each group\n",
        "        for j, levelj in enumerate(levels):\n",
        "            if j == 0:\n",
        "                cutoff1 = cutoffpoints[0]\n",
        "                cutoff2 = \"NA\"\n",
        "                results = (levelidata <= cutoff1).value_counts()\n",
        "            elif j == numlevels-1:\n",
        "                cutoff1 = cutoffpoints[numlevels-2]\n",
        "                cutoff2 = \"NA\"\n",
        "                results = (levelidata > cutoff1).value_counts()\n",
        "            else:\n",
        "                cutoff1 = cutoffpoints[j-1]\n",
        "                cutoff2 = cutoffpoints[j]\n",
        "                results = ((levelidata > cutoff1) & (levelidata <= cutoff2)).value_counts()\n",
        "            try:\n",
        "                trues = results[True]\n",
        "            except KeyError:\n",
        "                trues = 0\n",
        "            print(\"Number of samples of group\", leveli, \"classified as group\", levelj, \":\", trues, \"(cutoffs:\", cutoff1, \",\", cutoff2, \")\")\n",
        "            row.append(trues)\n",
        "        confusion_matrix.append(row)\n",
        "    return confusion_matrix"
      ],
      "execution_count": null,
      "outputs": []
    },
    {
      "cell_type": "markdown",
      "metadata": {
        "id": "8m_E9MuclY3d",
        "colab_type": "text"
      },
      "source": [
        "For example, to calculate the accuracy for the wine data based on the allocation rule for the first discriminant function, we type:"
      ]
    },
    {
      "cell_type": "code",
      "metadata": {
        "id": "H2SdrdQilY3d",
        "colab_type": "code",
        "colab": {},
        "outputId": "a586dc68-2cd4-47b6-bbf1-576a53b16c1e"
      },
      "source": [
        "confusion_matrix = calcAllocationRuleAccuracy(lda_values[\"x\"].iloc[:, 0], y, [-1.751107, 2.122505])"
      ],
      "execution_count": null,
      "outputs": [
        {
          "output_type": "stream",
          "text": [
            "Number of samples of group 1 classified as group 1 : 56 (cutoffs: -1.751107 , NA )\n",
            "Number of samples of group 1 classified as group 2 : 3 (cutoffs: -1.751107 , 2.122505 )\n",
            "Number of samples of group 1 classified as group 3 : 0 (cutoffs: 2.122505 , NA )\n",
            "Number of samples of group 2 classified as group 1 : 5 (cutoffs: -1.751107 , NA )\n",
            "Number of samples of group 2 classified as group 2 : 65 (cutoffs: -1.751107 , 2.122505 )\n",
            "Number of samples of group 2 classified as group 3 : 1 (cutoffs: 2.122505 , NA )\n",
            "Number of samples of group 3 classified as group 1 : 0 (cutoffs: -1.751107 , NA )\n",
            "Number of samples of group 3 classified as group 2 : 0 (cutoffs: -1.751107 , 2.122505 )\n",
            "Number of samples of group 3 classified as group 3 : 48 (cutoffs: 2.122505 , NA )\n"
          ],
          "name": "stdout"
        }
      ]
    },
    {
      "cell_type": "markdown",
      "metadata": {
        "id": "vs7d1xA9lY3f",
        "colab_type": "text"
      },
      "source": [
        "This can be displayed in a *confusion matrix*:"
      ]
    },
    {
      "cell_type": "code",
      "metadata": {
        "id": "6s0EbsNSlY3f",
        "colab_type": "code",
        "colab": {},
        "outputId": "72fe7150-9439-46e9-b0f9-b9a4d946e013"
      },
      "source": [
        "def webprint_confusion_matrix(confusion_matrix, classes_names):\n",
        "    display(pd.DataFrame(confusion_matrix, index=[\"Is group \"+i for i in classes_names], columns=[\"Allocated to group \"+i for i in classes_names]))\n",
        "\n",
        "webprint_confusion_matrix(confusion_matrix, lda.classes_)"
      ],
      "execution_count": null,
      "outputs": [
        {
          "output_type": "display_data",
          "data": {
            "text/html": [
              "<div>\n",
              "<table border=\"1\" class=\"dataframe\">\n",
              "  <thead>\n",
              "    <tr style=\"text-align: right;\">\n",
              "      <th></th>\n",
              "      <th>Allocated to group 1</th>\n",
              "      <th>Allocated to group 2</th>\n",
              "      <th>Allocated to group 3</th>\n",
              "    </tr>\n",
              "  </thead>\n",
              "  <tbody>\n",
              "    <tr>\n",
              "      <th>Is group 1</th>\n",
              "      <td>56</td>\n",
              "      <td>3</td>\n",
              "      <td>0</td>\n",
              "    </tr>\n",
              "    <tr>\n",
              "      <th>Is group 2</th>\n",
              "      <td>5</td>\n",
              "      <td>65</td>\n",
              "      <td>1</td>\n",
              "    </tr>\n",
              "    <tr>\n",
              "      <th>Is group 3</th>\n",
              "      <td>0</td>\n",
              "      <td>0</td>\n",
              "      <td>48</td>\n",
              "    </tr>\n",
              "  </tbody>\n",
              "</table>\n",
              "</div>"
            ],
            "text/plain": [
              "            Allocated to group 1  Allocated to group 2  Allocated to group 3\n",
              "Is group 1                    56                     3                     0\n",
              "Is group 2                     5                    65                     1\n",
              "Is group 3                     0                     0                    48"
            ]
          },
          "metadata": {
            "tags": []
          }
        }
      ]
    },
    {
      "cell_type": "markdown",
      "metadata": {
        "id": "ywnYLqFVlY3h",
        "colab_type": "text"
      },
      "source": [
        "There are 3+5+1=9 wine samples that are misclassified, out of (56+3+5+65+1+48=) 178 wine samples: 3 samples from cultivar 1 are predicted to be from cultivar 2, 5 samples from cultivar 2 are predicted to be from cultivar 1, and 1 sample from cultivar 2 is predicted to be from cultivar 3. Therefore, the misclassification rate is 9/178, or 5.1%. The misclassification rate is quite low, and therefore the accuracy of the allocation rule appears to be relatively high.\n",
        "\n",
        "However, this is probably an underestimate of the misclassification rate, as the allocation rule was based on this data (this is the *training set*). If we calculated the misclassification rate for a separate *test set* consisting of data other than that used to make the allocation rule, we would probably get a higher estimate of the misclassification rate."
      ]
    },
    {
      "cell_type": "markdown",
      "metadata": {
        "id": "Khn4dBlelY3h",
        "colab_type": "text"
      },
      "source": [
        "#### The Python way\n",
        "\n",
        "Python allows to do all the above in a much faster way and providing extended automatic report capabilities by using the `sklearn.metrics` module. The above confusion matrix and reporting typical performance metrics, such as *precision*, *recall*, *f1-score* can be done in python as follows:"
      ]
    },
    {
      "cell_type": "code",
      "metadata": {
        "id": "dzrqExsqlY3h",
        "colab_type": "code",
        "colab": {}
      },
      "source": [
        "import sklearn.metrics as metrics\n",
        "\n",
        "def lda_classify(v, levels, cutoffpoints):\n",
        "    for level, cutoff in zip(reversed(levels), reversed(cutoffpoints)):\n",
        "        if v > cutoff: return level\n",
        "    return levels[0]\n",
        "    \n",
        "y_pred = lda_values[\"x\"].iloc[:, 0].apply(lda_classify, args=(lda.classes_, [-1.751107, 2.122505],)).values\n",
        "y_true = y"
      ],
      "execution_count": null,
      "outputs": []
    },
    {
      "cell_type": "code",
      "metadata": {
        "id": "oXNqBT3zlY3j",
        "colab_type": "code",
        "colab": {},
        "outputId": "dc8b89eb-da1c-45a1-ca95-27e7af4e7f45"
      },
      "source": [
        "# from http://scikit-learn.org/stable/auto_examples/model_selection/plot_confusion_matrix.html#example-model-selection-plot-confusion-matrix-py\n",
        "def plot_confusion_matrix(cm, target_names, title='Confusion matrix', cmap=plt.cm.Blues):\n",
        "    plt.imshow(cm, interpolation='nearest', cmap=cmap)\n",
        "    plt.title(title)\n",
        "    plt.colorbar()\n",
        "    tick_marks = np.arange(len(target_names))\n",
        "    plt.xticks(tick_marks, target_names, rotation=45)\n",
        "    plt.yticks(tick_marks, target_names)\n",
        "    plt.tight_layout()\n",
        "    plt.ylabel('True label')\n",
        "    plt.xlabel('Predicted label')\n",
        "\n",
        "print(metrics.classification_report(y_true, y_pred))\n",
        "cm = metrics.confusion_matrix(y_true, y_pred)\n",
        "webprint_confusion_matrix(cm, lda.classes_)\n",
        "cm_normalized = cm.astype('float') / cm.sum(axis=1)[:, np.newaxis]\n",
        "plot_confusion_matrix(cm_normalized, lda.classes_, title='Normalized confusion matrix')"
      ],
      "execution_count": null,
      "outputs": [
        {
          "output_type": "stream",
          "text": [
            "             precision    recall  f1-score   support\n",
            "\n",
            "          1       0.92      0.95      0.93        59\n",
            "          2       0.96      0.92      0.94        71\n",
            "          3       0.98      1.00      0.99        48\n",
            "\n",
            "avg / total       0.95      0.95      0.95       178\n",
            "\n"
          ],
          "name": "stdout"
        },
        {
          "output_type": "display_data",
          "data": {
            "text/html": [
              "<div>\n",
              "<table border=\"1\" class=\"dataframe\">\n",
              "  <thead>\n",
              "    <tr style=\"text-align: right;\">\n",
              "      <th></th>\n",
              "      <th>Allocated to group 1</th>\n",
              "      <th>Allocated to group 2</th>\n",
              "      <th>Allocated to group 3</th>\n",
              "    </tr>\n",
              "  </thead>\n",
              "  <tbody>\n",
              "    <tr>\n",
              "      <th>Is group 1</th>\n",
              "      <td>56</td>\n",
              "      <td>3</td>\n",
              "      <td>0</td>\n",
              "    </tr>\n",
              "    <tr>\n",
              "      <th>Is group 2</th>\n",
              "      <td>5</td>\n",
              "      <td>65</td>\n",
              "      <td>1</td>\n",
              "    </tr>\n",
              "    <tr>\n",
              "      <th>Is group 3</th>\n",
              "      <td>0</td>\n",
              "      <td>0</td>\n",
              "      <td>48</td>\n",
              "    </tr>\n",
              "  </tbody>\n",
              "</table>\n",
              "</div>"
            ],
            "text/plain": [
              "            Allocated to group 1  Allocated to group 2  Allocated to group 3\n",
              "Is group 1                    56                     3                     0\n",
              "Is group 2                     5                    65                     1\n",
              "Is group 3                     0                     0                    48"
            ]
          },
          "metadata": {
            "tags": []
          }
        },
        {
          "output_type": "display_data",
          "data": {
            "image/png": "[encoded data removed]",
            "text/plain": [
              "<matplotlib.figure.Figure at 0x114fdfe10>"
            ]
          },
          "metadata": {
            "tags": []
          }
        }
      ]
    },
    {
      "cell_type": "markdown",
      "metadata": {
        "id": "g-lvSuRdlY3o",
        "colab_type": "text"
      },
      "source": [
        "## Links and Further Reading\n",
        "\n",
        "Here are some info and links for further reading.\n",
        "\n",
        "To learn about multivariate analysis I would recommend the following:\n",
        "* [Multivariate Data Analysis](http://www.bookbutler.co.uk/compare?isbn=9781292021904) by Hair et. al.\n",
        "* [Applied Multivariate Data Analysis](http://www.bookbutler.co.uk/compare?isbn=9780340741221) by Everitt and Dunn.\n",
        "\n",
        "If you are new to python then you can read one of the overwhelming number of tutorials that exist on the web. Here are a couple of links:\n",
        "* The [official tutorial](https://docs.python.org/2/tutorial/) by the Python organization. Extensive covering pretty much everything in core python and with lots of detailed non-interactive examples.\n",
        "* For those that prefer learning by doing through interactive tutorials here are some good ones I would recommend:\n",
        "    * [Codeacademy Python tutorial](https://www.codecademy.com/learn/python)\n",
        "    * [learnpython.org](http://www.learnpython.org)\n",
        "\n",
        "To learn about data analysis and data science using the Python ecosystem I would recommend the following:\n",
        "* [Python for Data Analysis](http://shop.oreilly.com/product/0636920023784.do) by Wes McKinney\n",
        "* [Data Science from Scratch](http://shop.oreilly.com/product/0636920033400.do) by Joel Grus\n",
        "\n",
        "To learn about doing machine learning in Python using scikit-learn I would recommend:\n",
        "* The [scikit-learn homepage](http://scikit-learn.org) not only has excellent documentation and examples, but also provides useful and clear resources about machine learning methods.\n",
        "* [Python Machine Learning](https://www.packtpub.com/big-data-and-business-intelligence/python-machine-learning) by Sebastian Raschka\n",
        "\n",
        "The visualizations here were produced using [matplotlib](http://matplotlib.org) and [seaborn](http://stanford.edu/~mwaskom/software/seaborn/). Their homepages have extensive documentation about their APIs and tons of examples.\n",
        "\n",
        "Although Python is self-sufficient, fairly extensive and probably growing more rapidly than any other scientific language, if the need arises that you need to use R for whatever reason, then you are able to do so within Python itself via the [`rpy2` library](http://rpy2.readthedocs.org). "
      ]
    },
    {
      "cell_type": "markdown",
      "metadata": {
        "id": "UA-h0QOIlY3o",
        "colab_type": "text"
      },
      "source": [
        "## Acknowledgements\n",
        "\n",
        "I would like to thank [Avril Coghlan](http://www.sanger.ac.uk/research/projects/parasitegenomics/), Wellcome Trust Sanger Institute, Cambridge, U.K. for her excellent resource [A Little Book of R for Multivariate Analysis](https://little-book-of-r-for-multivariate-analysis.readthedocs.org) and releasing it under a [CC-BY-3.0 License](https://creativecommons.org), hence, allowing this translation from R to Python. All kudos to her.\n",
        "\n",
        "As the original, many of the examples in this booklet are inspired by examples in the Open University book, \"Multivariate Analysis\" (product code M249/03).\n",
        "\n",
        "I am also grateful to the UCI Machine Learning Repository, http://archive.ics.uci.edu/ml, for making data sets available which were used in the examples in this booklet."
      ]
    },
    {
      "cell_type": "markdown",
      "metadata": {
        "id": "UBRx6w4NlY3o",
        "colab_type": "text"
      },
      "source": [
        "## Contact\n",
        "\n",
        "I will be grateful if you will send me ([Yiannis Gatsoulis](http://gats.me)) corrections or suggestions for improvements to my email address [gatsoulis AT gmail DOT com](mailto:gatsoulis@gmail.com)."
      ]
    },
    {
      "cell_type": "markdown",
      "metadata": {
        "id": "-Udlwf7zlY3p",
        "colab_type": "text"
      },
      "source": [
        "## License\n",
        "\n",
        "<a rel=\"license\" href=\"http://creativecommons.org/licenses/by-sa/4.0/\"><img alt=\"Creative Commons License\" style=\"border-width:0\" src=\"https://i.creativecommons.org/l/by-sa/4.0/88x31.png\" /></a><br /><span xmlns:dct=\"http://purl.org/dc/terms/\" property=\"dct:title\">A Little Book of Python for Multivariate Analysis</span> by <span xmlns:cc=\"http://creativecommons.org/ns#\" property=\"cc:attributionName\">Yiannis Gatsoulis</span> is licensed under a <a rel=\"license\" href=\"http://creativecommons.org/licenses/by-sa/4.0/\">Creative Commons Attribution-ShareAlike 4.0 International License</a>.<br />Based on a work at <a xmlns:dct=\"http://purl.org/dc/terms/\" href=\"https://little-book-of-r-for-multivariate-analysis.readthedocs.org/en/latest/src/multivariateanalysis.html\" rel=\"dct:source\">A Little Book of R for Multivariate Analysis</a> by Avril Coghlan licensed under [CC-BY-3.0](http://creativecommons.org/licenses/by/3.0/)."
      ]
    }
  ]
}